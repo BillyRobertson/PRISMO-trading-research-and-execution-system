{
 "cells": [
  {
   "cell_type": "code",
   "execution_count": null,
   "metadata": {},
   "outputs": [],
   "source": [
    "import sys\n",
    "sys.path.append('C:/Users/Billy/Documents/PRISMO/Backtester')\n",
    "from multiprocessing import Process\n",
    "import pandas as pd\n",
    "import numpy as np\n",
    "import pickle\n",
    "import matplotlib.pyplot as plt\n",
    "import time\n",
    "import random\n",
    "from mathCode.johansenMain import coint_johansen\n",
    "from tqdm import tqdm_notebook\n",
    "from IPython.display import clear_output\n",
    "import itertools\n",
    "import datetime\n",
    "import os\n",
    "from base_model_backtest import backtest\n",
    "import random\n",
    "# from pandas_datareader import data as pdr\n",
    "import logging\n",
    "from pandas.plotting import register_matplotlib_converters\n",
    "# from functionSource import *\n",
    "from operator import itemgetter\n",
    "import statsmodels.api as sm\n",
    "\n",
    "register_matplotlib_converters()\n",
    "formatter = logging.Formatter('%(asctime)s %(levelname)s %(message)s')\n",
    "plt.style.use(['ggplot'])\n"
   ]
  },
  {
   "cell_type": "code",
   "execution_count": null,
   "metadata": {},
   "outputs": [],
   "source": [
    "%load_ext autoreload\n",
    "%autoreload 2"
   ]
  },
  {
   "cell_type": "code",
   "execution_count": null,
   "metadata": {},
   "outputs": [],
   "source": [
    "data = pickle.load(open( \"D:/PRISMO/historicalData/Data/asx200nobiasFINAL.pickle\", \"rb\" ) )\n",
    "data = pickle.load(open('D:/PRISMO/historicalData/data/asx200nobiasFINAL.pickle','rb'))\n",
    "data_ = data.xs('OPEN',axis=1,level=1).dropna()\n",
    "stocks = data_.columns"
   ]
  },
  {
   "cell_type": "code",
   "execution_count": null,
   "metadata": {},
   "outputs": [],
   "source": [
    "data_close.head()"
   ]
  },
  {
   "cell_type": "code",
   "execution_count": null,
   "metadata": {},
   "outputs": [],
   "source": [
    "data = pickle.load(open( \"D:/PRISMO/historicalData/Data/asx200nobiasFINAL.pickle\", \"rb\" ) )\n",
    "data = pickle.load(open('D:/PRISMO/historicalData/data/asx200nobiasFINAL.pickle','rb'))\n",
    "data_ = data.xs('OPEN',axis=1,level=1).dropna()\n",
    "stocks = data_.columns\n",
    "#Concatenate open and close prices\n",
    "data_open = data.xs('OPEN',axis=1,level=1)\n",
    "data_open.index = data_open.index+pd.Timedelta(10,'H')\n",
    "data_close = data.xs('CLOSE',axis=1,level=1)\n",
    "data_close.index = data_open.index+pd.Timedelta(16,'H')\n",
    "openAndClose = pd.concat([data_open,data_close]).sort_index()\n",
    "stocks = openAndClose.columns"
   ]
  },
  {
   "cell_type": "code",
   "execution_count": 250,
   "metadata": {},
   "outputs": [
    {
     "data": {
      "text/plain": [
       "True"
      ]
     },
     "execution_count": 250,
     "metadata": {},
     "output_type": "execute_result"
    }
   ],
   "source": [
    "'CCX.AX' in openAndClose.columns"
   ]
  },
  {
   "cell_type": "code",
   "execution_count": 254,
   "metadata": {},
   "outputs": [
    {
     "name": "stdout",
     "output_type": "stream",
     "text": [
      "('ORG.AX', 'WOW.AX')\n"
     ]
    },
    {
     "name": "stderr",
     "output_type": "stream",
     "text": [
      "c:\\users\\billy\\appdata\\local\\programs\\python\\python36\\lib\\site-packages\\statsmodels\\regression\\linear_model.py:1638: RuntimeWarning: invalid value encountered in double_scalars\n",
      "  return 1 - self.ssr/self.uncentered_tss\n",
      "c:\\users\\billy\\appdata\\local\\programs\\python\\python36\\lib\\site-packages\\statsmodels\\regression\\linear_model.py:1636: RuntimeWarning: invalid value encountered in double_scalars\n",
      "  return 1 - self.ssr/self.centered_tss\n"
     ]
    },
    {
     "name": "stdout",
     "output_type": "stream",
     "text": [
      "('ORG.AX', 'WOW.AX')\n"
     ]
    },
    {
     "name": "stderr",
     "output_type": "stream",
     "text": [
      "c:\\users\\billy\\appdata\\local\\programs\\python\\python36\\lib\\site-packages\\statsmodels\\regression\\linear_model.py:1638: RuntimeWarning: invalid value encountered in double_scalars\n",
      "  return 1 - self.ssr/self.uncentered_tss\n"
     ]
    },
    {
     "name": "stdout",
     "output_type": "stream",
     "text": [
      "('ORG.AX', 'WOW.AX')\n"
     ]
    },
    {
     "name": "stderr",
     "output_type": "stream",
     "text": [
      "c:\\users\\billy\\appdata\\local\\programs\\python\\python36\\lib\\site-packages\\statsmodels\\regression\\linear_model.py:1638: RuntimeWarning: invalid value encountered in double_scalars\n",
      "  return 1 - self.ssr/self.uncentered_tss\n"
     ]
    },
    {
     "name": "stdout",
     "output_type": "stream",
     "text": [
      "('ORG.AX', 'WOW.AX')\n"
     ]
    },
    {
     "name": "stderr",
     "output_type": "stream",
     "text": [
      "c:\\users\\billy\\appdata\\local\\programs\\python\\python36\\lib\\site-packages\\statsmodels\\regression\\linear_model.py:1638: RuntimeWarning: invalid value encountered in double_scalars\n",
      "  return 1 - self.ssr/self.uncentered_tss\n"
     ]
    },
    {
     "name": "stdout",
     "output_type": "stream",
     "text": [
      "('ORG.AX', 'WOW.AX')\n"
     ]
    },
    {
     "name": "stderr",
     "output_type": "stream",
     "text": [
      "c:\\users\\billy\\appdata\\local\\programs\\python\\python36\\lib\\site-packages\\statsmodels\\regression\\linear_model.py:1638: RuntimeWarning: invalid value encountered in double_scalars\n",
      "  return 1 - self.ssr/self.uncentered_tss\n"
     ]
    },
    {
     "name": "stdout",
     "output_type": "stream",
     "text": [
      "('ORG.AX', 'WOW.AX')\n"
     ]
    },
    {
     "name": "stderr",
     "output_type": "stream",
     "text": [
      "c:\\users\\billy\\appdata\\local\\programs\\python\\python36\\lib\\site-packages\\statsmodels\\regression\\linear_model.py:1638: RuntimeWarning: invalid value encountered in double_scalars\n",
      "  return 1 - self.ssr/self.uncentered_tss\n"
     ]
    },
    {
     "name": "stdout",
     "output_type": "stream",
     "text": [
      "('ORG.AX', 'WOW.AX')\n"
     ]
    },
    {
     "name": "stderr",
     "output_type": "stream",
     "text": [
      "c:\\users\\billy\\appdata\\local\\programs\\python\\python36\\lib\\site-packages\\statsmodels\\regression\\linear_model.py:1638: RuntimeWarning: invalid value encountered in double_scalars\n",
      "  return 1 - self.ssr/self.uncentered_tss\n"
     ]
    },
    {
     "name": "stdout",
     "output_type": "stream",
     "text": [
      "('ORG.AX', 'WOW.AX')\n"
     ]
    },
    {
     "name": "stderr",
     "output_type": "stream",
     "text": [
      "c:\\users\\billy\\appdata\\local\\programs\\python\\python36\\lib\\site-packages\\statsmodels\\regression\\linear_model.py:1638: RuntimeWarning: invalid value encountered in double_scalars\n",
      "  return 1 - self.ssr/self.uncentered_tss\n"
     ]
    },
    {
     "name": "stdout",
     "output_type": "stream",
     "text": [
      "('ORG.AX', 'WPL.AX')\n"
     ]
    },
    {
     "name": "stderr",
     "output_type": "stream",
     "text": [
      "c:\\users\\billy\\appdata\\local\\programs\\python\\python36\\lib\\site-packages\\statsmodels\\regression\\linear_model.py:1638: RuntimeWarning: invalid value encountered in double_scalars\n",
      "  return 1 - self.ssr/self.uncentered_tss\n",
      "c:\\users\\billy\\appdata\\local\\programs\\python\\python36\\lib\\site-packages\\statsmodels\\regression\\linear_model.py:1636: RuntimeWarning: invalid value encountered in double_scalars\n",
      "  return 1 - self.ssr/self.centered_tss\n"
     ]
    },
    {
     "name": "stdout",
     "output_type": "stream",
     "text": [
      "('ORG.AX', 'WPL.AX')\n"
     ]
    },
    {
     "name": "stderr",
     "output_type": "stream",
     "text": [
      "c:\\users\\billy\\appdata\\local\\programs\\python\\python36\\lib\\site-packages\\statsmodels\\regression\\linear_model.py:1638: RuntimeWarning: invalid value encountered in double_scalars\n",
      "  return 1 - self.ssr/self.uncentered_tss\n",
      "c:\\users\\billy\\appdata\\local\\programs\\python\\python36\\lib\\site-packages\\statsmodels\\regression\\linear_model.py:1636: RuntimeWarning: invalid value encountered in double_scalars\n",
      "  return 1 - self.ssr/self.centered_tss\n"
     ]
    },
    {
     "name": "stdout",
     "output_type": "stream",
     "text": [
      "('ORG.AX', 'WPL.AX')\n"
     ]
    },
    {
     "name": "stderr",
     "output_type": "stream",
     "text": [
      "c:\\users\\billy\\appdata\\local\\programs\\python\\python36\\lib\\site-packages\\statsmodels\\regression\\linear_model.py:1638: RuntimeWarning: invalid value encountered in double_scalars\n",
      "  return 1 - self.ssr/self.uncentered_tss\n",
      "c:\\users\\billy\\appdata\\local\\programs\\python\\python36\\lib\\site-packages\\statsmodels\\regression\\linear_model.py:1636: RuntimeWarning: invalid value encountered in double_scalars\n",
      "  return 1 - self.ssr/self.centered_tss\n"
     ]
    },
    {
     "name": "stdout",
     "output_type": "stream",
     "text": [
      "('ORG.AX', 'WPL.AX')\n"
     ]
    },
    {
     "name": "stderr",
     "output_type": "stream",
     "text": [
      "c:\\users\\billy\\appdata\\local\\programs\\python\\python36\\lib\\site-packages\\statsmodels\\regression\\linear_model.py:1638: RuntimeWarning: invalid value encountered in double_scalars\n",
      "  return 1 - self.ssr/self.uncentered_tss\n"
     ]
    },
    {
     "name": "stdout",
     "output_type": "stream",
     "text": [
      "('ORG.AX', 'WPL.AX')\n"
     ]
    },
    {
     "name": "stderr",
     "output_type": "stream",
     "text": [
      "c:\\users\\billy\\appdata\\local\\programs\\python\\python36\\lib\\site-packages\\statsmodels\\regression\\linear_model.py:1638: RuntimeWarning: invalid value encountered in double_scalars\n",
      "  return 1 - self.ssr/self.uncentered_tss\n"
     ]
    },
    {
     "name": "stdout",
     "output_type": "stream",
     "text": [
      "('ORG.AX', 'WPL.AX')\n"
     ]
    },
    {
     "name": "stderr",
     "output_type": "stream",
     "text": [
      "c:\\users\\billy\\appdata\\local\\programs\\python\\python36\\lib\\site-packages\\statsmodels\\regression\\linear_model.py:1638: RuntimeWarning: invalid value encountered in double_scalars\n",
      "  return 1 - self.ssr/self.uncentered_tss\n"
     ]
    },
    {
     "name": "stdout",
     "output_type": "stream",
     "text": [
      "('ORG.AX', 'WPL.AX')\n"
     ]
    },
    {
     "name": "stderr",
     "output_type": "stream",
     "text": [
      "c:\\users\\billy\\appdata\\local\\programs\\python\\python36\\lib\\site-packages\\statsmodels\\regression\\linear_model.py:1638: RuntimeWarning: invalid value encountered in double_scalars\n",
      "  return 1 - self.ssr/self.uncentered_tss\n"
     ]
    },
    {
     "name": "stdout",
     "output_type": "stream",
     "text": [
      "('ORG.AX', 'WPL.AX')\n"
     ]
    },
    {
     "name": "stderr",
     "output_type": "stream",
     "text": [
      "c:\\users\\billy\\appdata\\local\\programs\\python\\python36\\lib\\site-packages\\statsmodels\\regression\\linear_model.py:1638: RuntimeWarning: invalid value encountered in double_scalars\n",
      "  return 1 - self.ssr/self.uncentered_tss\n"
     ]
    },
    {
     "name": "stdout",
     "output_type": "stream",
     "text": [
      "('ORG.AX', 'WBC.AX')\n"
     ]
    },
    {
     "name": "stderr",
     "output_type": "stream",
     "text": [
      "c:\\users\\billy\\appdata\\local\\programs\\python\\python36\\lib\\site-packages\\statsmodels\\regression\\linear_model.py:1636: RuntimeWarning: invalid value encountered in double_scalars\n",
      "  return 1 - self.ssr/self.centered_tss\n",
      "c:\\users\\billy\\appdata\\local\\programs\\python\\python36\\lib\\site-packages\\statsmodels\\regression\\linear_model.py:1638: RuntimeWarning: invalid value encountered in double_scalars\n",
      "  return 1 - self.ssr/self.uncentered_tss\n"
     ]
    },
    {
     "name": "stdout",
     "output_type": "stream",
     "text": [
      "('ORG.AX', 'WBC.AX')\n"
     ]
    },
    {
     "name": "stderr",
     "output_type": "stream",
     "text": [
      "c:\\users\\billy\\appdata\\local\\programs\\python\\python36\\lib\\site-packages\\statsmodels\\regression\\linear_model.py:1638: RuntimeWarning: invalid value encountered in double_scalars\n",
      "  return 1 - self.ssr/self.uncentered_tss\n",
      "c:\\users\\billy\\appdata\\local\\programs\\python\\python36\\lib\\site-packages\\statsmodels\\regression\\linear_model.py:1636: RuntimeWarning: invalid value encountered in double_scalars\n",
      "  return 1 - self.ssr/self.centered_tss\n"
     ]
    },
    {
     "name": "stdout",
     "output_type": "stream",
     "text": [
      "('ORG.AX', 'WBC.AX')\n"
     ]
    },
    {
     "name": "stderr",
     "output_type": "stream",
     "text": [
      "c:\\users\\billy\\appdata\\local\\programs\\python\\python36\\lib\\site-packages\\statsmodels\\regression\\linear_model.py:1638: RuntimeWarning: invalid value encountered in double_scalars\n",
      "  return 1 - self.ssr/self.uncentered_tss\n",
      "c:\\users\\billy\\appdata\\local\\programs\\python\\python36\\lib\\site-packages\\statsmodels\\regression\\linear_model.py:1636: RuntimeWarning: invalid value encountered in double_scalars\n",
      "  return 1 - self.ssr/self.centered_tss\n"
     ]
    },
    {
     "name": "stdout",
     "output_type": "stream",
     "text": [
      "('ORG.AX', 'WBC.AX')\n"
     ]
    },
    {
     "name": "stderr",
     "output_type": "stream",
     "text": [
      "c:\\users\\billy\\appdata\\local\\programs\\python\\python36\\lib\\site-packages\\statsmodels\\regression\\linear_model.py:1638: RuntimeWarning: invalid value encountered in double_scalars\n",
      "  return 1 - self.ssr/self.uncentered_tss\n"
     ]
    },
    {
     "name": "stdout",
     "output_type": "stream",
     "text": [
      "('ORG.AX', 'WBC.AX')\n"
     ]
    },
    {
     "name": "stderr",
     "output_type": "stream",
     "text": [
      "c:\\users\\billy\\appdata\\local\\programs\\python\\python36\\lib\\site-packages\\statsmodels\\regression\\linear_model.py:1638: RuntimeWarning: invalid value encountered in double_scalars\n",
      "  return 1 - self.ssr/self.uncentered_tss\n"
     ]
    },
    {
     "name": "stdout",
     "output_type": "stream",
     "text": [
      "('ORG.AX', 'WBC.AX')\n"
     ]
    },
    {
     "name": "stderr",
     "output_type": "stream",
     "text": [
      "c:\\users\\billy\\appdata\\local\\programs\\python\\python36\\lib\\site-packages\\statsmodels\\regression\\linear_model.py:1638: RuntimeWarning: invalid value encountered in double_scalars\n",
      "  return 1 - self.ssr/self.uncentered_tss\n"
     ]
    },
    {
     "name": "stdout",
     "output_type": "stream",
     "text": [
      "('ORG.AX', 'WBC.AX')\n"
     ]
    },
    {
     "name": "stderr",
     "output_type": "stream",
     "text": [
      "c:\\users\\billy\\appdata\\local\\programs\\python\\python36\\lib\\site-packages\\statsmodels\\regression\\linear_model.py:1638: RuntimeWarning: invalid value encountered in double_scalars\n",
      "  return 1 - self.ssr/self.uncentered_tss\n"
     ]
    },
    {
     "name": "stdout",
     "output_type": "stream",
     "text": [
      "('ORG.AX', 'WBC.AX')\n"
     ]
    },
    {
     "name": "stderr",
     "output_type": "stream",
     "text": [
      "c:\\users\\billy\\appdata\\local\\programs\\python\\python36\\lib\\site-packages\\statsmodels\\regression\\linear_model.py:1638: RuntimeWarning: invalid value encountered in double_scalars\n",
      "  return 1 - self.ssr/self.uncentered_tss\n"
     ]
    },
    {
     "name": "stdout",
     "output_type": "stream",
     "text": [
      "('ORG.AX', 'WFANA.AX^H00')\n",
      "('ORG.AX', 'WFANA.AX^H00')\n",
      "('ORG.AX', 'WFANA.AX^H00')\n",
      "('ORG.AX', 'WFANA.AX^H00')\n",
      "('ORG.AX', 'WFANA.AX^H00')\n",
      "('ORG.AX', 'WFANA.AX^H00')\n",
      "('ORG.AX', 'WFANA.AX^H00')\n",
      "('ORG.AX', 'WFANA.AX^H00')\n",
      "('ORG.AX', 'WFA.AX^F17')\n",
      "index -1 is out of bounds for axis 0 with size 0\n",
      "('ORG.AX', 'WFA.AX^F17')\n",
      "index -1 is out of bounds for axis 0 with size 0\n",
      "('ORG.AX', 'WFA.AX^F17')\n",
      "index -1 is out of bounds for axis 0 with size 0\n",
      "('ORG.AX', 'WFA.AX^F17')\n",
      "index -1 is out of bounds for axis 0 with size 0\n",
      "('ORG.AX', 'WFA.AX^F17')\n",
      "index -1 is out of bounds for axis 0 with size 0\n",
      "('ORG.AX', 'WFA.AX^F17')\n",
      "index -1 is out of bounds for axis 0 with size 0\n",
      "('ORG.AX', 'WFA.AX^F17')\n",
      "index -1 is out of bounds for axis 0 with size 0\n",
      "('ORG.AX', 'WFA.AX^F17')\n",
      "index -1 is out of bounds for axis 0 with size 0\n",
      "('ORG.AX', 'ART.AX^H03')\n",
      "('ORG.AX', 'ART.AX^H03')\n",
      "('ORG.AX', 'ART.AX^H03')\n",
      "('ORG.AX', 'ART.AX^H03')\n",
      "('ORG.AX', 'ART.AX^H03')\n",
      "('ORG.AX', 'ART.AX^H03')\n",
      "('ORG.AX', 'ART.AX^H03')\n",
      "('ORG.AX', 'ART.AX^H03')\n",
      "('ORG.AX', 'WES.AX')\n"
     ]
    },
    {
     "name": "stderr",
     "output_type": "stream",
     "text": [
      "c:\\users\\billy\\appdata\\local\\programs\\python\\python36\\lib\\site-packages\\statsmodels\\regression\\linear_model.py:1638: RuntimeWarning: invalid value encountered in double_scalars\n",
      "  return 1 - self.ssr/self.uncentered_tss\n",
      "c:\\users\\billy\\appdata\\local\\programs\\python\\python36\\lib\\site-packages\\statsmodels\\regression\\linear_model.py:1636: RuntimeWarning: invalid value encountered in double_scalars\n",
      "  return 1 - self.ssr/self.centered_tss\n"
     ]
    },
    {
     "name": "stdout",
     "output_type": "stream",
     "text": [
      "('ORG.AX', 'WES.AX')\n"
     ]
    },
    {
     "name": "stderr",
     "output_type": "stream",
     "text": [
      "c:\\users\\billy\\appdata\\local\\programs\\python\\python36\\lib\\site-packages\\statsmodels\\regression\\linear_model.py:1638: RuntimeWarning: invalid value encountered in double_scalars\n",
      "  return 1 - self.ssr/self.uncentered_tss\n",
      "c:\\users\\billy\\appdata\\local\\programs\\python\\python36\\lib\\site-packages\\statsmodels\\regression\\linear_model.py:1636: RuntimeWarning: invalid value encountered in double_scalars\n",
      "  return 1 - self.ssr/self.centered_tss\n"
     ]
    },
    {
     "name": "stdout",
     "output_type": "stream",
     "text": [
      "('ORG.AX', 'WES.AX')\n"
     ]
    },
    {
     "name": "stderr",
     "output_type": "stream",
     "text": [
      "c:\\users\\billy\\appdata\\local\\programs\\python\\python36\\lib\\site-packages\\statsmodels\\regression\\linear_model.py:1638: RuntimeWarning: invalid value encountered in double_scalars\n",
      "  return 1 - self.ssr/self.uncentered_tss\n",
      "c:\\users\\billy\\appdata\\local\\programs\\python\\python36\\lib\\site-packages\\statsmodels\\regression\\linear_model.py:1636: RuntimeWarning: invalid value encountered in double_scalars\n",
      "  return 1 - self.ssr/self.centered_tss\n"
     ]
    },
    {
     "name": "stdout",
     "output_type": "stream",
     "text": [
      "('ORG.AX', 'WES.AX')\n"
     ]
    },
    {
     "name": "stderr",
     "output_type": "stream",
     "text": [
      "c:\\users\\billy\\appdata\\local\\programs\\python\\python36\\lib\\site-packages\\statsmodels\\regression\\linear_model.py:1638: RuntimeWarning: invalid value encountered in double_scalars\n",
      "  return 1 - self.ssr/self.uncentered_tss\n",
      "c:\\users\\billy\\appdata\\local\\programs\\python\\python36\\lib\\site-packages\\statsmodels\\regression\\linear_model.py:1636: RuntimeWarning: invalid value encountered in double_scalars\n",
      "  return 1 - self.ssr/self.centered_tss\n"
     ]
    },
    {
     "name": "stdout",
     "output_type": "stream",
     "text": [
      "('ORG.AX', 'WES.AX')\n"
     ]
    },
    {
     "name": "stderr",
     "output_type": "stream",
     "text": [
      "c:\\users\\billy\\appdata\\local\\programs\\python\\python36\\lib\\site-packages\\statsmodels\\regression\\linear_model.py:1638: RuntimeWarning: invalid value encountered in double_scalars\n",
      "  return 1 - self.ssr/self.uncentered_tss\n",
      "c:\\users\\billy\\appdata\\local\\programs\\python\\python36\\lib\\site-packages\\statsmodels\\regression\\linear_model.py:1636: RuntimeWarning: invalid value encountered in double_scalars\n",
      "  return 1 - self.ssr/self.centered_tss\n"
     ]
    },
    {
     "name": "stdout",
     "output_type": "stream",
     "text": [
      "('ORG.AX', 'WES.AX')\n"
     ]
    },
    {
     "name": "stderr",
     "output_type": "stream",
     "text": [
      "c:\\users\\billy\\appdata\\local\\programs\\python\\python36\\lib\\site-packages\\statsmodels\\regression\\linear_model.py:1638: RuntimeWarning: invalid value encountered in double_scalars\n",
      "  return 1 - self.ssr/self.uncentered_tss\n",
      "c:\\users\\billy\\appdata\\local\\programs\\python\\python36\\lib\\site-packages\\statsmodels\\regression\\linear_model.py:1636: RuntimeWarning: invalid value encountered in double_scalars\n",
      "  return 1 - self.ssr/self.centered_tss\n"
     ]
    },
    {
     "name": "stdout",
     "output_type": "stream",
     "text": [
      "('ORG.AX', 'WES.AX')\n"
     ]
    },
    {
     "name": "stderr",
     "output_type": "stream",
     "text": [
      "c:\\users\\billy\\appdata\\local\\programs\\python\\python36\\lib\\site-packages\\statsmodels\\regression\\linear_model.py:1638: RuntimeWarning: invalid value encountered in double_scalars\n",
      "  return 1 - self.ssr/self.uncentered_tss\n",
      "c:\\users\\billy\\appdata\\local\\programs\\python\\python36\\lib\\site-packages\\statsmodels\\regression\\linear_model.py:1636: RuntimeWarning: invalid value encountered in double_scalars\n",
      "  return 1 - self.ssr/self.centered_tss\n"
     ]
    },
    {
     "name": "stdout",
     "output_type": "stream",
     "text": [
      "('ORG.AX', 'WES.AX')\n"
     ]
    },
    {
     "name": "stderr",
     "output_type": "stream",
     "text": [
      "c:\\users\\billy\\appdata\\local\\programs\\python\\python36\\lib\\site-packages\\statsmodels\\regression\\linear_model.py:1638: RuntimeWarning: invalid value encountered in double_scalars\n",
      "  return 1 - self.ssr/self.uncentered_tss\n",
      "c:\\users\\billy\\appdata\\local\\programs\\python\\python36\\lib\\site-packages\\statsmodels\\regression\\linear_model.py:1636: RuntimeWarning: invalid value encountered in double_scalars\n",
      "  return 1 - self.ssr/self.centered_tss\n"
     ]
    },
    {
     "name": "stdout",
     "output_type": "stream",
     "text": [
      "('ORG.AX', 'VRLPA.AX^L10')\n"
     ]
    },
    {
     "name": "stderr",
     "output_type": "stream",
     "text": [
      "c:\\users\\billy\\appdata\\local\\programs\\python\\python36\\lib\\site-packages\\statsmodels\\regression\\linear_model.py:1638: RuntimeWarning: invalid value encountered in double_scalars\n",
      "  return 1 - self.ssr/self.uncentered_tss\n",
      "c:\\users\\billy\\appdata\\local\\programs\\python\\python36\\lib\\site-packages\\statsmodels\\regression\\linear_model.py:1636: RuntimeWarning: invalid value encountered in double_scalars\n",
      "  return 1 - self.ssr/self.centered_tss\n"
     ]
    },
    {
     "name": "stdout",
     "output_type": "stream",
     "text": [
      "('ORG.AX', 'VRLPA.AX^L10')\n"
     ]
    },
    {
     "name": "stderr",
     "output_type": "stream",
     "text": [
      "c:\\users\\billy\\appdata\\local\\programs\\python\\python36\\lib\\site-packages\\statsmodels\\regression\\linear_model.py:1638: RuntimeWarning: invalid value encountered in double_scalars\n",
      "  return 1 - self.ssr/self.uncentered_tss\n",
      "c:\\users\\billy\\appdata\\local\\programs\\python\\python36\\lib\\site-packages\\statsmodels\\regression\\linear_model.py:1636: RuntimeWarning: invalid value encountered in double_scalars\n",
      "  return 1 - self.ssr/self.centered_tss\n"
     ]
    },
    {
     "name": "stdout",
     "output_type": "stream",
     "text": [
      "('ORG.AX', 'VRLPA.AX^L10')\n"
     ]
    },
    {
     "name": "stderr",
     "output_type": "stream",
     "text": [
      "c:\\users\\billy\\appdata\\local\\programs\\python\\python36\\lib\\site-packages\\statsmodels\\regression\\linear_model.py:1638: RuntimeWarning: invalid value encountered in double_scalars\n",
      "  return 1 - self.ssr/self.uncentered_tss\n",
      "c:\\users\\billy\\appdata\\local\\programs\\python\\python36\\lib\\site-packages\\statsmodels\\regression\\linear_model.py:1636: RuntimeWarning: invalid value encountered in double_scalars\n",
      "  return 1 - self.ssr/self.centered_tss\n"
     ]
    },
    {
     "name": "stdout",
     "output_type": "stream",
     "text": [
      "('ORG.AX', 'VRLPA.AX^L10')\n"
     ]
    },
    {
     "name": "stderr",
     "output_type": "stream",
     "text": [
      "c:\\users\\billy\\appdata\\local\\programs\\python\\python36\\lib\\site-packages\\statsmodels\\regression\\linear_model.py:1638: RuntimeWarning: invalid value encountered in double_scalars\n",
      "  return 1 - self.ssr/self.uncentered_tss\n",
      "c:\\users\\billy\\appdata\\local\\programs\\python\\python36\\lib\\site-packages\\statsmodels\\regression\\linear_model.py:1636: RuntimeWarning: invalid value encountered in double_scalars\n",
      "  return 1 - self.ssr/self.centered_tss\n"
     ]
    },
    {
     "name": "stdout",
     "output_type": "stream",
     "text": [
      "('ORG.AX', 'VRLPA.AX^L10')\n"
     ]
    },
    {
     "name": "stderr",
     "output_type": "stream",
     "text": [
      "c:\\users\\billy\\appdata\\local\\programs\\python\\python36\\lib\\site-packages\\statsmodels\\regression\\linear_model.py:1638: RuntimeWarning: invalid value encountered in double_scalars\n",
      "  return 1 - self.ssr/self.uncentered_tss\n",
      "c:\\users\\billy\\appdata\\local\\programs\\python\\python36\\lib\\site-packages\\statsmodels\\regression\\linear_model.py:1636: RuntimeWarning: invalid value encountered in double_scalars\n",
      "  return 1 - self.ssr/self.centered_tss\n"
     ]
    },
    {
     "name": "stdout",
     "output_type": "stream",
     "text": [
      "('ORG.AX', 'VRLPA.AX^L10')\n"
     ]
    },
    {
     "name": "stderr",
     "output_type": "stream",
     "text": [
      "c:\\users\\billy\\appdata\\local\\programs\\python\\python36\\lib\\site-packages\\statsmodels\\regression\\linear_model.py:1636: RuntimeWarning: invalid value encountered in double_scalars\n",
      "  return 1 - self.ssr/self.centered_tss\n",
      "c:\\users\\billy\\appdata\\local\\programs\\python\\python36\\lib\\site-packages\\statsmodels\\regression\\linear_model.py:1638: RuntimeWarning: invalid value encountered in double_scalars\n",
      "  return 1 - self.ssr/self.uncentered_tss\n"
     ]
    },
    {
     "name": "stdout",
     "output_type": "stream",
     "text": [
      "('ORG.AX', 'VRLPA.AX^L10')\n"
     ]
    },
    {
     "name": "stderr",
     "output_type": "stream",
     "text": [
      "c:\\users\\billy\\appdata\\local\\programs\\python\\python36\\lib\\site-packages\\statsmodels\\regression\\linear_model.py:1636: RuntimeWarning: invalid value encountered in double_scalars\n",
      "  return 1 - self.ssr/self.centered_tss\n",
      "c:\\users\\billy\\appdata\\local\\programs\\python\\python36\\lib\\site-packages\\statsmodels\\regression\\linear_model.py:1638: RuntimeWarning: invalid value encountered in double_scalars\n",
      "  return 1 - self.ssr/self.uncentered_tss\n"
     ]
    },
    {
     "name": "stdout",
     "output_type": "stream",
     "text": [
      "('ORG.AX', 'VRLPA.AX^L10')\n"
     ]
    },
    {
     "name": "stderr",
     "output_type": "stream",
     "text": [
      "c:\\users\\billy\\appdata\\local\\programs\\python\\python36\\lib\\site-packages\\statsmodels\\regression\\linear_model.py:1636: RuntimeWarning: invalid value encountered in double_scalars\n",
      "  return 1 - self.ssr/self.centered_tss\n",
      "c:\\users\\billy\\appdata\\local\\programs\\python\\python36\\lib\\site-packages\\statsmodels\\regression\\linear_model.py:1638: RuntimeWarning: invalid value encountered in double_scalars\n",
      "  return 1 - self.ssr/self.uncentered_tss\n"
     ]
    },
    {
     "name": "stdout",
     "output_type": "stream",
     "text": [
      "('ORG.AX', 'VRL.AX')\n"
     ]
    },
    {
     "name": "stderr",
     "output_type": "stream",
     "text": [
      "c:\\users\\billy\\appdata\\local\\programs\\python\\python36\\lib\\site-packages\\statsmodels\\regression\\linear_model.py:1638: RuntimeWarning: invalid value encountered in double_scalars\n",
      "  return 1 - self.ssr/self.uncentered_tss\n",
      "c:\\users\\billy\\appdata\\local\\programs\\python\\python36\\lib\\site-packages\\statsmodels\\regression\\linear_model.py:1636: RuntimeWarning: invalid value encountered in double_scalars\n",
      "  return 1 - self.ssr/self.centered_tss\n"
     ]
    },
    {
     "name": "stdout",
     "output_type": "stream",
     "text": [
      "('ORG.AX', 'VRL.AX')\n"
     ]
    },
    {
     "name": "stderr",
     "output_type": "stream",
     "text": [
      "c:\\users\\billy\\appdata\\local\\programs\\python\\python36\\lib\\site-packages\\statsmodels\\regression\\linear_model.py:1638: RuntimeWarning: invalid value encountered in double_scalars\n",
      "  return 1 - self.ssr/self.uncentered_tss\n"
     ]
    },
    {
     "name": "stdout",
     "output_type": "stream",
     "text": [
      "('ORG.AX', 'VRL.AX')\n"
     ]
    },
    {
     "name": "stderr",
     "output_type": "stream",
     "text": [
      "c:\\users\\billy\\appdata\\local\\programs\\python\\python36\\lib\\site-packages\\statsmodels\\regression\\linear_model.py:1638: RuntimeWarning: invalid value encountered in double_scalars\n",
      "  return 1 - self.ssr/self.uncentered_tss\n"
     ]
    },
    {
     "name": "stdout",
     "output_type": "stream",
     "text": [
      "('ORG.AX', 'VRL.AX')\n"
     ]
    },
    {
     "name": "stderr",
     "output_type": "stream",
     "text": [
      "c:\\users\\billy\\appdata\\local\\programs\\python\\python36\\lib\\site-packages\\statsmodels\\regression\\linear_model.py:1638: RuntimeWarning: invalid value encountered in double_scalars\n",
      "  return 1 - self.ssr/self.uncentered_tss\n"
     ]
    },
    {
     "name": "stdout",
     "output_type": "stream",
     "text": [
      "('ORG.AX', 'VRL.AX')\n"
     ]
    },
    {
     "name": "stderr",
     "output_type": "stream",
     "text": [
      "c:\\users\\billy\\appdata\\local\\programs\\python\\python36\\lib\\site-packages\\statsmodels\\regression\\linear_model.py:1638: RuntimeWarning: invalid value encountered in double_scalars\n",
      "  return 1 - self.ssr/self.uncentered_tss\n"
     ]
    },
    {
     "name": "stdout",
     "output_type": "stream",
     "text": [
      "('ORG.AX', 'VRL.AX')\n"
     ]
    },
    {
     "name": "stderr",
     "output_type": "stream",
     "text": [
      "c:\\users\\billy\\appdata\\local\\programs\\python\\python36\\lib\\site-packages\\statsmodels\\regression\\linear_model.py:1638: RuntimeWarning: invalid value encountered in double_scalars\n",
      "  return 1 - self.ssr/self.uncentered_tss\n"
     ]
    },
    {
     "name": "stdout",
     "output_type": "stream",
     "text": [
      "('ORG.AX', 'VRL.AX')\n"
     ]
    },
    {
     "name": "stderr",
     "output_type": "stream",
     "text": [
      "c:\\users\\billy\\appdata\\local\\programs\\python\\python36\\lib\\site-packages\\statsmodels\\regression\\linear_model.py:1638: RuntimeWarning: invalid value encountered in double_scalars\n",
      "  return 1 - self.ssr/self.uncentered_tss\n"
     ]
    },
    {
     "name": "stdout",
     "output_type": "stream",
     "text": [
      "('ORG.AX', 'VRL.AX')\n"
     ]
    },
    {
     "name": "stderr",
     "output_type": "stream",
     "text": [
      "c:\\users\\billy\\appdata\\local\\programs\\python\\python36\\lib\\site-packages\\statsmodels\\regression\\linear_model.py:1638: RuntimeWarning: invalid value encountered in double_scalars\n",
      "  return 1 - self.ssr/self.uncentered_tss\n"
     ]
    },
    {
     "name": "stdout",
     "output_type": "stream",
     "text": [
      "('ORG.AX', 'VID.AX^G09')\n"
     ]
    },
    {
     "name": "stderr",
     "output_type": "stream",
     "text": [
      "c:\\users\\billy\\appdata\\local\\programs\\python\\python36\\lib\\site-packages\\statsmodels\\regression\\linear_model.py:1638: RuntimeWarning: invalid value encountered in double_scalars\n",
      "  return 1 - self.ssr/self.uncentered_tss\n",
      "c:\\users\\billy\\appdata\\local\\programs\\python\\python36\\lib\\site-packages\\statsmodels\\regression\\linear_model.py:1636: RuntimeWarning: invalid value encountered in double_scalars\n",
      "  return 1 - self.ssr/self.centered_tss\n"
     ]
    },
    {
     "name": "stdout",
     "output_type": "stream",
     "text": [
      "('ORG.AX', 'VID.AX^G09')\n"
     ]
    },
    {
     "name": "stderr",
     "output_type": "stream",
     "text": [
      "c:\\users\\billy\\appdata\\local\\programs\\python\\python36\\lib\\site-packages\\statsmodels\\regression\\linear_model.py:1638: RuntimeWarning: invalid value encountered in double_scalars\n",
      "  return 1 - self.ssr/self.uncentered_tss\n",
      "c:\\users\\billy\\appdata\\local\\programs\\python\\python36\\lib\\site-packages\\statsmodels\\regression\\linear_model.py:1636: RuntimeWarning: invalid value encountered in double_scalars\n",
      "  return 1 - self.ssr/self.centered_tss\n"
     ]
    },
    {
     "name": "stdout",
     "output_type": "stream",
     "text": [
      "('ORG.AX', 'VID.AX^G09')\n"
     ]
    },
    {
     "name": "stderr",
     "output_type": "stream",
     "text": [
      "c:\\users\\billy\\appdata\\local\\programs\\python\\python36\\lib\\site-packages\\statsmodels\\regression\\linear_model.py:1638: RuntimeWarning: invalid value encountered in double_scalars\n",
      "  return 1 - self.ssr/self.uncentered_tss\n",
      "c:\\users\\billy\\appdata\\local\\programs\\python\\python36\\lib\\site-packages\\statsmodels\\regression\\linear_model.py:1636: RuntimeWarning: invalid value encountered in double_scalars\n",
      "  return 1 - self.ssr/self.centered_tss\n"
     ]
    },
    {
     "name": "stdout",
     "output_type": "stream",
     "text": [
      "('ORG.AX', 'VID.AX^G09')\n"
     ]
    },
    {
     "name": "stderr",
     "output_type": "stream",
     "text": [
      "c:\\users\\billy\\appdata\\local\\programs\\python\\python36\\lib\\site-packages\\statsmodels\\regression\\linear_model.py:1638: RuntimeWarning: invalid value encountered in double_scalars\n",
      "  return 1 - self.ssr/self.uncentered_tss\n",
      "c:\\users\\billy\\appdata\\local\\programs\\python\\python36\\lib\\site-packages\\statsmodels\\regression\\linear_model.py:1636: RuntimeWarning: invalid value encountered in double_scalars\n",
      "  return 1 - self.ssr/self.centered_tss\n"
     ]
    },
    {
     "name": "stdout",
     "output_type": "stream",
     "text": [
      "('ORG.AX', 'VID.AX^G09')\n"
     ]
    },
    {
     "name": "stderr",
     "output_type": "stream",
     "text": [
      "c:\\users\\billy\\appdata\\local\\programs\\python\\python36\\lib\\site-packages\\statsmodels\\regression\\linear_model.py:1638: RuntimeWarning: invalid value encountered in double_scalars\n",
      "  return 1 - self.ssr/self.uncentered_tss\n",
      "c:\\users\\billy\\appdata\\local\\programs\\python\\python36\\lib\\site-packages\\statsmodels\\regression\\linear_model.py:1636: RuntimeWarning: invalid value encountered in double_scalars\n",
      "  return 1 - self.ssr/self.centered_tss\n"
     ]
    },
    {
     "name": "stdout",
     "output_type": "stream",
     "text": [
      "('ORG.AX', 'VID.AX^G09')\n"
     ]
    },
    {
     "name": "stderr",
     "output_type": "stream",
     "text": [
      "c:\\users\\billy\\appdata\\local\\programs\\python\\python36\\lib\\site-packages\\statsmodels\\regression\\linear_model.py:1638: RuntimeWarning: invalid value encountered in double_scalars\n",
      "  return 1 - self.ssr/self.uncentered_tss\n",
      "c:\\users\\billy\\appdata\\local\\programs\\python\\python36\\lib\\site-packages\\statsmodels\\regression\\linear_model.py:1636: RuntimeWarning: invalid value encountered in double_scalars\n",
      "  return 1 - self.ssr/self.centered_tss\n"
     ]
    },
    {
     "name": "stdout",
     "output_type": "stream",
     "text": [
      "('ORG.AX', 'VID.AX^G09')\n"
     ]
    },
    {
     "name": "stderr",
     "output_type": "stream",
     "text": [
      "c:\\users\\billy\\appdata\\local\\programs\\python\\python36\\lib\\site-packages\\statsmodels\\regression\\linear_model.py:1638: RuntimeWarning: invalid value encountered in double_scalars\n",
      "  return 1 - self.ssr/self.uncentered_tss\n",
      "c:\\users\\billy\\appdata\\local\\programs\\python\\python36\\lib\\site-packages\\statsmodels\\regression\\linear_model.py:1636: RuntimeWarning: invalid value encountered in double_scalars\n",
      "  return 1 - self.ssr/self.centered_tss\n"
     ]
    },
    {
     "name": "stdout",
     "output_type": "stream",
     "text": [
      "('ORG.AX', 'VID.AX^G09')\n"
     ]
    },
    {
     "name": "stderr",
     "output_type": "stream",
     "text": [
      "c:\\users\\billy\\appdata\\local\\programs\\python\\python36\\lib\\site-packages\\statsmodels\\regression\\linear_model.py:1638: RuntimeWarning: invalid value encountered in double_scalars\n",
      "  return 1 - self.ssr/self.uncentered_tss\n",
      "c:\\users\\billy\\appdata\\local\\programs\\python\\python36\\lib\\site-packages\\statsmodels\\regression\\linear_model.py:1636: RuntimeWarning: invalid value encountered in double_scalars\n",
      "  return 1 - self.ssr/self.centered_tss\n"
     ]
    },
    {
     "name": "stdout",
     "output_type": "stream",
     "text": [
      "('ORG.AX', 'WYL.AX^I10')\n"
     ]
    },
    {
     "name": "stderr",
     "output_type": "stream",
     "text": [
      "c:\\users\\billy\\appdata\\local\\programs\\python\\python36\\lib\\site-packages\\statsmodels\\regression\\linear_model.py:1638: RuntimeWarning: invalid value encountered in double_scalars\n",
      "  return 1 - self.ssr/self.uncentered_tss\n",
      "c:\\users\\billy\\appdata\\local\\programs\\python\\python36\\lib\\site-packages\\statsmodels\\regression\\linear_model.py:1636: RuntimeWarning: invalid value encountered in double_scalars\n",
      "  return 1 - self.ssr/self.centered_tss\n"
     ]
    },
    {
     "name": "stdout",
     "output_type": "stream",
     "text": [
      "('ORG.AX', 'WYL.AX^I10')\n"
     ]
    },
    {
     "name": "stderr",
     "output_type": "stream",
     "text": [
      "c:\\users\\billy\\appdata\\local\\programs\\python\\python36\\lib\\site-packages\\statsmodels\\regression\\linear_model.py:1638: RuntimeWarning: invalid value encountered in double_scalars\n",
      "  return 1 - self.ssr/self.uncentered_tss\n"
     ]
    },
    {
     "name": "stdout",
     "output_type": "stream",
     "text": [
      "('ORG.AX', 'WYL.AX^I10')\n"
     ]
    },
    {
     "name": "stderr",
     "output_type": "stream",
     "text": [
      "c:\\users\\billy\\appdata\\local\\programs\\python\\python36\\lib\\site-packages\\statsmodels\\regression\\linear_model.py:1638: RuntimeWarning: invalid value encountered in double_scalars\n",
      "  return 1 - self.ssr/self.uncentered_tss\n"
     ]
    },
    {
     "name": "stdout",
     "output_type": "stream",
     "text": [
      "('ORG.AX', 'WYL.AX^I10')\n"
     ]
    },
    {
     "name": "stderr",
     "output_type": "stream",
     "text": [
      "c:\\users\\billy\\appdata\\local\\programs\\python\\python36\\lib\\site-packages\\statsmodels\\regression\\linear_model.py:1638: RuntimeWarning: invalid value encountered in double_scalars\n",
      "  return 1 - self.ssr/self.uncentered_tss\n"
     ]
    },
    {
     "name": "stdout",
     "output_type": "stream",
     "text": [
      "('ORG.AX', 'WYL.AX^I10')\n"
     ]
    },
    {
     "name": "stderr",
     "output_type": "stream",
     "text": [
      "c:\\users\\billy\\appdata\\local\\programs\\python\\python36\\lib\\site-packages\\statsmodels\\regression\\linear_model.py:1638: RuntimeWarning: invalid value encountered in double_scalars\n",
      "  return 1 - self.ssr/self.uncentered_tss\n"
     ]
    },
    {
     "name": "stdout",
     "output_type": "stream",
     "text": [
      "('ORG.AX', 'WYL.AX^I10')\n"
     ]
    },
    {
     "name": "stderr",
     "output_type": "stream",
     "text": [
      "c:\\users\\billy\\appdata\\local\\programs\\python\\python36\\lib\\site-packages\\statsmodels\\regression\\linear_model.py:1638: RuntimeWarning: invalid value encountered in double_scalars\n",
      "  return 1 - self.ssr/self.uncentered_tss\n"
     ]
    },
    {
     "name": "stdout",
     "output_type": "stream",
     "text": [
      "('ORG.AX', 'WYL.AX^I10')\n"
     ]
    },
    {
     "name": "stderr",
     "output_type": "stream",
     "text": [
      "c:\\users\\billy\\appdata\\local\\programs\\python\\python36\\lib\\site-packages\\statsmodels\\regression\\linear_model.py:1638: RuntimeWarning: invalid value encountered in double_scalars\n",
      "  return 1 - self.ssr/self.uncentered_tss\n"
     ]
    },
    {
     "name": "stdout",
     "output_type": "stream",
     "text": [
      "('ORG.AX', 'WYL.AX^I10')\n"
     ]
    },
    {
     "name": "stderr",
     "output_type": "stream",
     "text": [
      "c:\\users\\billy\\appdata\\local\\programs\\python\\python36\\lib\\site-packages\\statsmodels\\regression\\linear_model.py:1638: RuntimeWarning: invalid value encountered in double_scalars\n",
      "  return 1 - self.ssr/self.uncentered_tss\n"
     ]
    },
    {
     "name": "stdout",
     "output_type": "stream",
     "text": [
      "('ORG.AX', 'UXC.AX^B16')\n"
     ]
    },
    {
     "name": "stderr",
     "output_type": "stream",
     "text": [
      "c:\\users\\billy\\appdata\\local\\programs\\python\\python36\\lib\\site-packages\\statsmodels\\regression\\linear_model.py:1638: RuntimeWarning: invalid value encountered in double_scalars\n",
      "  return 1 - self.ssr/self.uncentered_tss\n",
      "c:\\users\\billy\\appdata\\local\\programs\\python\\python36\\lib\\site-packages\\statsmodels\\regression\\linear_model.py:1636: RuntimeWarning: invalid value encountered in double_scalars\n",
      "  return 1 - self.ssr/self.centered_tss\n"
     ]
    },
    {
     "name": "stdout",
     "output_type": "stream",
     "text": [
      "('ORG.AX', 'UXC.AX^B16')\n"
     ]
    },
    {
     "name": "stderr",
     "output_type": "stream",
     "text": [
      "c:\\users\\billy\\appdata\\local\\programs\\python\\python36\\lib\\site-packages\\statsmodels\\regression\\linear_model.py:1638: RuntimeWarning: invalid value encountered in double_scalars\n",
      "  return 1 - self.ssr/self.uncentered_tss\n"
     ]
    },
    {
     "name": "stdout",
     "output_type": "stream",
     "text": [
      "('ORG.AX', 'UXC.AX^B16')\n"
     ]
    },
    {
     "name": "stderr",
     "output_type": "stream",
     "text": [
      "c:\\users\\billy\\appdata\\local\\programs\\python\\python36\\lib\\site-packages\\statsmodels\\regression\\linear_model.py:1638: RuntimeWarning: invalid value encountered in double_scalars\n",
      "  return 1 - self.ssr/self.uncentered_tss\n"
     ]
    },
    {
     "name": "stdout",
     "output_type": "stream",
     "text": [
      "('ORG.AX', 'UXC.AX^B16')\n"
     ]
    },
    {
     "name": "stderr",
     "output_type": "stream",
     "text": [
      "c:\\users\\billy\\appdata\\local\\programs\\python\\python36\\lib\\site-packages\\statsmodels\\regression\\linear_model.py:1638: RuntimeWarning: invalid value encountered in double_scalars\n",
      "  return 1 - self.ssr/self.uncentered_tss\n"
     ]
    },
    {
     "name": "stdout",
     "output_type": "stream",
     "text": [
      "('ORG.AX', 'UXC.AX^B16')\n"
     ]
    },
    {
     "name": "stderr",
     "output_type": "stream",
     "text": [
      "c:\\users\\billy\\appdata\\local\\programs\\python\\python36\\lib\\site-packages\\statsmodels\\regression\\linear_model.py:1638: RuntimeWarning: invalid value encountered in double_scalars\n",
      "  return 1 - self.ssr/self.uncentered_tss\n"
     ]
    },
    {
     "name": "stdout",
     "output_type": "stream",
     "text": [
      "('ORG.AX', 'UXC.AX^B16')\n"
     ]
    },
    {
     "name": "stderr",
     "output_type": "stream",
     "text": [
      "c:\\users\\billy\\appdata\\local\\programs\\python\\python36\\lib\\site-packages\\statsmodels\\regression\\linear_model.py:1638: RuntimeWarning: invalid value encountered in double_scalars\n",
      "  return 1 - self.ssr/self.uncentered_tss\n"
     ]
    },
    {
     "name": "stdout",
     "output_type": "stream",
     "text": [
      "('ORG.AX', 'UXC.AX^B16')\n"
     ]
    },
    {
     "name": "stderr",
     "output_type": "stream",
     "text": [
      "c:\\users\\billy\\appdata\\local\\programs\\python\\python36\\lib\\site-packages\\statsmodels\\regression\\linear_model.py:1638: RuntimeWarning: invalid value encountered in double_scalars\n",
      "  return 1 - self.ssr/self.uncentered_tss\n"
     ]
    },
    {
     "name": "stdout",
     "output_type": "stream",
     "text": [
      "('ORG.AX', 'UXC.AX^B16')\n"
     ]
    },
    {
     "name": "stderr",
     "output_type": "stream",
     "text": [
      "c:\\users\\billy\\appdata\\local\\programs\\python\\python36\\lib\\site-packages\\statsmodels\\regression\\linear_model.py:1638: RuntimeWarning: invalid value encountered in double_scalars\n",
      "  return 1 - self.ssr/self.uncentered_tss\n"
     ]
    },
    {
     "name": "stdout",
     "output_type": "stream",
     "text": [
      "('ORG.AX', 'UEL.AX^G03')\n",
      "('ORG.AX', 'UEL.AX^G03')\n",
      "('ORG.AX', 'UEL.AX^G03')\n",
      "('ORG.AX', 'UEL.AX^G03')\n",
      "('ORG.AX', 'UEL.AX^G03')\n",
      "('ORG.AX', 'UEL.AX^G03')\n",
      "('ORG.AX', 'UEL.AX^G03')\n",
      "('ORG.AX', 'UEL.AX^G03')\n",
      "('ORG.AX', 'UTB.AX^K06')\n",
      "('ORG.AX', 'UTB.AX^K06')\n",
      "('ORG.AX', 'UTB.AX^K06')\n",
      "('ORG.AX', 'UTB.AX^K06')\n",
      "('ORG.AX', 'UTB.AX^K06')\n",
      "('ORG.AX', 'UTB.AX^K06')\n",
      "('ORG.AX', 'UTB.AX^K06')\n",
      "('ORG.AX', 'UTB.AX^K06')\n",
      "('ORG.AX', 'TCL.AX')\n"
     ]
    },
    {
     "name": "stderr",
     "output_type": "stream",
     "text": [
      "c:\\users\\billy\\appdata\\local\\programs\\python\\python36\\lib\\site-packages\\statsmodels\\regression\\linear_model.py:1638: RuntimeWarning: invalid value encountered in double_scalars\n",
      "  return 1 - self.ssr/self.uncentered_tss\n",
      "c:\\users\\billy\\appdata\\local\\programs\\python\\python36\\lib\\site-packages\\statsmodels\\regression\\linear_model.py:1636: RuntimeWarning: invalid value encountered in double_scalars\n",
      "  return 1 - self.ssr/self.centered_tss\n"
     ]
    },
    {
     "name": "stdout",
     "output_type": "stream",
     "text": [
      "('ORG.AX', 'TCL.AX')\n"
     ]
    },
    {
     "name": "stderr",
     "output_type": "stream",
     "text": [
      "c:\\users\\billy\\appdata\\local\\programs\\python\\python36\\lib\\site-packages\\statsmodels\\regression\\linear_model.py:1636: RuntimeWarning: invalid value encountered in double_scalars\n",
      "  return 1 - self.ssr/self.centered_tss\n",
      "c:\\users\\billy\\appdata\\local\\programs\\python\\python36\\lib\\site-packages\\statsmodels\\regression\\linear_model.py:1638: RuntimeWarning: invalid value encountered in double_scalars\n",
      "  return 1 - self.ssr/self.uncentered_tss\n"
     ]
    },
    {
     "name": "stdout",
     "output_type": "stream",
     "text": [
      "('ORG.AX', 'TCL.AX')\n"
     ]
    },
    {
     "name": "stderr",
     "output_type": "stream",
     "text": [
      "c:\\users\\billy\\appdata\\local\\programs\\python\\python36\\lib\\site-packages\\statsmodels\\regression\\linear_model.py:1638: RuntimeWarning: invalid value encountered in double_scalars\n",
      "  return 1 - self.ssr/self.uncentered_tss\n"
     ]
    },
    {
     "name": "stdout",
     "output_type": "stream",
     "text": [
      "('ORG.AX', 'TCL.AX')\n"
     ]
    },
    {
     "name": "stderr",
     "output_type": "stream",
     "text": [
      "c:\\users\\billy\\appdata\\local\\programs\\python\\python36\\lib\\site-packages\\statsmodels\\regression\\linear_model.py:1638: RuntimeWarning: invalid value encountered in double_scalars\n",
      "  return 1 - self.ssr/self.uncentered_tss\n"
     ]
    },
    {
     "name": "stdout",
     "output_type": "stream",
     "text": [
      "('ORG.AX', 'TCL.AX')\n"
     ]
    },
    {
     "name": "stderr",
     "output_type": "stream",
     "text": [
      "c:\\users\\billy\\appdata\\local\\programs\\python\\python36\\lib\\site-packages\\statsmodels\\regression\\linear_model.py:1638: RuntimeWarning: invalid value encountered in double_scalars\n",
      "  return 1 - self.ssr/self.uncentered_tss\n"
     ]
    },
    {
     "name": "stdout",
     "output_type": "stream",
     "text": [
      "('ORG.AX', 'TCL.AX')\n"
     ]
    },
    {
     "name": "stderr",
     "output_type": "stream",
     "text": [
      "c:\\users\\billy\\appdata\\local\\programs\\python\\python36\\lib\\site-packages\\statsmodels\\regression\\linear_model.py:1638: RuntimeWarning: invalid value encountered in double_scalars\n",
      "  return 1 - self.ssr/self.uncentered_tss\n"
     ]
    },
    {
     "name": "stdout",
     "output_type": "stream",
     "text": [
      "('ORG.AX', 'TCL.AX')\n"
     ]
    },
    {
     "name": "stderr",
     "output_type": "stream",
     "text": [
      "c:\\users\\billy\\appdata\\local\\programs\\python\\python36\\lib\\site-packages\\statsmodels\\regression\\linear_model.py:1638: RuntimeWarning: invalid value encountered in double_scalars\n",
      "  return 1 - self.ssr/self.uncentered_tss\n"
     ]
    },
    {
     "name": "stdout",
     "output_type": "stream",
     "text": [
      "('ORG.AX', 'TCL.AX')\n"
     ]
    },
    {
     "name": "stderr",
     "output_type": "stream",
     "text": [
      "c:\\users\\billy\\appdata\\local\\programs\\python\\python36\\lib\\site-packages\\statsmodels\\regression\\linear_model.py:1638: RuntimeWarning: invalid value encountered in double_scalars\n",
      "  return 1 - self.ssr/self.uncentered_tss\n"
     ]
    },
    {
     "name": "stdout",
     "output_type": "stream",
     "text": [
      "('ORG.AX', 'TOL.AX^E15')\n"
     ]
    },
    {
     "name": "stderr",
     "output_type": "stream",
     "text": [
      "c:\\users\\billy\\appdata\\local\\programs\\python\\python36\\lib\\site-packages\\statsmodels\\regression\\linear_model.py:1638: RuntimeWarning: invalid value encountered in double_scalars\n",
      "  return 1 - self.ssr/self.uncentered_tss\n",
      "c:\\users\\billy\\appdata\\local\\programs\\python\\python36\\lib\\site-packages\\statsmodels\\regression\\linear_model.py:1636: RuntimeWarning: invalid value encountered in double_scalars\n",
      "  return 1 - self.ssr/self.centered_tss\n"
     ]
    },
    {
     "name": "stdout",
     "output_type": "stream",
     "text": [
      "('ORG.AX', 'TOL.AX^E15')\n"
     ]
    },
    {
     "name": "stderr",
     "output_type": "stream",
     "text": [
      "c:\\users\\billy\\appdata\\local\\programs\\python\\python36\\lib\\site-packages\\statsmodels\\regression\\linear_model.py:1638: RuntimeWarning: invalid value encountered in double_scalars\n",
      "  return 1 - self.ssr/self.uncentered_tss\n",
      "c:\\users\\billy\\appdata\\local\\programs\\python\\python36\\lib\\site-packages\\statsmodels\\regression\\linear_model.py:1636: RuntimeWarning: invalid value encountered in double_scalars\n",
      "  return 1 - self.ssr/self.centered_tss\n"
     ]
    },
    {
     "name": "stdout",
     "output_type": "stream",
     "text": [
      "('ORG.AX', 'TOL.AX^E15')\n"
     ]
    },
    {
     "name": "stderr",
     "output_type": "stream",
     "text": [
      "c:\\users\\billy\\appdata\\local\\programs\\python\\python36\\lib\\site-packages\\statsmodels\\regression\\linear_model.py:1638: RuntimeWarning: invalid value encountered in double_scalars\n",
      "  return 1 - self.ssr/self.uncentered_tss\n",
      "c:\\users\\billy\\appdata\\local\\programs\\python\\python36\\lib\\site-packages\\statsmodels\\regression\\linear_model.py:1636: RuntimeWarning: invalid value encountered in double_scalars\n",
      "  return 1 - self.ssr/self.centered_tss\n"
     ]
    },
    {
     "name": "stdout",
     "output_type": "stream",
     "text": [
      "('ORG.AX', 'TOL.AX^E15')\n"
     ]
    },
    {
     "name": "stderr",
     "output_type": "stream",
     "text": [
      "c:\\users\\billy\\appdata\\local\\programs\\python\\python36\\lib\\site-packages\\statsmodels\\regression\\linear_model.py:1636: RuntimeWarning: invalid value encountered in double_scalars\n",
      "  return 1 - self.ssr/self.centered_tss\n"
     ]
    },
    {
     "name": "stdout",
     "output_type": "stream",
     "text": [
      "('ORG.AX', 'TOL.AX^E15')\n"
     ]
    },
    {
     "name": "stderr",
     "output_type": "stream",
     "text": [
      "c:\\users\\billy\\appdata\\local\\programs\\python\\python36\\lib\\site-packages\\statsmodels\\regression\\linear_model.py:1636: RuntimeWarning: invalid value encountered in double_scalars\n",
      "  return 1 - self.ssr/self.centered_tss\n"
     ]
    },
    {
     "name": "stdout",
     "output_type": "stream",
     "text": [
      "('ORG.AX', 'TOL.AX^E15')\n"
     ]
    },
    {
     "name": "stderr",
     "output_type": "stream",
     "text": [
      "c:\\users\\billy\\appdata\\local\\programs\\python\\python36\\lib\\site-packages\\statsmodels\\regression\\linear_model.py:1636: RuntimeWarning: invalid value encountered in double_scalars\n",
      "  return 1 - self.ssr/self.centered_tss\n"
     ]
    },
    {
     "name": "stdout",
     "output_type": "stream",
     "text": [
      "('ORG.AX', 'TOL.AX^E15')\n"
     ]
    },
    {
     "name": "stderr",
     "output_type": "stream",
     "text": [
      "c:\\users\\billy\\appdata\\local\\programs\\python\\python36\\lib\\site-packages\\statsmodels\\regression\\linear_model.py:1636: RuntimeWarning: invalid value encountered in double_scalars\n",
      "  return 1 - self.ssr/self.centered_tss\n"
     ]
    },
    {
     "name": "stdout",
     "output_type": "stream",
     "text": [
      "('ORG.AX', 'TOL.AX^E15')\n"
     ]
    },
    {
     "name": "stderr",
     "output_type": "stream",
     "text": [
      "c:\\users\\billy\\appdata\\local\\programs\\python\\python36\\lib\\site-packages\\statsmodels\\regression\\linear_model.py:1636: RuntimeWarning: invalid value encountered in double_scalars\n",
      "  return 1 - self.ssr/self.centered_tss\n"
     ]
    },
    {
     "name": "stdout",
     "output_type": "stream",
     "text": [
      "('ORG.AX', 'TIM.AX^H11')\n"
     ]
    },
    {
     "name": "stderr",
     "output_type": "stream",
     "text": [
      "c:\\users\\billy\\appdata\\local\\programs\\python\\python36\\lib\\site-packages\\statsmodels\\regression\\linear_model.py:1638: RuntimeWarning: invalid value encountered in double_scalars\n",
      "  return 1 - self.ssr/self.uncentered_tss\n",
      "c:\\users\\billy\\appdata\\local\\programs\\python\\python36\\lib\\site-packages\\statsmodels\\regression\\linear_model.py:1636: RuntimeWarning: invalid value encountered in double_scalars\n",
      "  return 1 - self.ssr/self.centered_tss\n"
     ]
    },
    {
     "name": "stdout",
     "output_type": "stream",
     "text": [
      "('ORG.AX', 'TIM.AX^H11')\n"
     ]
    },
    {
     "name": "stderr",
     "output_type": "stream",
     "text": [
      "c:\\users\\billy\\appdata\\local\\programs\\python\\python36\\lib\\site-packages\\statsmodels\\regression\\linear_model.py:1638: RuntimeWarning: invalid value encountered in double_scalars\n",
      "  return 1 - self.ssr/self.uncentered_tss\n",
      "c:\\users\\billy\\appdata\\local\\programs\\python\\python36\\lib\\site-packages\\statsmodels\\regression\\linear_model.py:1636: RuntimeWarning: invalid value encountered in double_scalars\n",
      "  return 1 - self.ssr/self.centered_tss\n"
     ]
    },
    {
     "name": "stdout",
     "output_type": "stream",
     "text": [
      "('ORG.AX', 'TIM.AX^H11')\n"
     ]
    },
    {
     "name": "stderr",
     "output_type": "stream",
     "text": [
      "c:\\users\\billy\\appdata\\local\\programs\\python\\python36\\lib\\site-packages\\statsmodels\\regression\\linear_model.py:1638: RuntimeWarning: invalid value encountered in double_scalars\n",
      "  return 1 - self.ssr/self.uncentered_tss\n",
      "c:\\users\\billy\\appdata\\local\\programs\\python\\python36\\lib\\site-packages\\statsmodels\\regression\\linear_model.py:1636: RuntimeWarning: invalid value encountered in double_scalars\n",
      "  return 1 - self.ssr/self.centered_tss\n"
     ]
    },
    {
     "name": "stdout",
     "output_type": "stream",
     "text": [
      "('ORG.AX', 'TIM.AX^H11')\n"
     ]
    },
    {
     "name": "stderr",
     "output_type": "stream",
     "text": [
      "c:\\users\\billy\\appdata\\local\\programs\\python\\python36\\lib\\site-packages\\statsmodels\\regression\\linear_model.py:1636: RuntimeWarning: invalid value encountered in double_scalars\n",
      "  return 1 - self.ssr/self.centered_tss\n"
     ]
    },
    {
     "name": "stdout",
     "output_type": "stream",
     "text": [
      "('ORG.AX', 'TIM.AX^H11')\n"
     ]
    },
    {
     "name": "stderr",
     "output_type": "stream",
     "text": [
      "c:\\users\\billy\\appdata\\local\\programs\\python\\python36\\lib\\site-packages\\statsmodels\\regression\\linear_model.py:1636: RuntimeWarning: invalid value encountered in double_scalars\n",
      "  return 1 - self.ssr/self.centered_tss\n"
     ]
    },
    {
     "name": "stdout",
     "output_type": "stream",
     "text": [
      "('ORG.AX', 'TIM.AX^H11')\n"
     ]
    },
    {
     "name": "stderr",
     "output_type": "stream",
     "text": [
      "c:\\users\\billy\\appdata\\local\\programs\\python\\python36\\lib\\site-packages\\statsmodels\\regression\\linear_model.py:1636: RuntimeWarning: invalid value encountered in double_scalars\n",
      "  return 1 - self.ssr/self.centered_tss\n"
     ]
    },
    {
     "name": "stdout",
     "output_type": "stream",
     "text": [
      "('ORG.AX', 'TIM.AX^H11')\n"
     ]
    },
    {
     "name": "stderr",
     "output_type": "stream",
     "text": [
      "c:\\users\\billy\\appdata\\local\\programs\\python\\python36\\lib\\site-packages\\statsmodels\\regression\\linear_model.py:1636: RuntimeWarning: invalid value encountered in double_scalars\n",
      "  return 1 - self.ssr/self.centered_tss\n"
     ]
    },
    {
     "name": "stdout",
     "output_type": "stream",
     "text": [
      "('ORG.AX', 'TIM.AX^H11')\n"
     ]
    },
    {
     "name": "stderr",
     "output_type": "stream",
     "text": [
      "c:\\users\\billy\\appdata\\local\\programs\\python\\python36\\lib\\site-packages\\statsmodels\\regression\\linear_model.py:1636: RuntimeWarning: invalid value encountered in double_scalars\n",
      "  return 1 - self.ssr/self.centered_tss\n"
     ]
    },
    {
     "name": "stdout",
     "output_type": "stream",
     "text": [
      "('ORG.AX', 'THG.AX^J12')\n"
     ]
    },
    {
     "name": "stderr",
     "output_type": "stream",
     "text": [
      "c:\\users\\billy\\appdata\\local\\programs\\python\\python36\\lib\\site-packages\\statsmodels\\regression\\linear_model.py:1638: RuntimeWarning: invalid value encountered in double_scalars\n",
      "  return 1 - self.ssr/self.uncentered_tss\n",
      "c:\\users\\billy\\appdata\\local\\programs\\python\\python36\\lib\\site-packages\\statsmodels\\regression\\linear_model.py:1636: RuntimeWarning: invalid value encountered in double_scalars\n",
      "  return 1 - self.ssr/self.centered_tss\n"
     ]
    },
    {
     "name": "stdout",
     "output_type": "stream",
     "text": [
      "('ORG.AX', 'THG.AX^J12')\n"
     ]
    },
    {
     "name": "stderr",
     "output_type": "stream",
     "text": [
      "c:\\users\\billy\\appdata\\local\\programs\\python\\python36\\lib\\site-packages\\statsmodels\\regression\\linear_model.py:1638: RuntimeWarning: invalid value encountered in double_scalars\n",
      "  return 1 - self.ssr/self.uncentered_tss\n"
     ]
    },
    {
     "name": "stdout",
     "output_type": "stream",
     "text": [
      "('ORG.AX', 'THG.AX^J12')\n"
     ]
    },
    {
     "name": "stderr",
     "output_type": "stream",
     "text": [
      "c:\\users\\billy\\appdata\\local\\programs\\python\\python36\\lib\\site-packages\\statsmodels\\regression\\linear_model.py:1638: RuntimeWarning: invalid value encountered in double_scalars\n",
      "  return 1 - self.ssr/self.uncentered_tss\n"
     ]
    },
    {
     "name": "stdout",
     "output_type": "stream",
     "text": [
      "('ORG.AX', 'THG.AX^J12')\n"
     ]
    },
    {
     "name": "stderr",
     "output_type": "stream",
     "text": [
      "c:\\users\\billy\\appdata\\local\\programs\\python\\python36\\lib\\site-packages\\statsmodels\\regression\\linear_model.py:1638: RuntimeWarning: invalid value encountered in double_scalars\n",
      "  return 1 - self.ssr/self.uncentered_tss\n"
     ]
    },
    {
     "name": "stdout",
     "output_type": "stream",
     "text": [
      "('ORG.AX', 'THG.AX^J12')\n"
     ]
    },
    {
     "name": "stderr",
     "output_type": "stream",
     "text": [
      "c:\\users\\billy\\appdata\\local\\programs\\python\\python36\\lib\\site-packages\\statsmodels\\regression\\linear_model.py:1638: RuntimeWarning: invalid value encountered in double_scalars\n",
      "  return 1 - self.ssr/self.uncentered_tss\n"
     ]
    },
    {
     "name": "stdout",
     "output_type": "stream",
     "text": [
      "('ORG.AX', 'THG.AX^J12')\n"
     ]
    },
    {
     "name": "stderr",
     "output_type": "stream",
     "text": [
      "c:\\users\\billy\\appdata\\local\\programs\\python\\python36\\lib\\site-packages\\statsmodels\\regression\\linear_model.py:1638: RuntimeWarning: invalid value encountered in double_scalars\n",
      "  return 1 - self.ssr/self.uncentered_tss\n"
     ]
    },
    {
     "name": "stdout",
     "output_type": "stream",
     "text": [
      "('ORG.AX', 'THG.AX^J12')\n"
     ]
    },
    {
     "name": "stderr",
     "output_type": "stream",
     "text": [
      "c:\\users\\billy\\appdata\\local\\programs\\python\\python36\\lib\\site-packages\\statsmodels\\regression\\linear_model.py:1638: RuntimeWarning: invalid value encountered in double_scalars\n",
      "  return 1 - self.ssr/self.uncentered_tss\n"
     ]
    },
    {
     "name": "stdout",
     "output_type": "stream",
     "text": [
      "('ORG.AX', 'THG.AX^J12')\n"
     ]
    },
    {
     "name": "stderr",
     "output_type": "stream",
     "text": [
      "c:\\users\\billy\\appdata\\local\\programs\\python\\python36\\lib\\site-packages\\statsmodels\\regression\\linear_model.py:1638: RuntimeWarning: invalid value encountered in double_scalars\n",
      "  return 1 - self.ssr/self.uncentered_tss\n"
     ]
    },
    {
     "name": "stdout",
     "output_type": "stream",
     "text": [
      "('ORG.AX', 'TEN.AX^K17')\n"
     ]
    },
    {
     "name": "stderr",
     "output_type": "stream",
     "text": [
      "c:\\users\\billy\\appdata\\local\\programs\\python\\python36\\lib\\site-packages\\statsmodels\\regression\\linear_model.py:1638: RuntimeWarning: invalid value encountered in double_scalars\n",
      "  return 1 - self.ssr/self.uncentered_tss\n",
      "c:\\users\\billy\\appdata\\local\\programs\\python\\python36\\lib\\site-packages\\statsmodels\\regression\\linear_model.py:1636: RuntimeWarning: invalid value encountered in double_scalars\n",
      "  return 1 - self.ssr/self.centered_tss\n"
     ]
    },
    {
     "name": "stdout",
     "output_type": "stream",
     "text": [
      "('ORG.AX', 'TEN.AX^K17')\n"
     ]
    },
    {
     "name": "stderr",
     "output_type": "stream",
     "text": [
      "c:\\users\\billy\\appdata\\local\\programs\\python\\python36\\lib\\site-packages\\statsmodels\\regression\\linear_model.py:1638: RuntimeWarning: invalid value encountered in double_scalars\n",
      "  return 1 - self.ssr/self.uncentered_tss\n"
     ]
    },
    {
     "name": "stdout",
     "output_type": "stream",
     "text": [
      "('ORG.AX', 'TEN.AX^K17')\n"
     ]
    },
    {
     "name": "stderr",
     "output_type": "stream",
     "text": [
      "c:\\users\\billy\\appdata\\local\\programs\\python\\python36\\lib\\site-packages\\statsmodels\\regression\\linear_model.py:1638: RuntimeWarning: invalid value encountered in double_scalars\n",
      "  return 1 - self.ssr/self.uncentered_tss\n"
     ]
    },
    {
     "name": "stdout",
     "output_type": "stream",
     "text": [
      "('ORG.AX', 'TEN.AX^K17')\n"
     ]
    },
    {
     "name": "stderr",
     "output_type": "stream",
     "text": [
      "c:\\users\\billy\\appdata\\local\\programs\\python\\python36\\lib\\site-packages\\statsmodels\\regression\\linear_model.py:1638: RuntimeWarning: invalid value encountered in double_scalars\n",
      "  return 1 - self.ssr/self.uncentered_tss\n"
     ]
    },
    {
     "name": "stdout",
     "output_type": "stream",
     "text": [
      "('ORG.AX', 'TEN.AX^K17')\n"
     ]
    },
    {
     "name": "stderr",
     "output_type": "stream",
     "text": [
      "c:\\users\\billy\\appdata\\local\\programs\\python\\python36\\lib\\site-packages\\statsmodels\\regression\\linear_model.py:1638: RuntimeWarning: invalid value encountered in double_scalars\n",
      "  return 1 - self.ssr/self.uncentered_tss\n"
     ]
    },
    {
     "name": "stdout",
     "output_type": "stream",
     "text": [
      "('ORG.AX', 'TEN.AX^K17')\n"
     ]
    },
    {
     "name": "stderr",
     "output_type": "stream",
     "text": [
      "c:\\users\\billy\\appdata\\local\\programs\\python\\python36\\lib\\site-packages\\statsmodels\\regression\\linear_model.py:1638: RuntimeWarning: invalid value encountered in double_scalars\n",
      "  return 1 - self.ssr/self.uncentered_tss\n"
     ]
    },
    {
     "name": "stdout",
     "output_type": "stream",
     "text": [
      "('ORG.AX', 'TEN.AX^K17')\n"
     ]
    },
    {
     "name": "stderr",
     "output_type": "stream",
     "text": [
      "c:\\users\\billy\\appdata\\local\\programs\\python\\python36\\lib\\site-packages\\statsmodels\\regression\\linear_model.py:1638: RuntimeWarning: invalid value encountered in double_scalars\n",
      "  return 1 - self.ssr/self.uncentered_tss\n"
     ]
    },
    {
     "name": "stdout",
     "output_type": "stream",
     "text": [
      "('ORG.AX', 'TEN.AX^K17')\n"
     ]
    },
    {
     "name": "stderr",
     "output_type": "stream",
     "text": [
      "c:\\users\\billy\\appdata\\local\\programs\\python\\python36\\lib\\site-packages\\statsmodels\\regression\\linear_model.py:1638: RuntimeWarning: invalid value encountered in double_scalars\n",
      "  return 1 - self.ssr/self.uncentered_tss\n"
     ]
    },
    {
     "name": "stdout",
     "output_type": "stream",
     "text": [
      "('ORG.AX', 'TLS.AX')\n"
     ]
    },
    {
     "name": "stderr",
     "output_type": "stream",
     "text": [
      "c:\\users\\billy\\appdata\\local\\programs\\python\\python36\\lib\\site-packages\\statsmodels\\regression\\linear_model.py:1638: RuntimeWarning: invalid value encountered in double_scalars\n",
      "  return 1 - self.ssr/self.uncentered_tss\n",
      "c:\\users\\billy\\appdata\\local\\programs\\python\\python36\\lib\\site-packages\\statsmodels\\regression\\linear_model.py:1636: RuntimeWarning: invalid value encountered in double_scalars\n",
      "  return 1 - self.ssr/self.centered_tss\n"
     ]
    },
    {
     "name": "stdout",
     "output_type": "stream",
     "text": [
      "('ORG.AX', 'TLS.AX')\n"
     ]
    },
    {
     "name": "stderr",
     "output_type": "stream",
     "text": [
      "c:\\users\\billy\\appdata\\local\\programs\\python\\python36\\lib\\site-packages\\statsmodels\\regression\\linear_model.py:1638: RuntimeWarning: invalid value encountered in double_scalars\n",
      "  return 1 - self.ssr/self.uncentered_tss\n",
      "c:\\users\\billy\\appdata\\local\\programs\\python\\python36\\lib\\site-packages\\statsmodels\\regression\\linear_model.py:1636: RuntimeWarning: invalid value encountered in double_scalars\n",
      "  return 1 - self.ssr/self.centered_tss\n"
     ]
    },
    {
     "name": "stdout",
     "output_type": "stream",
     "text": [
      "('ORG.AX', 'TLS.AX')\n"
     ]
    },
    {
     "name": "stderr",
     "output_type": "stream",
     "text": [
      "c:\\users\\billy\\appdata\\local\\programs\\python\\python36\\lib\\site-packages\\statsmodels\\regression\\linear_model.py:1638: RuntimeWarning: invalid value encountered in double_scalars\n",
      "  return 1 - self.ssr/self.uncentered_tss\n",
      "c:\\users\\billy\\appdata\\local\\programs\\python\\python36\\lib\\site-packages\\statsmodels\\regression\\linear_model.py:1636: RuntimeWarning: invalid value encountered in double_scalars\n",
      "  return 1 - self.ssr/self.centered_tss\n"
     ]
    },
    {
     "name": "stdout",
     "output_type": "stream",
     "text": [
      "('ORG.AX', 'TLS.AX')\n"
     ]
    },
    {
     "name": "stderr",
     "output_type": "stream",
     "text": [
      "c:\\users\\billy\\appdata\\local\\programs\\python\\python36\\lib\\site-packages\\statsmodels\\regression\\linear_model.py:1638: RuntimeWarning: invalid value encountered in double_scalars\n",
      "  return 1 - self.ssr/self.uncentered_tss\n"
     ]
    },
    {
     "name": "stdout",
     "output_type": "stream",
     "text": [
      "('ORG.AX', 'TLS.AX')\n"
     ]
    },
    {
     "name": "stderr",
     "output_type": "stream",
     "text": [
      "c:\\users\\billy\\appdata\\local\\programs\\python\\python36\\lib\\site-packages\\statsmodels\\regression\\linear_model.py:1638: RuntimeWarning: invalid value encountered in double_scalars\n",
      "  return 1 - self.ssr/self.uncentered_tss\n"
     ]
    },
    {
     "name": "stdout",
     "output_type": "stream",
     "text": [
      "('ORG.AX', 'TLS.AX')\n"
     ]
    },
    {
     "name": "stderr",
     "output_type": "stream",
     "text": [
      "c:\\users\\billy\\appdata\\local\\programs\\python\\python36\\lib\\site-packages\\statsmodels\\regression\\linear_model.py:1638: RuntimeWarning: invalid value encountered in double_scalars\n",
      "  return 1 - self.ssr/self.uncentered_tss\n"
     ]
    },
    {
     "name": "stdout",
     "output_type": "stream",
     "text": [
      "('ORG.AX', 'TLS.AX')\n"
     ]
    },
    {
     "name": "stderr",
     "output_type": "stream",
     "text": [
      "c:\\users\\billy\\appdata\\local\\programs\\python\\python36\\lib\\site-packages\\statsmodels\\regression\\linear_model.py:1638: RuntimeWarning: invalid value encountered in double_scalars\n",
      "  return 1 - self.ssr/self.uncentered_tss\n"
     ]
    },
    {
     "name": "stdout",
     "output_type": "stream",
     "text": [
      "('ORG.AX', 'TLS.AX')\n"
     ]
    },
    {
     "name": "stderr",
     "output_type": "stream",
     "text": [
      "c:\\users\\billy\\appdata\\local\\programs\\python\\python36\\lib\\site-packages\\statsmodels\\regression\\linear_model.py:1638: RuntimeWarning: invalid value encountered in double_scalars\n",
      "  return 1 - self.ssr/self.uncentered_tss\n"
     ]
    },
    {
     "name": "stdout",
     "output_type": "stream",
     "text": [
      "('ORG.AX', 'TAH.AX')\n"
     ]
    },
    {
     "name": "stderr",
     "output_type": "stream",
     "text": [
      "c:\\users\\billy\\appdata\\local\\programs\\python\\python36\\lib\\site-packages\\statsmodels\\regression\\linear_model.py:1638: RuntimeWarning: invalid value encountered in double_scalars\n",
      "  return 1 - self.ssr/self.uncentered_tss\n",
      "c:\\users\\billy\\appdata\\local\\programs\\python\\python36\\lib\\site-packages\\statsmodels\\regression\\linear_model.py:1636: RuntimeWarning: invalid value encountered in double_scalars\n",
      "  return 1 - self.ssr/self.centered_tss\n"
     ]
    },
    {
     "name": "stdout",
     "output_type": "stream",
     "text": [
      "('ORG.AX', 'TAH.AX')\n"
     ]
    },
    {
     "name": "stderr",
     "output_type": "stream",
     "text": [
      "c:\\users\\billy\\appdata\\local\\programs\\python\\python36\\lib\\site-packages\\statsmodels\\regression\\linear_model.py:1638: RuntimeWarning: invalid value encountered in double_scalars\n",
      "  return 1 - self.ssr/self.uncentered_tss\n",
      "c:\\users\\billy\\appdata\\local\\programs\\python\\python36\\lib\\site-packages\\statsmodels\\regression\\linear_model.py:1636: RuntimeWarning: invalid value encountered in double_scalars\n",
      "  return 1 - self.ssr/self.centered_tss\n"
     ]
    },
    {
     "name": "stdout",
     "output_type": "stream",
     "text": [
      "('ORG.AX', 'TAH.AX')\n"
     ]
    },
    {
     "name": "stderr",
     "output_type": "stream",
     "text": [
      "c:\\users\\billy\\appdata\\local\\programs\\python\\python36\\lib\\site-packages\\statsmodels\\regression\\linear_model.py:1638: RuntimeWarning: invalid value encountered in double_scalars\n",
      "  return 1 - self.ssr/self.uncentered_tss\n",
      "c:\\users\\billy\\appdata\\local\\programs\\python\\python36\\lib\\site-packages\\statsmodels\\regression\\linear_model.py:1636: RuntimeWarning: invalid value encountered in double_scalars\n",
      "  return 1 - self.ssr/self.centered_tss\n"
     ]
    },
    {
     "name": "stdout",
     "output_type": "stream",
     "text": [
      "('ORG.AX', 'TAH.AX')\n"
     ]
    },
    {
     "name": "stderr",
     "output_type": "stream",
     "text": [
      "c:\\users\\billy\\appdata\\local\\programs\\python\\python36\\lib\\site-packages\\statsmodels\\regression\\linear_model.py:1638: RuntimeWarning: invalid value encountered in double_scalars\n",
      "  return 1 - self.ssr/self.uncentered_tss\n"
     ]
    },
    {
     "name": "stdout",
     "output_type": "stream",
     "text": [
      "('ORG.AX', 'TAH.AX')\n"
     ]
    },
    {
     "name": "stderr",
     "output_type": "stream",
     "text": [
      "c:\\users\\billy\\appdata\\local\\programs\\python\\python36\\lib\\site-packages\\statsmodels\\regression\\linear_model.py:1638: RuntimeWarning: invalid value encountered in double_scalars\n",
      "  return 1 - self.ssr/self.uncentered_tss\n"
     ]
    },
    {
     "name": "stdout",
     "output_type": "stream",
     "text": [
      "('ORG.AX', 'TAH.AX')\n"
     ]
    },
    {
     "name": "stderr",
     "output_type": "stream",
     "text": [
      "c:\\users\\billy\\appdata\\local\\programs\\python\\python36\\lib\\site-packages\\statsmodels\\regression\\linear_model.py:1638: RuntimeWarning: invalid value encountered in double_scalars\n",
      "  return 1 - self.ssr/self.uncentered_tss\n"
     ]
    },
    {
     "name": "stdout",
     "output_type": "stream",
     "text": [
      "('ORG.AX', 'TAH.AX')\n"
     ]
    },
    {
     "name": "stderr",
     "output_type": "stream",
     "text": [
      "c:\\users\\billy\\appdata\\local\\programs\\python\\python36\\lib\\site-packages\\statsmodels\\regression\\linear_model.py:1638: RuntimeWarning: invalid value encountered in double_scalars\n",
      "  return 1 - self.ssr/self.uncentered_tss\n"
     ]
    },
    {
     "name": "stdout",
     "output_type": "stream",
     "text": [
      "('ORG.AX', 'TAH.AX')\n"
     ]
    },
    {
     "name": "stderr",
     "output_type": "stream",
     "text": [
      "c:\\users\\billy\\appdata\\local\\programs\\python\\python36\\lib\\site-packages\\statsmodels\\regression\\linear_model.py:1638: RuntimeWarning: invalid value encountered in double_scalars\n",
      "  return 1 - self.ssr/self.uncentered_tss\n"
     ]
    },
    {
     "name": "stdout",
     "output_type": "stream",
     "text": [
      "('ORG.AX', 'TAB.AX^H04')\n",
      "('ORG.AX', 'TAB.AX^H04')\n",
      "('ORG.AX', 'TAB.AX^H04')\n",
      "('ORG.AX', 'TAB.AX^H04')\n",
      "('ORG.AX', 'TAB.AX^H04')\n",
      "('ORG.AX', 'TAB.AX^H04')\n",
      "('ORG.AX', 'TAB.AX^H04')\n",
      "('ORG.AX', 'TAB.AX^H04')\n",
      "('ORG.AX', 'SYB.AX^E08')\n"
     ]
    },
    {
     "name": "stderr",
     "output_type": "stream",
     "text": [
      "c:\\users\\billy\\appdata\\local\\programs\\python\\python36\\lib\\site-packages\\statsmodels\\regression\\linear_model.py:1638: RuntimeWarning: invalid value encountered in double_scalars\n",
      "  return 1 - self.ssr/self.uncentered_tss\n"
     ]
    },
    {
     "name": "stdout",
     "output_type": "stream",
     "text": [
      "('ORG.AX', 'SYB.AX^E08')\n"
     ]
    },
    {
     "name": "stderr",
     "output_type": "stream",
     "text": [
      "c:\\users\\billy\\appdata\\local\\programs\\python\\python36\\lib\\site-packages\\statsmodels\\regression\\linear_model.py:1638: RuntimeWarning: invalid value encountered in double_scalars\n",
      "  return 1 - self.ssr/self.uncentered_tss\n"
     ]
    },
    {
     "name": "stdout",
     "output_type": "stream",
     "text": [
      "('ORG.AX', 'SYB.AX^E08')\n"
     ]
    },
    {
     "name": "stderr",
     "output_type": "stream",
     "text": [
      "c:\\users\\billy\\appdata\\local\\programs\\python\\python36\\lib\\site-packages\\statsmodels\\regression\\linear_model.py:1638: RuntimeWarning: invalid value encountered in double_scalars\n",
      "  return 1 - self.ssr/self.uncentered_tss\n"
     ]
    },
    {
     "name": "stdout",
     "output_type": "stream",
     "text": [
      "('ORG.AX', 'SYB.AX^E08')\n"
     ]
    },
    {
     "name": "stderr",
     "output_type": "stream",
     "text": [
      "c:\\users\\billy\\appdata\\local\\programs\\python\\python36\\lib\\site-packages\\statsmodels\\regression\\linear_model.py:1638: RuntimeWarning: invalid value encountered in double_scalars\n",
      "  return 1 - self.ssr/self.uncentered_tss\n"
     ]
    },
    {
     "name": "stdout",
     "output_type": "stream",
     "text": [
      "('ORG.AX', 'SYB.AX^E08')\n"
     ]
    },
    {
     "name": "stderr",
     "output_type": "stream",
     "text": [
      "c:\\users\\billy\\appdata\\local\\programs\\python\\python36\\lib\\site-packages\\statsmodels\\regression\\linear_model.py:1638: RuntimeWarning: invalid value encountered in double_scalars\n",
      "  return 1 - self.ssr/self.uncentered_tss\n"
     ]
    },
    {
     "name": "stdout",
     "output_type": "stream",
     "text": [
      "('ORG.AX', 'SYB.AX^E08')\n"
     ]
    },
    {
     "name": "stderr",
     "output_type": "stream",
     "text": [
      "c:\\users\\billy\\appdata\\local\\programs\\python\\python36\\lib\\site-packages\\statsmodels\\regression\\linear_model.py:1638: RuntimeWarning: invalid value encountered in double_scalars\n",
      "  return 1 - self.ssr/self.uncentered_tss\n"
     ]
    },
    {
     "name": "stdout",
     "output_type": "stream",
     "text": [
      "('ORG.AX', 'SYB.AX^E08')\n"
     ]
    },
    {
     "name": "stderr",
     "output_type": "stream",
     "text": [
      "c:\\users\\billy\\appdata\\local\\programs\\python\\python36\\lib\\site-packages\\statsmodels\\regression\\linear_model.py:1638: RuntimeWarning: invalid value encountered in double_scalars\n",
      "  return 1 - self.ssr/self.uncentered_tss\n"
     ]
    },
    {
     "name": "stdout",
     "output_type": "stream",
     "text": [
      "('ORG.AX', 'SYB.AX^E08')\n"
     ]
    },
    {
     "name": "stderr",
     "output_type": "stream",
     "text": [
      "c:\\users\\billy\\appdata\\local\\programs\\python\\python36\\lib\\site-packages\\statsmodels\\regression\\linear_model.py:1638: RuntimeWarning: invalid value encountered in double_scalars\n",
      "  return 1 - self.ssr/self.uncentered_tss\n"
     ]
    },
    {
     "name": "stdout",
     "output_type": "stream",
     "text": [
      "('ORG.AX', 'SUNDC.AX')\n"
     ]
    },
    {
     "name": "stderr",
     "output_type": "stream",
     "text": [
      "c:\\users\\billy\\appdata\\local\\programs\\python\\python36\\lib\\site-packages\\statsmodels\\regression\\linear_model.py:1638: RuntimeWarning: invalid value encountered in double_scalars\n",
      "  return 1 - self.ssr/self.uncentered_tss\n",
      "c:\\users\\billy\\appdata\\local\\programs\\python\\python36\\lib\\site-packages\\statsmodels\\regression\\linear_model.py:1636: RuntimeWarning: invalid value encountered in double_scalars\n",
      "  return 1 - self.ssr/self.centered_tss\n"
     ]
    },
    {
     "name": "stdout",
     "output_type": "stream",
     "text": [
      "('ORG.AX', 'SUNDC.AX')\n"
     ]
    },
    {
     "name": "stderr",
     "output_type": "stream",
     "text": [
      "c:\\users\\billy\\appdata\\local\\programs\\python\\python36\\lib\\site-packages\\statsmodels\\regression\\linear_model.py:1638: RuntimeWarning: invalid value encountered in double_scalars\n",
      "  return 1 - self.ssr/self.uncentered_tss\n"
     ]
    },
    {
     "name": "stdout",
     "output_type": "stream",
     "text": [
      "('ORG.AX', 'SUNDC.AX')\n"
     ]
    },
    {
     "name": "stderr",
     "output_type": "stream",
     "text": [
      "c:\\users\\billy\\appdata\\local\\programs\\python\\python36\\lib\\site-packages\\statsmodels\\regression\\linear_model.py:1638: RuntimeWarning: invalid value encountered in double_scalars\n",
      "  return 1 - self.ssr/self.uncentered_tss\n"
     ]
    },
    {
     "name": "stdout",
     "output_type": "stream",
     "text": [
      "('ORG.AX', 'SUNDC.AX')\n"
     ]
    },
    {
     "name": "stderr",
     "output_type": "stream",
     "text": [
      "c:\\users\\billy\\appdata\\local\\programs\\python\\python36\\lib\\site-packages\\statsmodels\\regression\\linear_model.py:1638: RuntimeWarning: invalid value encountered in double_scalars\n",
      "  return 1 - self.ssr/self.uncentered_tss\n"
     ]
    },
    {
     "name": "stdout",
     "output_type": "stream",
     "text": [
      "('ORG.AX', 'SUNDC.AX')\n"
     ]
    },
    {
     "name": "stderr",
     "output_type": "stream",
     "text": [
      "c:\\users\\billy\\appdata\\local\\programs\\python\\python36\\lib\\site-packages\\statsmodels\\regression\\linear_model.py:1638: RuntimeWarning: invalid value encountered in double_scalars\n",
      "  return 1 - self.ssr/self.uncentered_tss\n"
     ]
    },
    {
     "name": "stdout",
     "output_type": "stream",
     "text": [
      "('ORG.AX', 'SUNDC.AX')\n"
     ]
    },
    {
     "name": "stderr",
     "output_type": "stream",
     "text": [
      "c:\\users\\billy\\appdata\\local\\programs\\python\\python36\\lib\\site-packages\\statsmodels\\regression\\linear_model.py:1638: RuntimeWarning: invalid value encountered in double_scalars\n",
      "  return 1 - self.ssr/self.uncentered_tss\n"
     ]
    },
    {
     "name": "stdout",
     "output_type": "stream",
     "text": [
      "('ORG.AX', 'SUNDC.AX')\n"
     ]
    },
    {
     "name": "stderr",
     "output_type": "stream",
     "text": [
      "c:\\users\\billy\\appdata\\local\\programs\\python\\python36\\lib\\site-packages\\statsmodels\\regression\\linear_model.py:1638: RuntimeWarning: invalid value encountered in double_scalars\n",
      "  return 1 - self.ssr/self.uncentered_tss\n"
     ]
    },
    {
     "name": "stdout",
     "output_type": "stream",
     "text": [
      "('ORG.AX', 'SUNDC.AX')\n"
     ]
    },
    {
     "name": "stderr",
     "output_type": "stream",
     "text": [
      "c:\\users\\billy\\appdata\\local\\programs\\python\\python36\\lib\\site-packages\\statsmodels\\regression\\linear_model.py:1638: RuntimeWarning: invalid value encountered in double_scalars\n",
      "  return 1 - self.ssr/self.uncentered_tss\n"
     ]
    },
    {
     "name": "stdout",
     "output_type": "stream",
     "text": [
      "('ORG.AX', 'SGP.AX')\n"
     ]
    },
    {
     "name": "stderr",
     "output_type": "stream",
     "text": [
      "c:\\users\\billy\\appdata\\local\\programs\\python\\python36\\lib\\site-packages\\statsmodels\\regression\\linear_model.py:1638: RuntimeWarning: invalid value encountered in double_scalars\n",
      "  return 1 - self.ssr/self.uncentered_tss\n"
     ]
    },
    {
     "name": "stdout",
     "output_type": "stream",
     "text": [
      "('ORG.AX', 'SGP.AX')\n"
     ]
    },
    {
     "name": "stderr",
     "output_type": "stream",
     "text": [
      "c:\\users\\billy\\appdata\\local\\programs\\python\\python36\\lib\\site-packages\\statsmodels\\regression\\linear_model.py:1638: RuntimeWarning: invalid value encountered in double_scalars\n",
      "  return 1 - self.ssr/self.uncentered_tss\n"
     ]
    },
    {
     "name": "stdout",
     "output_type": "stream",
     "text": [
      "('ORG.AX', 'SGP.AX')\n"
     ]
    },
    {
     "name": "stderr",
     "output_type": "stream",
     "text": [
      "c:\\users\\billy\\appdata\\local\\programs\\python\\python36\\lib\\site-packages\\statsmodels\\regression\\linear_model.py:1638: RuntimeWarning: invalid value encountered in double_scalars\n",
      "  return 1 - self.ssr/self.uncentered_tss\n"
     ]
    },
    {
     "name": "stdout",
     "output_type": "stream",
     "text": [
      "('ORG.AX', 'SGP.AX')\n"
     ]
    },
    {
     "name": "stderr",
     "output_type": "stream",
     "text": [
      "c:\\users\\billy\\appdata\\local\\programs\\python\\python36\\lib\\site-packages\\statsmodels\\regression\\linear_model.py:1638: RuntimeWarning: invalid value encountered in double_scalars\n",
      "  return 1 - self.ssr/self.uncentered_tss\n"
     ]
    },
    {
     "name": "stdout",
     "output_type": "stream",
     "text": [
      "('ORG.AX', 'SGP.AX')\n"
     ]
    },
    {
     "name": "stderr",
     "output_type": "stream",
     "text": [
      "c:\\users\\billy\\appdata\\local\\programs\\python\\python36\\lib\\site-packages\\statsmodels\\regression\\linear_model.py:1638: RuntimeWarning: invalid value encountered in double_scalars\n",
      "  return 1 - self.ssr/self.uncentered_tss\n"
     ]
    },
    {
     "name": "stdout",
     "output_type": "stream",
     "text": [
      "('ORG.AX', 'SGP.AX')\n"
     ]
    },
    {
     "name": "stderr",
     "output_type": "stream",
     "text": [
      "c:\\users\\billy\\appdata\\local\\programs\\python\\python36\\lib\\site-packages\\statsmodels\\regression\\linear_model.py:1638: RuntimeWarning: invalid value encountered in double_scalars\n",
      "  return 1 - self.ssr/self.uncentered_tss\n"
     ]
    },
    {
     "name": "stdout",
     "output_type": "stream",
     "text": [
      "('ORG.AX', 'SGP.AX')\n"
     ]
    },
    {
     "name": "stderr",
     "output_type": "stream",
     "text": [
      "c:\\users\\billy\\appdata\\local\\programs\\python\\python36\\lib\\site-packages\\statsmodels\\regression\\linear_model.py:1638: RuntimeWarning: invalid value encountered in double_scalars\n",
      "  return 1 - self.ssr/self.uncentered_tss\n"
     ]
    },
    {
     "name": "stdout",
     "output_type": "stream",
     "text": [
      "('ORG.AX', 'SGP.AX')\n"
     ]
    },
    {
     "name": "stderr",
     "output_type": "stream",
     "text": [
      "c:\\users\\billy\\appdata\\local\\programs\\python\\python36\\lib\\site-packages\\statsmodels\\regression\\linear_model.py:1638: RuntimeWarning: invalid value encountered in double_scalars\n",
      "  return 1 - self.ssr/self.uncentered_tss\n"
     ]
    },
    {
     "name": "stdout",
     "output_type": "stream",
     "text": [
      "('ORG.AX', 'JUP.AX^L03')\n",
      "('ORG.AX', 'JUP.AX^L03')\n",
      "('ORG.AX', 'JUP.AX^L03')\n",
      "('ORG.AX', 'JUP.AX^L03')\n",
      "('ORG.AX', 'JUP.AX^L03')\n",
      "('ORG.AX', 'JUP.AX^L03')\n",
      "('ORG.AX', 'JUP.AX^L03')\n",
      "('ORG.AX', 'JUP.AX^L03')\n",
      "('ORG.AX', 'SGB.AX^D09')\n"
     ]
    },
    {
     "name": "stderr",
     "output_type": "stream",
     "text": [
      "c:\\users\\billy\\appdata\\local\\programs\\python\\python36\\lib\\site-packages\\statsmodels\\regression\\linear_model.py:1638: RuntimeWarning: invalid value encountered in double_scalars\n",
      "  return 1 - self.ssr/self.uncentered_tss\n",
      "c:\\users\\billy\\appdata\\local\\programs\\python\\python36\\lib\\site-packages\\statsmodels\\regression\\linear_model.py:1636: RuntimeWarning: invalid value encountered in double_scalars\n",
      "  return 1 - self.ssr/self.centered_tss\n"
     ]
    },
    {
     "name": "stdout",
     "output_type": "stream",
     "text": [
      "('ORG.AX', 'SGB.AX^D09')\n"
     ]
    },
    {
     "name": "stderr",
     "output_type": "stream",
     "text": [
      "c:\\users\\billy\\appdata\\local\\programs\\python\\python36\\lib\\site-packages\\statsmodels\\regression\\linear_model.py:1636: RuntimeWarning: invalid value encountered in double_scalars\n",
      "  return 1 - self.ssr/self.centered_tss\n"
     ]
    },
    {
     "name": "stdout",
     "output_type": "stream",
     "text": [
      "('ORG.AX', 'SGB.AX^D09')\n"
     ]
    },
    {
     "name": "stderr",
     "output_type": "stream",
     "text": [
      "c:\\users\\billy\\appdata\\local\\programs\\python\\python36\\lib\\site-packages\\statsmodels\\regression\\linear_model.py:1636: RuntimeWarning: invalid value encountered in double_scalars\n",
      "  return 1 - self.ssr/self.centered_tss\n"
     ]
    },
    {
     "name": "stdout",
     "output_type": "stream",
     "text": [
      "('ORG.AX', 'SGB.AX^D09')\n"
     ]
    },
    {
     "name": "stderr",
     "output_type": "stream",
     "text": [
      "c:\\users\\billy\\appdata\\local\\programs\\python\\python36\\lib\\site-packages\\statsmodels\\regression\\linear_model.py:1636: RuntimeWarning: invalid value encountered in double_scalars\n",
      "  return 1 - self.ssr/self.centered_tss\n"
     ]
    },
    {
     "name": "stdout",
     "output_type": "stream",
     "text": [
      "('ORG.AX', 'SGB.AX^D09')\n"
     ]
    },
    {
     "name": "stderr",
     "output_type": "stream",
     "text": [
      "c:\\users\\billy\\appdata\\local\\programs\\python\\python36\\lib\\site-packages\\statsmodels\\regression\\linear_model.py:1636: RuntimeWarning: invalid value encountered in double_scalars\n",
      "  return 1 - self.ssr/self.centered_tss\n"
     ]
    },
    {
     "name": "stdout",
     "output_type": "stream",
     "text": [
      "('ORG.AX', 'SGB.AX^D09')\n"
     ]
    },
    {
     "name": "stderr",
     "output_type": "stream",
     "text": [
      "c:\\users\\billy\\appdata\\local\\programs\\python\\python36\\lib\\site-packages\\statsmodels\\regression\\linear_model.py:1636: RuntimeWarning: invalid value encountered in double_scalars\n",
      "  return 1 - self.ssr/self.centered_tss\n"
     ]
    },
    {
     "name": "stdout",
     "output_type": "stream",
     "text": [
      "('ORG.AX', 'SGB.AX^D09')\n"
     ]
    },
    {
     "name": "stderr",
     "output_type": "stream",
     "text": [
      "c:\\users\\billy\\appdata\\local\\programs\\python\\python36\\lib\\site-packages\\statsmodels\\regression\\linear_model.py:1636: RuntimeWarning: invalid value encountered in double_scalars\n",
      "  return 1 - self.ssr/self.centered_tss\n"
     ]
    },
    {
     "name": "stdout",
     "output_type": "stream",
     "text": [
      "('ORG.AX', 'SGB.AX^D09')\n"
     ]
    },
    {
     "name": "stderr",
     "output_type": "stream",
     "text": [
      "c:\\users\\billy\\appdata\\local\\programs\\python\\python36\\lib\\site-packages\\statsmodels\\regression\\linear_model.py:1636: RuntimeWarning: invalid value encountered in double_scalars\n",
      "  return 1 - self.ssr/self.centered_tss\n"
     ]
    },
    {
     "name": "stdout",
     "output_type": "stream",
     "text": [
      "('ORG.AX', 'SSX.AX^H07')\n",
      "('ORG.AX', 'SSX.AX^H07')\n",
      "('ORG.AX', 'SSX.AX^H07')\n",
      "('ORG.AX', 'SSX.AX^H07')\n",
      "('ORG.AX', 'SSX.AX^H07')\n",
      "('ORG.AX', 'SSX.AX^H07')\n",
      "('ORG.AX', 'SSX.AX^H07')\n",
      "('ORG.AX', 'SSX.AX^H07')\n",
      "('ORG.AX', 'SPT.AX^H12')\n"
     ]
    },
    {
     "name": "stderr",
     "output_type": "stream",
     "text": [
      "c:\\users\\billy\\appdata\\local\\programs\\python\\python36\\lib\\site-packages\\statsmodels\\regression\\linear_model.py:1636: RuntimeWarning: invalid value encountered in double_scalars\n",
      "  return 1 - self.ssr/self.centered_tss\n",
      "c:\\users\\billy\\appdata\\local\\programs\\python\\python36\\lib\\site-packages\\statsmodels\\regression\\linear_model.py:1638: RuntimeWarning: invalid value encountered in double_scalars\n",
      "  return 1 - self.ssr/self.uncentered_tss\n"
     ]
    },
    {
     "name": "stdout",
     "output_type": "stream",
     "text": [
      "('ORG.AX', 'SPT.AX^H12')\n"
     ]
    },
    {
     "name": "stderr",
     "output_type": "stream",
     "text": [
      "c:\\users\\billy\\appdata\\local\\programs\\python\\python36\\lib\\site-packages\\statsmodels\\regression\\linear_model.py:1636: RuntimeWarning: invalid value encountered in double_scalars\n",
      "  return 1 - self.ssr/self.centered_tss\n",
      "c:\\users\\billy\\appdata\\local\\programs\\python\\python36\\lib\\site-packages\\statsmodels\\regression\\linear_model.py:1638: RuntimeWarning: invalid value encountered in double_scalars\n",
      "  return 1 - self.ssr/self.uncentered_tss\n"
     ]
    },
    {
     "name": "stdout",
     "output_type": "stream",
     "text": [
      "('ORG.AX', 'SPT.AX^H12')\n"
     ]
    },
    {
     "name": "stderr",
     "output_type": "stream",
     "text": [
      "c:\\users\\billy\\appdata\\local\\programs\\python\\python36\\lib\\site-packages\\statsmodels\\regression\\linear_model.py:1636: RuntimeWarning: invalid value encountered in double_scalars\n",
      "  return 1 - self.ssr/self.centered_tss\n",
      "c:\\users\\billy\\appdata\\local\\programs\\python\\python36\\lib\\site-packages\\statsmodels\\regression\\linear_model.py:1638: RuntimeWarning: invalid value encountered in double_scalars\n",
      "  return 1 - self.ssr/self.uncentered_tss\n"
     ]
    },
    {
     "name": "stdout",
     "output_type": "stream",
     "text": [
      "('ORG.AX', 'SPT.AX^H12')\n"
     ]
    },
    {
     "name": "stderr",
     "output_type": "stream",
     "text": [
      "c:\\users\\billy\\appdata\\local\\programs\\python\\python36\\lib\\site-packages\\statsmodels\\regression\\linear_model.py:1638: RuntimeWarning: invalid value encountered in double_scalars\n",
      "  return 1 - self.ssr/self.uncentered_tss\n"
     ]
    },
    {
     "name": "stdout",
     "output_type": "stream",
     "text": [
      "('ORG.AX', 'SPT.AX^H12')\n"
     ]
    },
    {
     "name": "stderr",
     "output_type": "stream",
     "text": [
      "c:\\users\\billy\\appdata\\local\\programs\\python\\python36\\lib\\site-packages\\statsmodels\\regression\\linear_model.py:1638: RuntimeWarning: invalid value encountered in double_scalars\n",
      "  return 1 - self.ssr/self.uncentered_tss\n"
     ]
    },
    {
     "name": "stdout",
     "output_type": "stream",
     "text": [
      "('ORG.AX', 'SPT.AX^H12')\n"
     ]
    },
    {
     "name": "stderr",
     "output_type": "stream",
     "text": [
      "c:\\users\\billy\\appdata\\local\\programs\\python\\python36\\lib\\site-packages\\statsmodels\\regression\\linear_model.py:1638: RuntimeWarning: invalid value encountered in double_scalars\n",
      "  return 1 - self.ssr/self.uncentered_tss\n"
     ]
    },
    {
     "name": "stdout",
     "output_type": "stream",
     "text": [
      "('ORG.AX', 'SPT.AX^H12')\n"
     ]
    },
    {
     "name": "stderr",
     "output_type": "stream",
     "text": [
      "c:\\users\\billy\\appdata\\local\\programs\\python\\python36\\lib\\site-packages\\statsmodels\\regression\\linear_model.py:1638: RuntimeWarning: invalid value encountered in double_scalars\n",
      "  return 1 - self.ssr/self.uncentered_tss\n"
     ]
    },
    {
     "name": "stdout",
     "output_type": "stream",
     "text": [
      "('ORG.AX', 'SPT.AX^H12')\n"
     ]
    },
    {
     "name": "stderr",
     "output_type": "stream",
     "text": [
      "c:\\users\\billy\\appdata\\local\\programs\\python\\python36\\lib\\site-packages\\statsmodels\\regression\\linear_model.py:1638: RuntimeWarning: invalid value encountered in double_scalars\n",
      "  return 1 - self.ssr/self.uncentered_tss\n"
     ]
    },
    {
     "name": "stdout",
     "output_type": "stream",
     "text": [
      "('ORG.AX', 'SCP.AX^B01')\n",
      "('ORG.AX', 'SCP.AX^B01')\n",
      "('ORG.AX', 'SCP.AX^B01')\n",
      "('ORG.AX', 'SCP.AX^B01')\n",
      "('ORG.AX', 'SCP.AX^B01')\n",
      "('ORG.AX', 'SCP.AX^B01')\n",
      "('ORG.AX', 'SCP.AX^B01')\n",
      "('ORG.AX', 'SCP.AX^B01')\n",
      "('ORG.AX', 'SRP.AX^F05')\n",
      "('ORG.AX', 'SRP.AX^F05')\n",
      "('ORG.AX', 'SRP.AX^F05')\n",
      "('ORG.AX', 'SRP.AX^F05')\n",
      "('ORG.AX', 'SRP.AX^F05')\n",
      "('ORG.AX', 'SRP.AX^F05')\n",
      "('ORG.AX', 'SRP.AX^F05')\n",
      "('ORG.AX', 'SRP.AX^F05')\n",
      "('ORG.AX', 'SGW.AX^H06')\n",
      "('ORG.AX', 'SGW.AX^H06')\n",
      "('ORG.AX', 'SGW.AX^H06')\n",
      "('ORG.AX', 'SGW.AX^H06')\n",
      "('ORG.AX', 'SGW.AX^H06')\n",
      "('ORG.AX', 'SGW.AX^H06')\n",
      "('ORG.AX', 'SGW.AX^H06')\n",
      "('ORG.AX', 'SGW.AX^H06')\n",
      "('ORG.AX', 'SHL.AX')\n"
     ]
    },
    {
     "name": "stderr",
     "output_type": "stream",
     "text": [
      "c:\\users\\billy\\appdata\\local\\programs\\python\\python36\\lib\\site-packages\\statsmodels\\regression\\linear_model.py:1638: RuntimeWarning: invalid value encountered in double_scalars\n",
      "  return 1 - self.ssr/self.uncentered_tss\n",
      "c:\\users\\billy\\appdata\\local\\programs\\python\\python36\\lib\\site-packages\\statsmodels\\regression\\linear_model.py:1636: RuntimeWarning: invalid value encountered in double_scalars\n",
      "  return 1 - self.ssr/self.centered_tss\n"
     ]
    },
    {
     "name": "stdout",
     "output_type": "stream",
     "text": [
      "('ORG.AX', 'SHL.AX')\n"
     ]
    },
    {
     "name": "stderr",
     "output_type": "stream",
     "text": [
      "c:\\users\\billy\\appdata\\local\\programs\\python\\python36\\lib\\site-packages\\statsmodels\\regression\\linear_model.py:1636: RuntimeWarning: invalid value encountered in double_scalars\n",
      "  return 1 - self.ssr/self.centered_tss\n",
      "c:\\users\\billy\\appdata\\local\\programs\\python\\python36\\lib\\site-packages\\statsmodels\\regression\\linear_model.py:1638: RuntimeWarning: invalid value encountered in double_scalars\n",
      "  return 1 - self.ssr/self.uncentered_tss\n"
     ]
    },
    {
     "name": "stdout",
     "output_type": "stream",
     "text": [
      "('ORG.AX', 'SHL.AX')\n"
     ]
    },
    {
     "name": "stderr",
     "output_type": "stream",
     "text": [
      "c:\\users\\billy\\appdata\\local\\programs\\python\\python36\\lib\\site-packages\\statsmodels\\regression\\linear_model.py:1636: RuntimeWarning: invalid value encountered in double_scalars\n",
      "  return 1 - self.ssr/self.centered_tss\n",
      "c:\\users\\billy\\appdata\\local\\programs\\python\\python36\\lib\\site-packages\\statsmodels\\regression\\linear_model.py:1638: RuntimeWarning: invalid value encountered in double_scalars\n",
      "  return 1 - self.ssr/self.uncentered_tss\n"
     ]
    },
    {
     "name": "stdout",
     "output_type": "stream",
     "text": [
      "('ORG.AX', 'SHL.AX')\n"
     ]
    },
    {
     "name": "stderr",
     "output_type": "stream",
     "text": [
      "c:\\users\\billy\\appdata\\local\\programs\\python\\python36\\lib\\site-packages\\statsmodels\\regression\\linear_model.py:1638: RuntimeWarning: invalid value encountered in double_scalars\n",
      "  return 1 - self.ssr/self.uncentered_tss\n"
     ]
    },
    {
     "name": "stdout",
     "output_type": "stream",
     "text": [
      "('ORG.AX', 'SHL.AX')\n"
     ]
    },
    {
     "name": "stderr",
     "output_type": "stream",
     "text": [
      "c:\\users\\billy\\appdata\\local\\programs\\python\\python36\\lib\\site-packages\\statsmodels\\regression\\linear_model.py:1638: RuntimeWarning: invalid value encountered in double_scalars\n",
      "  return 1 - self.ssr/self.uncentered_tss\n"
     ]
    },
    {
     "name": "stdout",
     "output_type": "stream",
     "text": [
      "('ORG.AX', 'SHL.AX')\n"
     ]
    },
    {
     "name": "stderr",
     "output_type": "stream",
     "text": [
      "c:\\users\\billy\\appdata\\local\\programs\\python\\python36\\lib\\site-packages\\statsmodels\\regression\\linear_model.py:1638: RuntimeWarning: invalid value encountered in double_scalars\n",
      "  return 1 - self.ssr/self.uncentered_tss\n"
     ]
    },
    {
     "name": "stdout",
     "output_type": "stream",
     "text": [
      "('ORG.AX', 'SHL.AX')\n"
     ]
    },
    {
     "name": "stderr",
     "output_type": "stream",
     "text": [
      "c:\\users\\billy\\appdata\\local\\programs\\python\\python36\\lib\\site-packages\\statsmodels\\regression\\linear_model.py:1638: RuntimeWarning: invalid value encountered in double_scalars\n",
      "  return 1 - self.ssr/self.uncentered_tss\n"
     ]
    },
    {
     "name": "stdout",
     "output_type": "stream",
     "text": [
      "('ORG.AX', 'SHL.AX')\n"
     ]
    },
    {
     "name": "stderr",
     "output_type": "stream",
     "text": [
      "c:\\users\\billy\\appdata\\local\\programs\\python\\python36\\lib\\site-packages\\statsmodels\\regression\\linear_model.py:1638: RuntimeWarning: invalid value encountered in double_scalars\n",
      "  return 1 - self.ssr/self.uncentered_tss\n"
     ]
    },
    {
     "name": "stdout",
     "output_type": "stream",
     "text": [
      "('ORG.AX', 'SOH.AX^H04')\n",
      "('ORG.AX', 'SOH.AX^H04')\n",
      "('ORG.AX', 'SOH.AX^H04')\n",
      "('ORG.AX', 'SOH.AX^H04')\n",
      "('ORG.AX', 'SOH.AX^H04')\n",
      "('ORG.AX', 'SOH.AX^H04')\n",
      "('ORG.AX', 'SOH.AX^H04')\n",
      "('ORG.AX', 'SOH.AX^H04')\n",
      "('ORG.AX', 'SMX.AX^I17')\n"
     ]
    },
    {
     "name": "stderr",
     "output_type": "stream",
     "text": [
      "c:\\users\\billy\\appdata\\local\\programs\\python\\python36\\lib\\site-packages\\statsmodels\\regression\\linear_model.py:1638: RuntimeWarning: invalid value encountered in double_scalars\n",
      "  return 1 - self.ssr/self.uncentered_tss\n",
      "c:\\users\\billy\\appdata\\local\\programs\\python\\python36\\lib\\site-packages\\statsmodels\\regression\\linear_model.py:1636: RuntimeWarning: invalid value encountered in double_scalars\n",
      "  return 1 - self.ssr/self.centered_tss\n"
     ]
    },
    {
     "name": "stdout",
     "output_type": "stream",
     "text": [
      "('ORG.AX', 'SMX.AX^I17')\n"
     ]
    },
    {
     "name": "stderr",
     "output_type": "stream",
     "text": [
      "c:\\users\\billy\\appdata\\local\\programs\\python\\python36\\lib\\site-packages\\statsmodels\\regression\\linear_model.py:1638: RuntimeWarning: invalid value encountered in double_scalars\n",
      "  return 1 - self.ssr/self.uncentered_tss\n",
      "c:\\users\\billy\\appdata\\local\\programs\\python\\python36\\lib\\site-packages\\statsmodels\\regression\\linear_model.py:1636: RuntimeWarning: invalid value encountered in double_scalars\n",
      "  return 1 - self.ssr/self.centered_tss\n"
     ]
    },
    {
     "name": "stdout",
     "output_type": "stream",
     "text": [
      "('ORG.AX', 'SMX.AX^I17')\n"
     ]
    },
    {
     "name": "stderr",
     "output_type": "stream",
     "text": [
      "c:\\users\\billy\\appdata\\local\\programs\\python\\python36\\lib\\site-packages\\statsmodels\\regression\\linear_model.py:1638: RuntimeWarning: invalid value encountered in double_scalars\n",
      "  return 1 - self.ssr/self.uncentered_tss\n",
      "c:\\users\\billy\\appdata\\local\\programs\\python\\python36\\lib\\site-packages\\statsmodels\\regression\\linear_model.py:1636: RuntimeWarning: invalid value encountered in double_scalars\n",
      "  return 1 - self.ssr/self.centered_tss\n"
     ]
    },
    {
     "name": "stdout",
     "output_type": "stream",
     "text": [
      "('ORG.AX', 'SMX.AX^I17')\n"
     ]
    },
    {
     "name": "stderr",
     "output_type": "stream",
     "text": [
      "c:\\users\\billy\\appdata\\local\\programs\\python\\python36\\lib\\site-packages\\statsmodels\\regression\\linear_model.py:1636: RuntimeWarning: invalid value encountered in double_scalars\n",
      "  return 1 - self.ssr/self.centered_tss\n"
     ]
    },
    {
     "name": "stdout",
     "output_type": "stream",
     "text": [
      "('ORG.AX', 'SMX.AX^I17')\n"
     ]
    },
    {
     "name": "stderr",
     "output_type": "stream",
     "text": [
      "c:\\users\\billy\\appdata\\local\\programs\\python\\python36\\lib\\site-packages\\statsmodels\\regression\\linear_model.py:1636: RuntimeWarning: invalid value encountered in double_scalars\n",
      "  return 1 - self.ssr/self.centered_tss\n"
     ]
    },
    {
     "name": "stdout",
     "output_type": "stream",
     "text": [
      "('ORG.AX', 'SMX.AX^I17')\n"
     ]
    },
    {
     "name": "stderr",
     "output_type": "stream",
     "text": [
      "c:\\users\\billy\\appdata\\local\\programs\\python\\python36\\lib\\site-packages\\statsmodels\\regression\\linear_model.py:1636: RuntimeWarning: invalid value encountered in double_scalars\n",
      "  return 1 - self.ssr/self.centered_tss\n"
     ]
    },
    {
     "name": "stdout",
     "output_type": "stream",
     "text": [
      "('ORG.AX', 'SMX.AX^I17')\n"
     ]
    },
    {
     "name": "stderr",
     "output_type": "stream",
     "text": [
      "c:\\users\\billy\\appdata\\local\\programs\\python\\python36\\lib\\site-packages\\statsmodels\\regression\\linear_model.py:1636: RuntimeWarning: invalid value encountered in double_scalars\n",
      "  return 1 - self.ssr/self.centered_tss\n"
     ]
    },
    {
     "name": "stdout",
     "output_type": "stream",
     "text": [
      "('ORG.AX', 'SMX.AX^I17')\n"
     ]
    },
    {
     "name": "stderr",
     "output_type": "stream",
     "text": [
      "c:\\users\\billy\\appdata\\local\\programs\\python\\python36\\lib\\site-packages\\statsmodels\\regression\\linear_model.py:1636: RuntimeWarning: invalid value encountered in double_scalars\n",
      "  return 1 - self.ssr/self.centered_tss\n"
     ]
    },
    {
     "name": "stdout",
     "output_type": "stream",
     "text": [
      "('ORG.AX', 'SKE.AX^J15')\n"
     ]
    },
    {
     "name": "stderr",
     "output_type": "stream",
     "text": [
      "c:\\users\\billy\\appdata\\local\\programs\\python\\python36\\lib\\site-packages\\statsmodels\\regression\\linear_model.py:1638: RuntimeWarning: invalid value encountered in double_scalars\n",
      "  return 1 - self.ssr/self.uncentered_tss\n",
      "c:\\users\\billy\\appdata\\local\\programs\\python\\python36\\lib\\site-packages\\statsmodels\\regression\\linear_model.py:1636: RuntimeWarning: invalid value encountered in double_scalars\n",
      "  return 1 - self.ssr/self.centered_tss\n"
     ]
    },
    {
     "name": "stdout",
     "output_type": "stream",
     "text": [
      "('ORG.AX', 'SKE.AX^J15')\n"
     ]
    },
    {
     "name": "stderr",
     "output_type": "stream",
     "text": [
      "c:\\users\\billy\\appdata\\local\\programs\\python\\python36\\lib\\site-packages\\statsmodels\\regression\\linear_model.py:1638: RuntimeWarning: invalid value encountered in double_scalars\n",
      "  return 1 - self.ssr/self.uncentered_tss\n"
     ]
    },
    {
     "name": "stdout",
     "output_type": "stream",
     "text": [
      "('ORG.AX', 'SKE.AX^J15')\n"
     ]
    },
    {
     "name": "stderr",
     "output_type": "stream",
     "text": [
      "c:\\users\\billy\\appdata\\local\\programs\\python\\python36\\lib\\site-packages\\statsmodels\\regression\\linear_model.py:1638: RuntimeWarning: invalid value encountered in double_scalars\n",
      "  return 1 - self.ssr/self.uncentered_tss\n"
     ]
    },
    {
     "name": "stdout",
     "output_type": "stream",
     "text": [
      "('ORG.AX', 'SKE.AX^J15')\n"
     ]
    },
    {
     "name": "stderr",
     "output_type": "stream",
     "text": [
      "c:\\users\\billy\\appdata\\local\\programs\\python\\python36\\lib\\site-packages\\statsmodels\\regression\\linear_model.py:1638: RuntimeWarning: invalid value encountered in double_scalars\n",
      "  return 1 - self.ssr/self.uncentered_tss\n"
     ]
    },
    {
     "name": "stdout",
     "output_type": "stream",
     "text": [
      "('ORG.AX', 'SKE.AX^J15')\n"
     ]
    },
    {
     "name": "stderr",
     "output_type": "stream",
     "text": [
      "c:\\users\\billy\\appdata\\local\\programs\\python\\python36\\lib\\site-packages\\statsmodels\\regression\\linear_model.py:1638: RuntimeWarning: invalid value encountered in double_scalars\n",
      "  return 1 - self.ssr/self.uncentered_tss\n"
     ]
    },
    {
     "name": "stdout",
     "output_type": "stream",
     "text": [
      "('ORG.AX', 'SKE.AX^J15')\n"
     ]
    },
    {
     "name": "stderr",
     "output_type": "stream",
     "text": [
      "c:\\users\\billy\\appdata\\local\\programs\\python\\python36\\lib\\site-packages\\statsmodels\\regression\\linear_model.py:1638: RuntimeWarning: invalid value encountered in double_scalars\n",
      "  return 1 - self.ssr/self.uncentered_tss\n"
     ]
    },
    {
     "name": "stdout",
     "output_type": "stream",
     "text": [
      "('ORG.AX', 'SKE.AX^J15')\n"
     ]
    },
    {
     "name": "stderr",
     "output_type": "stream",
     "text": [
      "c:\\users\\billy\\appdata\\local\\programs\\python\\python36\\lib\\site-packages\\statsmodels\\regression\\linear_model.py:1638: RuntimeWarning: invalid value encountered in double_scalars\n",
      "  return 1 - self.ssr/self.uncentered_tss\n"
     ]
    },
    {
     "name": "stdout",
     "output_type": "stream",
     "text": [
      "('ORG.AX', 'SKE.AX^J15')\n"
     ]
    },
    {
     "name": "stderr",
     "output_type": "stream",
     "text": [
      "c:\\users\\billy\\appdata\\local\\programs\\python\\python36\\lib\\site-packages\\statsmodels\\regression\\linear_model.py:1638: RuntimeWarning: invalid value encountered in double_scalars\n",
      "  return 1 - self.ssr/self.uncentered_tss\n"
     ]
    },
    {
     "name": "stdout",
     "output_type": "stream",
     "text": [
      "('ORG.AX', 'SGM.AX')\n"
     ]
    },
    {
     "name": "stderr",
     "output_type": "stream",
     "text": [
      "c:\\users\\billy\\appdata\\local\\programs\\python\\python36\\lib\\site-packages\\statsmodels\\regression\\linear_model.py:1638: RuntimeWarning: invalid value encountered in double_scalars\n",
      "  return 1 - self.ssr/self.uncentered_tss\n",
      "c:\\users\\billy\\appdata\\local\\programs\\python\\python36\\lib\\site-packages\\statsmodels\\regression\\linear_model.py:1636: RuntimeWarning: invalid value encountered in double_scalars\n",
      "  return 1 - self.ssr/self.centered_tss\n"
     ]
    },
    {
     "name": "stdout",
     "output_type": "stream",
     "text": [
      "('ORG.AX', 'SGM.AX')\n"
     ]
    },
    {
     "name": "stderr",
     "output_type": "stream",
     "text": [
      "c:\\users\\billy\\appdata\\local\\programs\\python\\python36\\lib\\site-packages\\statsmodels\\regression\\linear_model.py:1638: RuntimeWarning: invalid value encountered in double_scalars\n",
      "  return 1 - self.ssr/self.uncentered_tss\n",
      "c:\\users\\billy\\appdata\\local\\programs\\python\\python36\\lib\\site-packages\\statsmodels\\regression\\linear_model.py:1636: RuntimeWarning: invalid value encountered in double_scalars\n",
      "  return 1 - self.ssr/self.centered_tss\n"
     ]
    },
    {
     "name": "stdout",
     "output_type": "stream",
     "text": [
      "('ORG.AX', 'SGM.AX')\n"
     ]
    },
    {
     "name": "stderr",
     "output_type": "stream",
     "text": [
      "c:\\users\\billy\\appdata\\local\\programs\\python\\python36\\lib\\site-packages\\statsmodels\\regression\\linear_model.py:1638: RuntimeWarning: invalid value encountered in double_scalars\n",
      "  return 1 - self.ssr/self.uncentered_tss\n",
      "c:\\users\\billy\\appdata\\local\\programs\\python\\python36\\lib\\site-packages\\statsmodels\\regression\\linear_model.py:1636: RuntimeWarning: invalid value encountered in double_scalars\n",
      "  return 1 - self.ssr/self.centered_tss\n"
     ]
    },
    {
     "name": "stdout",
     "output_type": "stream",
     "text": [
      "('ORG.AX', 'SGM.AX')\n"
     ]
    },
    {
     "name": "stderr",
     "output_type": "stream",
     "text": [
      "c:\\users\\billy\\appdata\\local\\programs\\python\\python36\\lib\\site-packages\\statsmodels\\regression\\linear_model.py:1636: RuntimeWarning: invalid value encountered in double_scalars\n",
      "  return 1 - self.ssr/self.centered_tss\n"
     ]
    },
    {
     "name": "stdout",
     "output_type": "stream",
     "text": [
      "('ORG.AX', 'SGM.AX')\n"
     ]
    },
    {
     "name": "stderr",
     "output_type": "stream",
     "text": [
      "c:\\users\\billy\\appdata\\local\\programs\\python\\python36\\lib\\site-packages\\statsmodels\\regression\\linear_model.py:1636: RuntimeWarning: invalid value encountered in double_scalars\n",
      "  return 1 - self.ssr/self.centered_tss\n"
     ]
    },
    {
     "name": "stdout",
     "output_type": "stream",
     "text": [
      "('ORG.AX', 'SGM.AX')\n"
     ]
    },
    {
     "name": "stderr",
     "output_type": "stream",
     "text": [
      "c:\\users\\billy\\appdata\\local\\programs\\python\\python36\\lib\\site-packages\\statsmodels\\regression\\linear_model.py:1636: RuntimeWarning: invalid value encountered in double_scalars\n",
      "  return 1 - self.ssr/self.centered_tss\n"
     ]
    },
    {
     "name": "stdout",
     "output_type": "stream",
     "text": [
      "('ORG.AX', 'SGM.AX')\n"
     ]
    },
    {
     "name": "stderr",
     "output_type": "stream",
     "text": [
      "c:\\users\\billy\\appdata\\local\\programs\\python\\python36\\lib\\site-packages\\statsmodels\\regression\\linear_model.py:1636: RuntimeWarning: invalid value encountered in double_scalars\n",
      "  return 1 - self.ssr/self.centered_tss\n"
     ]
    },
    {
     "name": "stdout",
     "output_type": "stream",
     "text": [
      "('ORG.AX', 'SGM.AX')\n"
     ]
    },
    {
     "name": "stderr",
     "output_type": "stream",
     "text": [
      "c:\\users\\billy\\appdata\\local\\programs\\python\\python36\\lib\\site-packages\\statsmodels\\regression\\linear_model.py:1636: RuntimeWarning: invalid value encountered in double_scalars\n",
      "  return 1 - self.ssr/self.centered_tss\n"
     ]
    },
    {
     "name": "stdout",
     "output_type": "stream",
     "text": [
      "('ORG.AX', 'SWS.AX^G02')\n",
      "('ORG.AX', 'SWS.AX^G02')\n",
      "('ORG.AX', 'SWS.AX^G02')\n",
      "('ORG.AX', 'SWS.AX^G02')\n",
      "('ORG.AX', 'SWS.AX^G02')\n",
      "('ORG.AX', 'SWS.AX^G02')\n",
      "('ORG.AX', 'SWS.AX^G02')\n",
      "('ORG.AX', 'SWS.AX^G02')\n",
      "('ORG.AX', 'SLX.AX')\n"
     ]
    },
    {
     "name": "stderr",
     "output_type": "stream",
     "text": [
      "c:\\users\\billy\\appdata\\local\\programs\\python\\python36\\lib\\site-packages\\statsmodels\\regression\\linear_model.py:1636: RuntimeWarning: invalid value encountered in double_scalars\n",
      "  return 1 - self.ssr/self.centered_tss\n",
      "c:\\users\\billy\\appdata\\local\\programs\\python\\python36\\lib\\site-packages\\statsmodels\\regression\\linear_model.py:1638: RuntimeWarning: invalid value encountered in double_scalars\n",
      "  return 1 - self.ssr/self.uncentered_tss\n"
     ]
    },
    {
     "name": "stdout",
     "output_type": "stream",
     "text": [
      "('ORG.AX', 'SLX.AX')\n"
     ]
    },
    {
     "name": "stderr",
     "output_type": "stream",
     "text": [
      "c:\\users\\billy\\appdata\\local\\programs\\python\\python36\\lib\\site-packages\\statsmodels\\regression\\linear_model.py:1638: RuntimeWarning: invalid value encountered in double_scalars\n",
      "  return 1 - self.ssr/self.uncentered_tss\n"
     ]
    },
    {
     "name": "stdout",
     "output_type": "stream",
     "text": [
      "('ORG.AX', 'SLX.AX')\n"
     ]
    },
    {
     "name": "stderr",
     "output_type": "stream",
     "text": [
      "c:\\users\\billy\\appdata\\local\\programs\\python\\python36\\lib\\site-packages\\statsmodels\\regression\\linear_model.py:1638: RuntimeWarning: invalid value encountered in double_scalars\n",
      "  return 1 - self.ssr/self.uncentered_tss\n"
     ]
    },
    {
     "name": "stdout",
     "output_type": "stream",
     "text": [
      "('ORG.AX', 'SLX.AX')\n"
     ]
    },
    {
     "name": "stderr",
     "output_type": "stream",
     "text": [
      "c:\\users\\billy\\appdata\\local\\programs\\python\\python36\\lib\\site-packages\\statsmodels\\regression\\linear_model.py:1638: RuntimeWarning: invalid value encountered in double_scalars\n",
      "  return 1 - self.ssr/self.uncentered_tss\n"
     ]
    },
    {
     "name": "stdout",
     "output_type": "stream",
     "text": [
      "('ORG.AX', 'SLX.AX')\n"
     ]
    },
    {
     "name": "stderr",
     "output_type": "stream",
     "text": [
      "c:\\users\\billy\\appdata\\local\\programs\\python\\python36\\lib\\site-packages\\statsmodels\\regression\\linear_model.py:1638: RuntimeWarning: invalid value encountered in double_scalars\n",
      "  return 1 - self.ssr/self.uncentered_tss\n"
     ]
    },
    {
     "name": "stdout",
     "output_type": "stream",
     "text": [
      "('ORG.AX', 'SLX.AX')\n"
     ]
    },
    {
     "name": "stderr",
     "output_type": "stream",
     "text": [
      "c:\\users\\billy\\appdata\\local\\programs\\python\\python36\\lib\\site-packages\\statsmodels\\regression\\linear_model.py:1638: RuntimeWarning: invalid value encountered in double_scalars\n",
      "  return 1 - self.ssr/self.uncentered_tss\n"
     ]
    },
    {
     "name": "stdout",
     "output_type": "stream",
     "text": [
      "('ORG.AX', 'SLX.AX')\n"
     ]
    },
    {
     "name": "stderr",
     "output_type": "stream",
     "text": [
      "c:\\users\\billy\\appdata\\local\\programs\\python\\python36\\lib\\site-packages\\statsmodels\\regression\\linear_model.py:1638: RuntimeWarning: invalid value encountered in double_scalars\n",
      "  return 1 - self.ssr/self.uncentered_tss\n"
     ]
    },
    {
     "name": "stdout",
     "output_type": "stream",
     "text": [
      "('ORG.AX', 'SLX.AX')\n"
     ]
    },
    {
     "name": "stderr",
     "output_type": "stream",
     "text": [
      "c:\\users\\billy\\appdata\\local\\programs\\python\\python36\\lib\\site-packages\\statsmodels\\regression\\linear_model.py:1638: RuntimeWarning: invalid value encountered in double_scalars\n",
      "  return 1 - self.ssr/self.uncentered_tss\n"
     ]
    },
    {
     "name": "stdout",
     "output_type": "stream",
     "text": [
      "('ORG.AX', 'SID.AX^F00')\n",
      "('ORG.AX', 'SID.AX^F00')\n",
      "('ORG.AX', 'SID.AX^F00')\n",
      "('ORG.AX', 'SID.AX^F00')\n",
      "('ORG.AX', 'SID.AX^F00')\n",
      "('ORG.AX', 'SID.AX^F00')\n",
      "('ORG.AX', 'SID.AX^F00')\n",
      "('ORG.AX', 'SID.AX^F00')\n",
      "('ORG.AX', 'SWM.AX')\n"
     ]
    },
    {
     "name": "stderr",
     "output_type": "stream",
     "text": [
      "c:\\users\\billy\\appdata\\local\\programs\\python\\python36\\lib\\site-packages\\statsmodels\\regression\\linear_model.py:1636: RuntimeWarning: invalid value encountered in double_scalars\n",
      "  return 1 - self.ssr/self.centered_tss\n",
      "c:\\users\\billy\\appdata\\local\\programs\\python\\python36\\lib\\site-packages\\statsmodels\\regression\\linear_model.py:1638: RuntimeWarning: invalid value encountered in double_scalars\n",
      "  return 1 - self.ssr/self.uncentered_tss\n"
     ]
    },
    {
     "name": "stdout",
     "output_type": "stream",
     "text": [
      "('ORG.AX', 'SWM.AX')\n"
     ]
    },
    {
     "name": "stderr",
     "output_type": "stream",
     "text": [
      "c:\\users\\billy\\appdata\\local\\programs\\python\\python36\\lib\\site-packages\\statsmodels\\regression\\linear_model.py:1638: RuntimeWarning: invalid value encountered in double_scalars\n",
      "  return 1 - self.ssr/self.uncentered_tss\n"
     ]
    },
    {
     "name": "stdout",
     "output_type": "stream",
     "text": [
      "('ORG.AX', 'SWM.AX')\n"
     ]
    },
    {
     "name": "stderr",
     "output_type": "stream",
     "text": [
      "c:\\users\\billy\\appdata\\local\\programs\\python\\python36\\lib\\site-packages\\statsmodels\\regression\\linear_model.py:1638: RuntimeWarning: invalid value encountered in double_scalars\n",
      "  return 1 - self.ssr/self.uncentered_tss\n"
     ]
    },
    {
     "name": "stdout",
     "output_type": "stream",
     "text": [
      "('ORG.AX', 'SWM.AX')\n"
     ]
    },
    {
     "name": "stderr",
     "output_type": "stream",
     "text": [
      "c:\\users\\billy\\appdata\\local\\programs\\python\\python36\\lib\\site-packages\\statsmodels\\regression\\linear_model.py:1638: RuntimeWarning: invalid value encountered in double_scalars\n",
      "  return 1 - self.ssr/self.uncentered_tss\n"
     ]
    },
    {
     "name": "stdout",
     "output_type": "stream",
     "text": [
      "('ORG.AX', 'SWM.AX')\n"
     ]
    },
    {
     "name": "stderr",
     "output_type": "stream",
     "text": [
      "c:\\users\\billy\\appdata\\local\\programs\\python\\python36\\lib\\site-packages\\statsmodels\\regression\\linear_model.py:1638: RuntimeWarning: invalid value encountered in double_scalars\n",
      "  return 1 - self.ssr/self.uncentered_tss\n"
     ]
    },
    {
     "name": "stdout",
     "output_type": "stream",
     "text": [
      "('ORG.AX', 'SWM.AX')\n"
     ]
    },
    {
     "name": "stderr",
     "output_type": "stream",
     "text": [
      "c:\\users\\billy\\appdata\\local\\programs\\python\\python36\\lib\\site-packages\\statsmodels\\regression\\linear_model.py:1638: RuntimeWarning: invalid value encountered in double_scalars\n",
      "  return 1 - self.ssr/self.uncentered_tss\n"
     ]
    },
    {
     "name": "stdout",
     "output_type": "stream",
     "text": [
      "('ORG.AX', 'SWM.AX')\n"
     ]
    },
    {
     "name": "stderr",
     "output_type": "stream",
     "text": [
      "c:\\users\\billy\\appdata\\local\\programs\\python\\python36\\lib\\site-packages\\statsmodels\\regression\\linear_model.py:1638: RuntimeWarning: invalid value encountered in double_scalars\n",
      "  return 1 - self.ssr/self.uncentered_tss\n"
     ]
    },
    {
     "name": "stdout",
     "output_type": "stream",
     "text": [
      "('ORG.AX', 'SWM.AX')\n"
     ]
    },
    {
     "name": "stderr",
     "output_type": "stream",
     "text": [
      "c:\\users\\billy\\appdata\\local\\programs\\python\\python36\\lib\\site-packages\\statsmodels\\regression\\linear_model.py:1638: RuntimeWarning: invalid value encountered in double_scalars\n",
      "  return 1 - self.ssr/self.uncentered_tss\n"
     ]
    },
    {
     "name": "stdout",
     "output_type": "stream",
     "text": [
      "('ORG.AX', 'SEV.AX^G10')\n"
     ]
    },
    {
     "name": "stderr",
     "output_type": "stream",
     "text": [
      "c:\\users\\billy\\appdata\\local\\programs\\python\\python36\\lib\\site-packages\\statsmodels\\regression\\linear_model.py:1638: RuntimeWarning: invalid value encountered in double_scalars\n",
      "  return 1 - self.ssr/self.uncentered_tss\n",
      "c:\\users\\billy\\appdata\\local\\programs\\python\\python36\\lib\\site-packages\\statsmodels\\regression\\linear_model.py:1636: RuntimeWarning: invalid value encountered in double_scalars\n",
      "  return 1 - self.ssr/self.centered_tss\n"
     ]
    },
    {
     "name": "stdout",
     "output_type": "stream",
     "text": [
      "('ORG.AX', 'SEV.AX^G10')\n"
     ]
    },
    {
     "name": "stderr",
     "output_type": "stream",
     "text": [
      "c:\\users\\billy\\appdata\\local\\programs\\python\\python36\\lib\\site-packages\\statsmodels\\regression\\linear_model.py:1636: RuntimeWarning: invalid value encountered in double_scalars\n",
      "  return 1 - self.ssr/self.centered_tss\n"
     ]
    },
    {
     "name": "stdout",
     "output_type": "stream",
     "text": [
      "('ORG.AX', 'SEV.AX^G10')\n"
     ]
    },
    {
     "name": "stderr",
     "output_type": "stream",
     "text": [
      "c:\\users\\billy\\appdata\\local\\programs\\python\\python36\\lib\\site-packages\\statsmodels\\regression\\linear_model.py:1636: RuntimeWarning: invalid value encountered in double_scalars\n",
      "  return 1 - self.ssr/self.centered_tss\n"
     ]
    },
    {
     "name": "stdout",
     "output_type": "stream",
     "text": [
      "('ORG.AX', 'SEV.AX^G10')\n"
     ]
    },
    {
     "name": "stderr",
     "output_type": "stream",
     "text": [
      "c:\\users\\billy\\appdata\\local\\programs\\python\\python36\\lib\\site-packages\\statsmodels\\regression\\linear_model.py:1636: RuntimeWarning: invalid value encountered in double_scalars\n",
      "  return 1 - self.ssr/self.centered_tss\n"
     ]
    },
    {
     "name": "stdout",
     "output_type": "stream",
     "text": [
      "('ORG.AX', 'SEV.AX^G10')\n"
     ]
    },
    {
     "name": "stderr",
     "output_type": "stream",
     "text": [
      "c:\\users\\billy\\appdata\\local\\programs\\python\\python36\\lib\\site-packages\\statsmodels\\regression\\linear_model.py:1636: RuntimeWarning: invalid value encountered in double_scalars\n",
      "  return 1 - self.ssr/self.centered_tss\n"
     ]
    },
    {
     "name": "stdout",
     "output_type": "stream",
     "text": [
      "('ORG.AX', 'SEV.AX^G10')\n"
     ]
    },
    {
     "name": "stderr",
     "output_type": "stream",
     "text": [
      "c:\\users\\billy\\appdata\\local\\programs\\python\\python36\\lib\\site-packages\\statsmodels\\regression\\linear_model.py:1636: RuntimeWarning: invalid value encountered in double_scalars\n",
      "  return 1 - self.ssr/self.centered_tss\n"
     ]
    },
    {
     "name": "stdout",
     "output_type": "stream",
     "text": [
      "('ORG.AX', 'SEV.AX^G10')\n"
     ]
    },
    {
     "name": "stderr",
     "output_type": "stream",
     "text": [
      "c:\\users\\billy\\appdata\\local\\programs\\python\\python36\\lib\\site-packages\\statsmodels\\regression\\linear_model.py:1636: RuntimeWarning: invalid value encountered in double_scalars\n",
      "  return 1 - self.ssr/self.centered_tss\n"
     ]
    },
    {
     "name": "stdout",
     "output_type": "stream",
     "text": [
      "('ORG.AX', 'SEV.AX^G10')\n"
     ]
    },
    {
     "name": "stderr",
     "output_type": "stream",
     "text": [
      "c:\\users\\billy\\appdata\\local\\programs\\python\\python36\\lib\\site-packages\\statsmodels\\regression\\linear_model.py:1636: RuntimeWarning: invalid value encountered in double_scalars\n",
      "  return 1 - self.ssr/self.centered_tss\n"
     ]
    },
    {
     "name": "stdout",
     "output_type": "stream",
     "text": [
      "('ORG.AX', 'SNX.AX^I03')\n",
      "('ORG.AX', 'SNX.AX^I03')\n",
      "('ORG.AX', 'SNX.AX^I03')\n",
      "('ORG.AX', 'SNX.AX^I03')\n",
      "('ORG.AX', 'SNX.AX^I03')\n",
      "('ORG.AX', 'SNX.AX^I03')\n",
      "('ORG.AX', 'SNX.AX^I03')\n",
      "('ORG.AX', 'SNX.AX^I03')\n",
      "('ORG.AX', 'WSF.AX^F17')\n",
      "index -1 is out of bounds for axis 0 with size 0\n",
      "('ORG.AX', 'WSF.AX^F17')\n",
      "index -1 is out of bounds for axis 0 with size 0\n",
      "('ORG.AX', 'WSF.AX^F17')\n",
      "index -1 is out of bounds for axis 0 with size 0\n",
      "('ORG.AX', 'WSF.AX^F17')\n",
      "index -1 is out of bounds for axis 0 with size 0\n",
      "('ORG.AX', 'WSF.AX^F17')\n",
      "index -1 is out of bounds for axis 0 with size 0\n",
      "('ORG.AX', 'WSF.AX^F17')\n",
      "index -1 is out of bounds for axis 0 with size 0\n",
      "('ORG.AX', 'WSF.AX^F17')\n",
      "index -1 is out of bounds for axis 0 with size 0\n",
      "('ORG.AX', 'WSF.AX^F17')\n",
      "index -1 is out of bounds for axis 0 with size 0\n",
      "('ORG.AX', 'SCW.AX^F17')\n",
      "index -1 is out of bounds for axis 0 with size 0\n",
      "('ORG.AX', 'SCW.AX^F17')\n",
      "index -1 is out of bounds for axis 0 with size 0\n",
      "('ORG.AX', 'SCW.AX^F17')\n",
      "index -1 is out of bounds for axis 0 with size 0\n",
      "('ORG.AX', 'SCW.AX^F17')\n",
      "index -1 is out of bounds for axis 0 with size 0\n",
      "('ORG.AX', 'SCW.AX^F17')\n",
      "index -1 is out of bounds for axis 0 with size 0\n",
      "('ORG.AX', 'SCW.AX^F17')\n",
      "index -1 is out of bounds for axis 0 with size 0\n",
      "('ORG.AX', 'SCW.AX^F17')\n",
      "index -1 is out of bounds for axis 0 with size 0\n",
      "('ORG.AX', 'SCW.AX^F17')\n",
      "index -1 is out of bounds for axis 0 with size 0\n",
      "('ORG.AX', 'WFTN.AX^H00')\n",
      "('ORG.AX', 'WFTN.AX^H00')\n",
      "('ORG.AX', 'WFTN.AX^H00')\n",
      "('ORG.AX', 'WFTN.AX^H00')\n",
      "('ORG.AX', 'WFTN.AX^H00')\n",
      "('ORG.AX', 'WFTN.AX^H00')\n",
      "('ORG.AX', 'WFTN.AX^H00')\n",
      "('ORG.AX', 'WFTN.AX^H00')\n",
      "('ORG.AX', 'STO.AX')\n"
     ]
    },
    {
     "name": "stderr",
     "output_type": "stream",
     "text": [
      "c:\\users\\billy\\appdata\\local\\programs\\python\\python36\\lib\\site-packages\\statsmodels\\regression\\linear_model.py:1636: RuntimeWarning: invalid value encountered in double_scalars\n",
      "  return 1 - self.ssr/self.centered_tss\n",
      "c:\\users\\billy\\appdata\\local\\programs\\python\\python36\\lib\\site-packages\\statsmodels\\regression\\linear_model.py:1638: RuntimeWarning: invalid value encountered in double_scalars\n",
      "  return 1 - self.ssr/self.uncentered_tss\n"
     ]
    },
    {
     "name": "stdout",
     "output_type": "stream",
     "text": [
      "('ORG.AX', 'STO.AX')\n"
     ]
    },
    {
     "name": "stderr",
     "output_type": "stream",
     "text": [
      "c:\\users\\billy\\appdata\\local\\programs\\python\\python36\\lib\\site-packages\\statsmodels\\regression\\linear_model.py:1638: RuntimeWarning: invalid value encountered in double_scalars\n",
      "  return 1 - self.ssr/self.uncentered_tss\n",
      "c:\\users\\billy\\appdata\\local\\programs\\python\\python36\\lib\\site-packages\\statsmodels\\regression\\linear_model.py:1636: RuntimeWarning: invalid value encountered in double_scalars\n",
      "  return 1 - self.ssr/self.centered_tss\n"
     ]
    },
    {
     "name": "stdout",
     "output_type": "stream",
     "text": [
      "('ORG.AX', 'STO.AX')\n"
     ]
    },
    {
     "name": "stderr",
     "output_type": "stream",
     "text": [
      "c:\\users\\billy\\appdata\\local\\programs\\python\\python36\\lib\\site-packages\\statsmodels\\regression\\linear_model.py:1638: RuntimeWarning: invalid value encountered in double_scalars\n",
      "  return 1 - self.ssr/self.uncentered_tss\n",
      "c:\\users\\billy\\appdata\\local\\programs\\python\\python36\\lib\\site-packages\\statsmodels\\regression\\linear_model.py:1636: RuntimeWarning: invalid value encountered in double_scalars\n",
      "  return 1 - self.ssr/self.centered_tss\n"
     ]
    },
    {
     "name": "stdout",
     "output_type": "stream",
     "text": [
      "('ORG.AX', 'STO.AX')\n"
     ]
    },
    {
     "name": "stderr",
     "output_type": "stream",
     "text": [
      "c:\\users\\billy\\appdata\\local\\programs\\python\\python36\\lib\\site-packages\\statsmodels\\regression\\linear_model.py:1636: RuntimeWarning: invalid value encountered in double_scalars\n",
      "  return 1 - self.ssr/self.centered_tss\n"
     ]
    },
    {
     "name": "stdout",
     "output_type": "stream",
     "text": [
      "('ORG.AX', 'STO.AX')\n"
     ]
    },
    {
     "name": "stderr",
     "output_type": "stream",
     "text": [
      "c:\\users\\billy\\appdata\\local\\programs\\python\\python36\\lib\\site-packages\\statsmodels\\regression\\linear_model.py:1636: RuntimeWarning: invalid value encountered in double_scalars\n",
      "  return 1 - self.ssr/self.centered_tss\n"
     ]
    },
    {
     "name": "stdout",
     "output_type": "stream",
     "text": [
      "('ORG.AX', 'STO.AX')\n"
     ]
    },
    {
     "name": "stderr",
     "output_type": "stream",
     "text": [
      "c:\\users\\billy\\appdata\\local\\programs\\python\\python36\\lib\\site-packages\\statsmodels\\regression\\linear_model.py:1636: RuntimeWarning: invalid value encountered in double_scalars\n",
      "  return 1 - self.ssr/self.centered_tss\n"
     ]
    },
    {
     "name": "stdout",
     "output_type": "stream",
     "text": [
      "('ORG.AX', 'STO.AX')\n"
     ]
    },
    {
     "name": "stderr",
     "output_type": "stream",
     "text": [
      "c:\\users\\billy\\appdata\\local\\programs\\python\\python36\\lib\\site-packages\\statsmodels\\regression\\linear_model.py:1636: RuntimeWarning: invalid value encountered in double_scalars\n",
      "  return 1 - self.ssr/self.centered_tss\n"
     ]
    },
    {
     "name": "stdout",
     "output_type": "stream",
     "text": [
      "('ORG.AX', 'STO.AX')\n"
     ]
    },
    {
     "name": "stderr",
     "output_type": "stream",
     "text": [
      "c:\\users\\billy\\appdata\\local\\programs\\python\\python36\\lib\\site-packages\\statsmodels\\regression\\linear_model.py:1636: RuntimeWarning: invalid value encountered in double_scalars\n",
      "  return 1 - self.ssr/self.centered_tss\n"
     ]
    },
    {
     "name": "stdout",
     "output_type": "stream",
     "text": [
      "('ORG.AX', 'OTT.AX^F06')\n",
      "('ORG.AX', 'OTT.AX^F06')\n",
      "('ORG.AX', 'OTT.AX^F06')\n",
      "('ORG.AX', 'OTT.AX^F06')\n",
      "('ORG.AX', 'OTT.AX^F06')\n",
      "('ORG.AX', 'OTT.AX^F06')\n",
      "('ORG.AX', 'OTT.AX^F06')\n",
      "('ORG.AX', 'OTT.AX^F06')\n",
      "('ORG.AX', 'CMC.AX^F00')\n",
      "('ORG.AX', 'CMC.AX^F00')\n",
      "('ORG.AX', 'CMC.AX^F00')\n",
      "('ORG.AX', 'CMC.AX^F00')\n",
      "('ORG.AX', 'CMC.AX^F00')\n",
      "('ORG.AX', 'CMC.AX^F00')\n",
      "('ORG.AX', 'CMC.AX^F00')\n",
      "('ORG.AX', 'CMC.AX^F00')\n",
      "('ORG.AX', 'RIO.AX')\n"
     ]
    },
    {
     "name": "stderr",
     "output_type": "stream",
     "text": [
      "c:\\users\\billy\\appdata\\local\\programs\\python\\python36\\lib\\site-packages\\statsmodels\\regression\\linear_model.py:1638: RuntimeWarning: invalid value encountered in double_scalars\n",
      "  return 1 - self.ssr/self.uncentered_tss\n",
      "c:\\users\\billy\\appdata\\local\\programs\\python\\python36\\lib\\site-packages\\statsmodels\\regression\\linear_model.py:1636: RuntimeWarning: invalid value encountered in double_scalars\n",
      "  return 1 - self.ssr/self.centered_tss\n"
     ]
    },
    {
     "name": "stdout",
     "output_type": "stream",
     "text": [
      "('ORG.AX', 'RIO.AX')\n"
     ]
    },
    {
     "name": "stderr",
     "output_type": "stream",
     "text": [
      "c:\\users\\billy\\appdata\\local\\programs\\python\\python36\\lib\\site-packages\\statsmodels\\regression\\linear_model.py:1638: RuntimeWarning: invalid value encountered in double_scalars\n",
      "  return 1 - self.ssr/self.uncentered_tss\n",
      "c:\\users\\billy\\appdata\\local\\programs\\python\\python36\\lib\\site-packages\\statsmodels\\regression\\linear_model.py:1636: RuntimeWarning: invalid value encountered in double_scalars\n",
      "  return 1 - self.ssr/self.centered_tss\n"
     ]
    },
    {
     "name": "stdout",
     "output_type": "stream",
     "text": [
      "('ORG.AX', 'RIO.AX')\n"
     ]
    },
    {
     "name": "stderr",
     "output_type": "stream",
     "text": [
      "c:\\users\\billy\\appdata\\local\\programs\\python\\python36\\lib\\site-packages\\statsmodels\\regression\\linear_model.py:1638: RuntimeWarning: invalid value encountered in double_scalars\n",
      "  return 1 - self.ssr/self.uncentered_tss\n",
      "c:\\users\\billy\\appdata\\local\\programs\\python\\python36\\lib\\site-packages\\statsmodels\\regression\\linear_model.py:1636: RuntimeWarning: invalid value encountered in double_scalars\n",
      "  return 1 - self.ssr/self.centered_tss\n"
     ]
    },
    {
     "name": "stdout",
     "output_type": "stream",
     "text": [
      "('ORG.AX', 'RIO.AX')\n"
     ]
    },
    {
     "name": "stderr",
     "output_type": "stream",
     "text": [
      "c:\\users\\billy\\appdata\\local\\programs\\python\\python36\\lib\\site-packages\\statsmodels\\regression\\linear_model.py:1636: RuntimeWarning: invalid value encountered in double_scalars\n",
      "  return 1 - self.ssr/self.centered_tss\n"
     ]
    },
    {
     "name": "stdout",
     "output_type": "stream",
     "text": [
      "('ORG.AX', 'RIO.AX')\n"
     ]
    },
    {
     "name": "stderr",
     "output_type": "stream",
     "text": [
      "c:\\users\\billy\\appdata\\local\\programs\\python\\python36\\lib\\site-packages\\statsmodels\\regression\\linear_model.py:1636: RuntimeWarning: invalid value encountered in double_scalars\n",
      "  return 1 - self.ssr/self.centered_tss\n"
     ]
    },
    {
     "name": "stdout",
     "output_type": "stream",
     "text": [
      "('ORG.AX', 'RIO.AX')\n"
     ]
    },
    {
     "ename": "KeyboardInterrupt",
     "evalue": "",
     "output_type": "error",
     "traceback": [
      "\u001b[1;31m---------------------------------------------------------------------------\u001b[0m",
      "\u001b[1;31mKeyboardInterrupt\u001b[0m                         Traceback (most recent call last)",
      "\u001b[1;32m<ipython-input-254-b448dfc5ab37>\u001b[0m in \u001b[0;36m<module>\u001b[1;34m\u001b[0m\n\u001b[0;32m     18\u001b[0m                 \u001b[0mstartDate\u001b[0m \u001b[1;33m=\u001b[0m \u001b[0mreturns\u001b[0m\u001b[1;33m.\u001b[0m\u001b[0mindex\u001b[0m\u001b[1;33m[\u001b[0m\u001b[1;33m-\u001b[0m\u001b[1;36m1\u001b[0m\u001b[1;33m]\u001b[0m\u001b[1;33m\u001b[0m\u001b[1;33m\u001b[0m\u001b[0m\n\u001b[0;32m     19\u001b[0m                 \u001b[0mres\u001b[0m\u001b[1;33m.\u001b[0m\u001b[0mappend\u001b[0m\u001b[1;33m(\u001b[0m\u001b[1;33m[\u001b[0m\u001b[0mstartDate\u001b[0m\u001b[1;33m,\u001b[0m \u001b[0mbeta\u001b[0m\u001b[1;33m]\u001b[0m\u001b[1;33m)\u001b[0m\u001b[1;33m\u001b[0m\u001b[1;33m\u001b[0m\u001b[0m\n\u001b[1;32m---> 20\u001b[1;33m                 \u001b[1;32mif\u001b[0m \u001b[0msm\u001b[0m\u001b[1;33m.\u001b[0m\u001b[0mOLS\u001b[0m\u001b[1;33m(\u001b[0m\u001b[0mlist\u001b[0m\u001b[1;33m(\u001b[0m\u001b[0mrange\u001b[0m\u001b[1;33m(\u001b[0m\u001b[0mlen\u001b[0m\u001b[1;33m(\u001b[0m\u001b[0mreturns\u001b[0m\u001b[1;33m.\u001b[0m\u001b[0mvalues\u001b[0m\u001b[1;33m)\u001b[0m\u001b[1;33m)\u001b[0m\u001b[1;33m)\u001b[0m\u001b[1;33m,\u001b[0m \u001b[0mreturns\u001b[0m\u001b[1;33m.\u001b[0m\u001b[0mvalues\u001b[0m\u001b[1;33m)\u001b[0m\u001b[1;33m.\u001b[0m\u001b[0mfit\u001b[0m\u001b[1;33m(\u001b[0m\u001b[1;33m)\u001b[0m\u001b[1;33m.\u001b[0m\u001b[0mrsquared\u001b[0m \u001b[1;33m>\u001b[0m \u001b[1;36m0.95\u001b[0m\u001b[1;33m:\u001b[0m\u001b[1;33m\u001b[0m\u001b[1;33m\u001b[0m\u001b[0m\n\u001b[0m\u001b[0;32m     21\u001b[0m                     \u001b[0mres\u001b[0m\u001b[1;33m.\u001b[0m\u001b[0mappend\u001b[0m\u001b[1;33m(\u001b[0m\u001b[1;33m[\u001b[0m\u001b[0mwindow\u001b[0m\u001b[1;33m.\u001b[0m\u001b[0miloc\u001b[0m\u001b[1;33m[\u001b[0m\u001b[1;33m-\u001b[0m\u001b[1;36m1\u001b[0m\u001b[1;33m]\u001b[0m\u001b[1;33m,\u001b[0m\u001b[0mpair\u001b[0m\u001b[1;33m,\u001b[0m \u001b[0mbeta\u001b[0m\u001b[1;33m]\u001b[0m\u001b[1;33m)\u001b[0m\u001b[1;33m\u001b[0m\u001b[1;33m\u001b[0m\u001b[0m\n\u001b[0;32m     22\u001b[0m         \u001b[1;32mexcept\u001b[0m \u001b[0mException\u001b[0m \u001b[1;32mas\u001b[0m \u001b[0me\u001b[0m\u001b[1;33m:\u001b[0m\u001b[1;33m\u001b[0m\u001b[1;33m\u001b[0m\u001b[0m\n",
      "\u001b[1;32mc:\\users\\billy\\appdata\\local\\programs\\python\\python36\\lib\\site-packages\\statsmodels\\regression\\linear_model.py\u001b[0m in \u001b[0;36mfit\u001b[1;34m(self, method, cov_type, cov_kwds, use_t, **kwargs)\u001b[0m\n\u001b[0;32m    290\u001b[0m                 \u001b[0mself\u001b[0m\u001b[1;33m.\u001b[0m\u001b[0mpinv_wexog\u001b[0m\u001b[1;33m,\u001b[0m \u001b[0msingular_values\u001b[0m \u001b[1;33m=\u001b[0m \u001b[0mpinv_extended\u001b[0m\u001b[1;33m(\u001b[0m\u001b[0mself\u001b[0m\u001b[1;33m.\u001b[0m\u001b[0mwexog\u001b[0m\u001b[1;33m)\u001b[0m\u001b[1;33m\u001b[0m\u001b[1;33m\u001b[0m\u001b[0m\n\u001b[0;32m    291\u001b[0m                 self.normalized_cov_params = np.dot(\n\u001b[1;32m--> 292\u001b[1;33m                     self.pinv_wexog, np.transpose(self.pinv_wexog))\n\u001b[0m\u001b[0;32m    293\u001b[0m \u001b[1;33m\u001b[0m\u001b[0m\n\u001b[0;32m    294\u001b[0m                 \u001b[1;31m# Cache these singular values for use later.\u001b[0m\u001b[1;33m\u001b[0m\u001b[1;33m\u001b[0m\u001b[1;33m\u001b[0m\u001b[0m\n",
      "\u001b[1;31mKeyboardInterrupt\u001b[0m: "
     ]
    }
   ],
   "source": [
    "M_ = 10\n",
    "portfolio_size= 2\n",
    "res = []\n",
    "for pair in itertools.permutations(stocks, portfolio_size):\n",
    "    for M in range(3,M_+1):\n",
    "        print(pair)\n",
    "        try: \n",
    "            reversed_df = openAndClose[list(pair)].dropna().sort_index(ascending=False)\n",
    "            reversed_df['hedge'] =  -reversed_df[pair[0]]/reversed_df[pair[1]]   #For every 1 pair[0], buy hedge*pair[1]\n",
    "\n",
    "\n",
    "            for date in reversed_df.index:\n",
    "                beta = reversed_df.loc[date].hedge\n",
    "\n",
    "                window = reversed_df.loc[date:date+pd.Timedelta(-(M+1),'D')]\n",
    "                returns = window[pair[0]]+beta*window[pair[1]]\n",
    "\n",
    "                startDate = returns.index[-1]\n",
    "                res.append([startDate, beta])\n",
    "                if sm.OLS(list(range(len(returns.values))), returns.values).fit().rsquared > 0.95:\n",
    "                    res.append([window.iloc[-1],pair, beta])\n",
    "        except Exception as e:\n",
    "            print(e)"
   ]
  },
  {
   "cell_type": "code",
   "execution_count": 256,
   "metadata": {},
   "outputs": [
    {
     "data": {
      "text/plain": [
       "[Timestamp('2019-10-05 02:00:00'), -0.2134376686454398]"
      ]
     },
     "execution_count": 256,
     "metadata": {},
     "output_type": "execute_result"
    }
   ],
   "source": [
    "res[0]"
   ]
  },
  {
   "cell_type": "code",
   "execution_count": 179,
   "metadata": {},
   "outputs": [
    {
     "data": {
      "text/html": [
       "<div>\n",
       "<style scoped>\n",
       "    .dataframe tbody tr th:only-of-type {\n",
       "        vertical-align: middle;\n",
       "    }\n",
       "\n",
       "    .dataframe tbody tr th {\n",
       "        vertical-align: top;\n",
       "    }\n",
       "\n",
       "    .dataframe thead th {\n",
       "        text-align: right;\n",
       "    }\n",
       "</style>\n",
       "<table border=\"1\" class=\"dataframe\">\n",
       "  <thead>\n",
       "    <tr style=\"text-align: right;\">\n",
       "      <th></th>\n",
       "      <th>ORG.AX</th>\n",
       "      <th>WOW.AX</th>\n",
       "      <th>WPL.AX</th>\n",
       "      <th>WBC.AX</th>\n",
       "      <th>WFANA.AX^H00</th>\n",
       "      <th>WFA.AX^F17</th>\n",
       "      <th>ART.AX^H03</th>\n",
       "      <th>WES.AX</th>\n",
       "      <th>VRLPA.AX^L10</th>\n",
       "      <th>VRL.AX</th>\n",
       "      <th>...</th>\n",
       "      <th>NEA.AX</th>\n",
       "      <th>COE.AX</th>\n",
       "      <th>SSM.AX</th>\n",
       "      <th>CUV.AX</th>\n",
       "      <th>PME.AX</th>\n",
       "      <th>PNV.AX</th>\n",
       "      <th>NWL.AX</th>\n",
       "      <th>JIN.AX</th>\n",
       "      <th>GOR.AX</th>\n",
       "      <th>CKF.AX</th>\n",
       "    </tr>\n",
       "    <tr>\n",
       "      <th>Date</th>\n",
       "      <th></th>\n",
       "      <th></th>\n",
       "      <th></th>\n",
       "      <th></th>\n",
       "      <th></th>\n",
       "      <th></th>\n",
       "      <th></th>\n",
       "      <th></th>\n",
       "      <th></th>\n",
       "      <th></th>\n",
       "      <th></th>\n",
       "      <th></th>\n",
       "      <th></th>\n",
       "      <th></th>\n",
       "      <th></th>\n",
       "      <th></th>\n",
       "      <th></th>\n",
       "      <th></th>\n",
       "      <th></th>\n",
       "      <th></th>\n",
       "      <th></th>\n",
       "    </tr>\n",
       "  </thead>\n",
       "  <tbody>\n",
       "    <tr>\n",
       "      <th>2019-10-08</th>\n",
       "      <td>7.91</td>\n",
       "      <td>37.06</td>\n",
       "      <td>31.38</td>\n",
       "      <td>28.68</td>\n",
       "      <td>NaN</td>\n",
       "      <td>NaN</td>\n",
       "      <td>NaN</td>\n",
       "      <td>39.40</td>\n",
       "      <td>NaN</td>\n",
       "      <td>2.83</td>\n",
       "      <td>...</td>\n",
       "      <td>2.48</td>\n",
       "      <td>0.555</td>\n",
       "      <td>2.52</td>\n",
       "      <td>28.09</td>\n",
       "      <td>29.64</td>\n",
       "      <td>2.21</td>\n",
       "      <td>8.88</td>\n",
       "      <td>26.07</td>\n",
       "      <td>1.165</td>\n",
       "      <td>10.44</td>\n",
       "    </tr>\n",
       "    <tr>\n",
       "      <th>2019-10-07</th>\n",
       "      <td>7.79</td>\n",
       "      <td>36.81</td>\n",
       "      <td>31.15</td>\n",
       "      <td>28.61</td>\n",
       "      <td>NaN</td>\n",
       "      <td>NaN</td>\n",
       "      <td>NaN</td>\n",
       "      <td>38.97</td>\n",
       "      <td>NaN</td>\n",
       "      <td>2.84</td>\n",
       "      <td>...</td>\n",
       "      <td>2.51</td>\n",
       "      <td>0.565</td>\n",
       "      <td>2.55</td>\n",
       "      <td>27.10</td>\n",
       "      <td>30.33</td>\n",
       "      <td>2.24</td>\n",
       "      <td>8.69</td>\n",
       "      <td>26.93</td>\n",
       "      <td>1.205</td>\n",
       "      <td>9.94</td>\n",
       "    </tr>\n",
       "    <tr>\n",
       "      <th>2019-10-04</th>\n",
       "      <td>7.74</td>\n",
       "      <td>36.32</td>\n",
       "      <td>30.85</td>\n",
       "      <td>28.42</td>\n",
       "      <td>NaN</td>\n",
       "      <td>NaN</td>\n",
       "      <td>NaN</td>\n",
       "      <td>38.67</td>\n",
       "      <td>NaN</td>\n",
       "      <td>2.88</td>\n",
       "      <td>...</td>\n",
       "      <td>2.46</td>\n",
       "      <td>0.560</td>\n",
       "      <td>2.59</td>\n",
       "      <td>26.02</td>\n",
       "      <td>29.36</td>\n",
       "      <td>2.17</td>\n",
       "      <td>8.76</td>\n",
       "      <td>26.90</td>\n",
       "      <td>1.205</td>\n",
       "      <td>9.94</td>\n",
       "    </tr>\n",
       "    <tr>\n",
       "      <th>2019-10-03</th>\n",
       "      <td>7.70</td>\n",
       "      <td>36.29</td>\n",
       "      <td>30.77</td>\n",
       "      <td>28.50</td>\n",
       "      <td>NaN</td>\n",
       "      <td>NaN</td>\n",
       "      <td>NaN</td>\n",
       "      <td>38.75</td>\n",
       "      <td>NaN</td>\n",
       "      <td>2.80</td>\n",
       "      <td>...</td>\n",
       "      <td>2.42</td>\n",
       "      <td>0.535</td>\n",
       "      <td>2.58</td>\n",
       "      <td>24.69</td>\n",
       "      <td>28.81</td>\n",
       "      <td>2.11</td>\n",
       "      <td>8.53</td>\n",
       "      <td>25.36</td>\n",
       "      <td>1.215</td>\n",
       "      <td>9.94</td>\n",
       "    </tr>\n",
       "    <tr>\n",
       "      <th>2019-10-02</th>\n",
       "      <td>7.93</td>\n",
       "      <td>37.09</td>\n",
       "      <td>31.74</td>\n",
       "      <td>29.21</td>\n",
       "      <td>NaN</td>\n",
       "      <td>NaN</td>\n",
       "      <td>NaN</td>\n",
       "      <td>39.42</td>\n",
       "      <td>NaN</td>\n",
       "      <td>2.87</td>\n",
       "      <td>...</td>\n",
       "      <td>2.56</td>\n",
       "      <td>0.555</td>\n",
       "      <td>2.66</td>\n",
       "      <td>25.61</td>\n",
       "      <td>28.94</td>\n",
       "      <td>2.19</td>\n",
       "      <td>8.73</td>\n",
       "      <td>25.14</td>\n",
       "      <td>1.200</td>\n",
       "      <td>9.95</td>\n",
       "    </tr>\n",
       "    <tr>\n",
       "      <th>2019-10-01</th>\n",
       "      <td>7.96</td>\n",
       "      <td>37.59</td>\n",
       "      <td>32.20</td>\n",
       "      <td>29.70</td>\n",
       "      <td>NaN</td>\n",
       "      <td>NaN</td>\n",
       "      <td>NaN</td>\n",
       "      <td>40.19</td>\n",
       "      <td>NaN</td>\n",
       "      <td>2.80</td>\n",
       "      <td>...</td>\n",
       "      <td>2.66</td>\n",
       "      <td>0.575</td>\n",
       "      <td>2.70</td>\n",
       "      <td>24.79</td>\n",
       "      <td>29.33</td>\n",
       "      <td>2.22</td>\n",
       "      <td>8.76</td>\n",
       "      <td>25.70</td>\n",
       "      <td>1.220</td>\n",
       "      <td>10.10</td>\n",
       "    </tr>\n",
       "    <tr>\n",
       "      <th>2019-09-30</th>\n",
       "      <td>7.97</td>\n",
       "      <td>37.28</td>\n",
       "      <td>32.38</td>\n",
       "      <td>29.64</td>\n",
       "      <td>NaN</td>\n",
       "      <td>NaN</td>\n",
       "      <td>NaN</td>\n",
       "      <td>39.80</td>\n",
       "      <td>NaN</td>\n",
       "      <td>2.84</td>\n",
       "      <td>...</td>\n",
       "      <td>2.58</td>\n",
       "      <td>0.580</td>\n",
       "      <td>2.62</td>\n",
       "      <td>24.70</td>\n",
       "      <td>27.82</td>\n",
       "      <td>2.14</td>\n",
       "      <td>9.11</td>\n",
       "      <td>24.19</td>\n",
       "      <td>1.245</td>\n",
       "      <td>10.01</td>\n",
       "    </tr>\n",
       "    <tr>\n",
       "      <th>2019-09-27</th>\n",
       "      <td>8.01</td>\n",
       "      <td>37.54</td>\n",
       "      <td>32.03</td>\n",
       "      <td>29.90</td>\n",
       "      <td>NaN</td>\n",
       "      <td>NaN</td>\n",
       "      <td>NaN</td>\n",
       "      <td>40.35</td>\n",
       "      <td>NaN</td>\n",
       "      <td>2.83</td>\n",
       "      <td>...</td>\n",
       "      <td>2.61</td>\n",
       "      <td>0.575</td>\n",
       "      <td>2.60</td>\n",
       "      <td>24.88</td>\n",
       "      <td>28.00</td>\n",
       "      <td>2.15</td>\n",
       "      <td>9.38</td>\n",
       "      <td>24.43</td>\n",
       "      <td>1.270</td>\n",
       "      <td>10.12</td>\n",
       "    </tr>\n",
       "    <tr>\n",
       "      <th>2019-09-26</th>\n",
       "      <td>7.81</td>\n",
       "      <td>37.38</td>\n",
       "      <td>31.72</td>\n",
       "      <td>29.86</td>\n",
       "      <td>NaN</td>\n",
       "      <td>NaN</td>\n",
       "      <td>NaN</td>\n",
       "      <td>39.77</td>\n",
       "      <td>NaN</td>\n",
       "      <td>2.80</td>\n",
       "      <td>...</td>\n",
       "      <td>2.56</td>\n",
       "      <td>0.570</td>\n",
       "      <td>2.59</td>\n",
       "      <td>25.52</td>\n",
       "      <td>28.63</td>\n",
       "      <td>2.19</td>\n",
       "      <td>9.33</td>\n",
       "      <td>24.09</td>\n",
       "      <td>1.295</td>\n",
       "      <td>10.14</td>\n",
       "    </tr>\n",
       "    <tr>\n",
       "      <th>2019-09-25</th>\n",
       "      <td>7.83</td>\n",
       "      <td>37.55</td>\n",
       "      <td>32.10</td>\n",
       "      <td>29.89</td>\n",
       "      <td>NaN</td>\n",
       "      <td>NaN</td>\n",
       "      <td>NaN</td>\n",
       "      <td>39.81</td>\n",
       "      <td>NaN</td>\n",
       "      <td>2.74</td>\n",
       "      <td>...</td>\n",
       "      <td>2.53</td>\n",
       "      <td>0.580</td>\n",
       "      <td>2.61</td>\n",
       "      <td>24.86</td>\n",
       "      <td>28.08</td>\n",
       "      <td>2.21</td>\n",
       "      <td>8.89</td>\n",
       "      <td>23.30</td>\n",
       "      <td>1.360</td>\n",
       "      <td>10.23</td>\n",
       "    </tr>\n",
       "    <tr>\n",
       "      <th>2019-09-24</th>\n",
       "      <td>7.92</td>\n",
       "      <td>37.70</td>\n",
       "      <td>32.46</td>\n",
       "      <td>29.92</td>\n",
       "      <td>NaN</td>\n",
       "      <td>NaN</td>\n",
       "      <td>NaN</td>\n",
       "      <td>40.17</td>\n",
       "      <td>NaN</td>\n",
       "      <td>2.74</td>\n",
       "      <td>...</td>\n",
       "      <td>2.58</td>\n",
       "      <td>0.590</td>\n",
       "      <td>2.74</td>\n",
       "      <td>26.08</td>\n",
       "      <td>29.81</td>\n",
       "      <td>2.22</td>\n",
       "      <td>8.93</td>\n",
       "      <td>24.60</td>\n",
       "      <td>1.380</td>\n",
       "      <td>10.07</td>\n",
       "    </tr>\n",
       "    <tr>\n",
       "      <th>2019-09-23</th>\n",
       "      <td>7.93</td>\n",
       "      <td>37.57</td>\n",
       "      <td>32.62</td>\n",
       "      <td>29.80</td>\n",
       "      <td>NaN</td>\n",
       "      <td>NaN</td>\n",
       "      <td>NaN</td>\n",
       "      <td>39.91</td>\n",
       "      <td>NaN</td>\n",
       "      <td>2.73</td>\n",
       "      <td>...</td>\n",
       "      <td>2.56</td>\n",
       "      <td>0.610</td>\n",
       "      <td>2.77</td>\n",
       "      <td>25.00</td>\n",
       "      <td>29.48</td>\n",
       "      <td>2.24</td>\n",
       "      <td>9.09</td>\n",
       "      <td>24.99</td>\n",
       "      <td>1.330</td>\n",
       "      <td>9.98</td>\n",
       "    </tr>\n",
       "    <tr>\n",
       "      <th>2019-09-20</th>\n",
       "      <td>7.89</td>\n",
       "      <td>37.43</td>\n",
       "      <td>32.29</td>\n",
       "      <td>29.66</td>\n",
       "      <td>NaN</td>\n",
       "      <td>NaN</td>\n",
       "      <td>NaN</td>\n",
       "      <td>39.67</td>\n",
       "      <td>NaN</td>\n",
       "      <td>2.70</td>\n",
       "      <td>...</td>\n",
       "      <td>2.67</td>\n",
       "      <td>0.615</td>\n",
       "      <td>2.73</td>\n",
       "      <td>25.54</td>\n",
       "      <td>29.02</td>\n",
       "      <td>2.24</td>\n",
       "      <td>9.10</td>\n",
       "      <td>23.86</td>\n",
       "      <td>1.305</td>\n",
       "      <td>9.85</td>\n",
       "    </tr>\n",
       "    <tr>\n",
       "      <th>2019-09-19</th>\n",
       "      <td>7.90</td>\n",
       "      <td>37.14</td>\n",
       "      <td>32.17</td>\n",
       "      <td>29.57</td>\n",
       "      <td>NaN</td>\n",
       "      <td>NaN</td>\n",
       "      <td>NaN</td>\n",
       "      <td>39.30</td>\n",
       "      <td>NaN</td>\n",
       "      <td>2.70</td>\n",
       "      <td>...</td>\n",
       "      <td>2.57</td>\n",
       "      <td>0.625</td>\n",
       "      <td>2.65</td>\n",
       "      <td>25.24</td>\n",
       "      <td>28.74</td>\n",
       "      <td>2.28</td>\n",
       "      <td>8.94</td>\n",
       "      <td>23.18</td>\n",
       "      <td>1.300</td>\n",
       "      <td>9.80</td>\n",
       "    </tr>\n",
       "    <tr>\n",
       "      <th>2019-09-18</th>\n",
       "      <td>7.84</td>\n",
       "      <td>36.83</td>\n",
       "      <td>32.52</td>\n",
       "      <td>29.54</td>\n",
       "      <td>NaN</td>\n",
       "      <td>NaN</td>\n",
       "      <td>NaN</td>\n",
       "      <td>38.78</td>\n",
       "      <td>NaN</td>\n",
       "      <td>2.71</td>\n",
       "      <td>...</td>\n",
       "      <td>2.62</td>\n",
       "      <td>0.620</td>\n",
       "      <td>2.60</td>\n",
       "      <td>25.63</td>\n",
       "      <td>29.84</td>\n",
       "      <td>2.24</td>\n",
       "      <td>8.91</td>\n",
       "      <td>22.91</td>\n",
       "      <td>1.305</td>\n",
       "      <td>9.60</td>\n",
       "    </tr>\n",
       "    <tr>\n",
       "      <th>2019-09-17</th>\n",
       "      <td>7.96</td>\n",
       "      <td>36.91</td>\n",
       "      <td>33.36</td>\n",
       "      <td>29.63</td>\n",
       "      <td>NaN</td>\n",
       "      <td>NaN</td>\n",
       "      <td>NaN</td>\n",
       "      <td>38.98</td>\n",
       "      <td>NaN</td>\n",
       "      <td>2.80</td>\n",
       "      <td>...</td>\n",
       "      <td>2.61</td>\n",
       "      <td>0.615</td>\n",
       "      <td>2.66</td>\n",
       "      <td>24.96</td>\n",
       "      <td>28.28</td>\n",
       "      <td>2.17</td>\n",
       "      <td>8.64</td>\n",
       "      <td>23.00</td>\n",
       "      <td>1.295</td>\n",
       "      <td>9.38</td>\n",
       "    </tr>\n",
       "    <tr>\n",
       "      <th>2019-09-16</th>\n",
       "      <td>7.92</td>\n",
       "      <td>36.24</td>\n",
       "      <td>32.70</td>\n",
       "      <td>29.54</td>\n",
       "      <td>NaN</td>\n",
       "      <td>NaN</td>\n",
       "      <td>NaN</td>\n",
       "      <td>39.30</td>\n",
       "      <td>NaN</td>\n",
       "      <td>2.82</td>\n",
       "      <td>...</td>\n",
       "      <td>2.56</td>\n",
       "      <td>0.610</td>\n",
       "      <td>2.57</td>\n",
       "      <td>23.80</td>\n",
       "      <td>27.57</td>\n",
       "      <td>2.07</td>\n",
       "      <td>8.59</td>\n",
       "      <td>22.79</td>\n",
       "      <td>1.350</td>\n",
       "      <td>9.32</td>\n",
       "    </tr>\n",
       "    <tr>\n",
       "      <th>2019-09-13</th>\n",
       "      <td>7.72</td>\n",
       "      <td>36.43</td>\n",
       "      <td>31.35</td>\n",
       "      <td>29.69</td>\n",
       "      <td>NaN</td>\n",
       "      <td>NaN</td>\n",
       "      <td>NaN</td>\n",
       "      <td>39.40</td>\n",
       "      <td>NaN</td>\n",
       "      <td>2.84</td>\n",
       "      <td>...</td>\n",
       "      <td>2.52</td>\n",
       "      <td>0.610</td>\n",
       "      <td>2.53</td>\n",
       "      <td>23.75</td>\n",
       "      <td>28.00</td>\n",
       "      <td>2.10</td>\n",
       "      <td>8.53</td>\n",
       "      <td>23.60</td>\n",
       "      <td>1.385</td>\n",
       "      <td>9.21</td>\n",
       "    </tr>\n",
       "    <tr>\n",
       "      <th>2019-09-12</th>\n",
       "      <td>7.76</td>\n",
       "      <td>36.70</td>\n",
       "      <td>31.51</td>\n",
       "      <td>29.66</td>\n",
       "      <td>NaN</td>\n",
       "      <td>NaN</td>\n",
       "      <td>NaN</td>\n",
       "      <td>39.37</td>\n",
       "      <td>NaN</td>\n",
       "      <td>2.88</td>\n",
       "      <td>...</td>\n",
       "      <td>2.50</td>\n",
       "      <td>0.620</td>\n",
       "      <td>2.56</td>\n",
       "      <td>24.41</td>\n",
       "      <td>29.68</td>\n",
       "      <td>2.16</td>\n",
       "      <td>8.50</td>\n",
       "      <td>24.36</td>\n",
       "      <td>1.410</td>\n",
       "      <td>9.27</td>\n",
       "    </tr>\n",
       "    <tr>\n",
       "      <th>2019-09-11</th>\n",
       "      <td>7.73</td>\n",
       "      <td>36.63</td>\n",
       "      <td>32.19</td>\n",
       "      <td>29.61</td>\n",
       "      <td>NaN</td>\n",
       "      <td>NaN</td>\n",
       "      <td>NaN</td>\n",
       "      <td>39.62</td>\n",
       "      <td>NaN</td>\n",
       "      <td>2.79</td>\n",
       "      <td>...</td>\n",
       "      <td>2.50</td>\n",
       "      <td>0.610</td>\n",
       "      <td>2.58</td>\n",
       "      <td>24.29</td>\n",
       "      <td>30.46</td>\n",
       "      <td>2.18</td>\n",
       "      <td>8.65</td>\n",
       "      <td>25.00</td>\n",
       "      <td>1.335</td>\n",
       "      <td>8.98</td>\n",
       "    </tr>\n",
       "    <tr>\n",
       "      <th>2019-09-10</th>\n",
       "      <td>7.76</td>\n",
       "      <td>37.68</td>\n",
       "      <td>32.33</td>\n",
       "      <td>29.12</td>\n",
       "      <td>NaN</td>\n",
       "      <td>NaN</td>\n",
       "      <td>NaN</td>\n",
       "      <td>39.25</td>\n",
       "      <td>NaN</td>\n",
       "      <td>2.75</td>\n",
       "      <td>...</td>\n",
       "      <td>2.61</td>\n",
       "      <td>0.615</td>\n",
       "      <td>2.64</td>\n",
       "      <td>25.18</td>\n",
       "      <td>33.22</td>\n",
       "      <td>2.27</td>\n",
       "      <td>8.51</td>\n",
       "      <td>26.23</td>\n",
       "      <td>1.325</td>\n",
       "      <td>8.91</td>\n",
       "    </tr>\n",
       "    <tr>\n",
       "      <th>2019-09-09</th>\n",
       "      <td>7.63</td>\n",
       "      <td>37.95</td>\n",
       "      <td>31.73</td>\n",
       "      <td>28.85</td>\n",
       "      <td>NaN</td>\n",
       "      <td>NaN</td>\n",
       "      <td>NaN</td>\n",
       "      <td>39.67</td>\n",
       "      <td>NaN</td>\n",
       "      <td>2.69</td>\n",
       "      <td>...</td>\n",
       "      <td>2.74</td>\n",
       "      <td>0.615</td>\n",
       "      <td>2.69</td>\n",
       "      <td>26.85</td>\n",
       "      <td>33.91</td>\n",
       "      <td>2.30</td>\n",
       "      <td>8.40</td>\n",
       "      <td>26.25</td>\n",
       "      <td>1.355</td>\n",
       "      <td>8.87</td>\n",
       "    </tr>\n",
       "    <tr>\n",
       "      <th>2019-09-06</th>\n",
       "      <td>7.63</td>\n",
       "      <td>38.06</td>\n",
       "      <td>31.85</td>\n",
       "      <td>28.63</td>\n",
       "      <td>NaN</td>\n",
       "      <td>NaN</td>\n",
       "      <td>NaN</td>\n",
       "      <td>39.54</td>\n",
       "      <td>NaN</td>\n",
       "      <td>2.71</td>\n",
       "      <td>...</td>\n",
       "      <td>2.75</td>\n",
       "      <td>0.620</td>\n",
       "      <td>2.71</td>\n",
       "      <td>27.10</td>\n",
       "      <td>33.38</td>\n",
       "      <td>2.16</td>\n",
       "      <td>8.22</td>\n",
       "      <td>24.99</td>\n",
       "      <td>1.360</td>\n",
       "      <td>8.58</td>\n",
       "    </tr>\n",
       "    <tr>\n",
       "      <th>2019-09-05</th>\n",
       "      <td>7.47</td>\n",
       "      <td>37.55</td>\n",
       "      <td>31.66</td>\n",
       "      <td>28.49</td>\n",
       "      <td>NaN</td>\n",
       "      <td>NaN</td>\n",
       "      <td>NaN</td>\n",
       "      <td>39.21</td>\n",
       "      <td>NaN</td>\n",
       "      <td>2.78</td>\n",
       "      <td>...</td>\n",
       "      <td>2.67</td>\n",
       "      <td>0.585</td>\n",
       "      <td>2.69</td>\n",
       "      <td>26.03</td>\n",
       "      <td>37.97</td>\n",
       "      <td>2.23</td>\n",
       "      <td>7.95</td>\n",
       "      <td>23.40</td>\n",
       "      <td>1.365</td>\n",
       "      <td>8.64</td>\n",
       "    </tr>\n",
       "    <tr>\n",
       "      <th>2019-09-04</th>\n",
       "      <td>7.38</td>\n",
       "      <td>36.68</td>\n",
       "      <td>31.19</td>\n",
       "      <td>28.25</td>\n",
       "      <td>NaN</td>\n",
       "      <td>NaN</td>\n",
       "      <td>NaN</td>\n",
       "      <td>38.54</td>\n",
       "      <td>NaN</td>\n",
       "      <td>2.76</td>\n",
       "      <td>...</td>\n",
       "      <td>2.59</td>\n",
       "      <td>0.570</td>\n",
       "      <td>2.73</td>\n",
       "      <td>25.30</td>\n",
       "      <td>36.61</td>\n",
       "      <td>2.15</td>\n",
       "      <td>7.87</td>\n",
       "      <td>22.36</td>\n",
       "      <td>1.355</td>\n",
       "      <td>8.45</td>\n",
       "    </tr>\n",
       "    <tr>\n",
       "      <th>2019-09-03</th>\n",
       "      <td>7.48</td>\n",
       "      <td>36.71</td>\n",
       "      <td>31.54</td>\n",
       "      <td>28.34</td>\n",
       "      <td>NaN</td>\n",
       "      <td>NaN</td>\n",
       "      <td>NaN</td>\n",
       "      <td>38.33</td>\n",
       "      <td>NaN</td>\n",
       "      <td>2.76</td>\n",
       "      <td>...</td>\n",
       "      <td>2.56</td>\n",
       "      <td>0.570</td>\n",
       "      <td>2.74</td>\n",
       "      <td>26.41</td>\n",
       "      <td>36.47</td>\n",
       "      <td>2.27</td>\n",
       "      <td>7.62</td>\n",
       "      <td>22.36</td>\n",
       "      <td>1.300</td>\n",
       "      <td>8.54</td>\n",
       "    </tr>\n",
       "    <tr>\n",
       "      <th>2019-09-02</th>\n",
       "      <td>7.50</td>\n",
       "      <td>37.24</td>\n",
       "      <td>31.80</td>\n",
       "      <td>28.23</td>\n",
       "      <td>NaN</td>\n",
       "      <td>NaN</td>\n",
       "      <td>NaN</td>\n",
       "      <td>38.61</td>\n",
       "      <td>NaN</td>\n",
       "      <td>2.86</td>\n",
       "      <td>...</td>\n",
       "      <td>2.55</td>\n",
       "      <td>0.570</td>\n",
       "      <td>2.75</td>\n",
       "      <td>27.01</td>\n",
       "      <td>35.82</td>\n",
       "      <td>2.12</td>\n",
       "      <td>7.72</td>\n",
       "      <td>22.45</td>\n",
       "      <td>1.285</td>\n",
       "      <td>8.51</td>\n",
       "    </tr>\n",
       "    <tr>\n",
       "      <th>2019-08-30</th>\n",
       "      <td>7.63</td>\n",
       "      <td>37.77</td>\n",
       "      <td>32.13</td>\n",
       "      <td>28.22</td>\n",
       "      <td>NaN</td>\n",
       "      <td>NaN</td>\n",
       "      <td>NaN</td>\n",
       "      <td>39.10</td>\n",
       "      <td>NaN</td>\n",
       "      <td>2.78</td>\n",
       "      <td>...</td>\n",
       "      <td>2.73</td>\n",
       "      <td>0.575</td>\n",
       "      <td>2.87</td>\n",
       "      <td>27.07</td>\n",
       "      <td>36.81</td>\n",
       "      <td>2.03</td>\n",
       "      <td>7.63</td>\n",
       "      <td>22.39</td>\n",
       "      <td>1.310</td>\n",
       "      <td>8.63</td>\n",
       "    </tr>\n",
       "    <tr>\n",
       "      <th>2019-08-29</th>\n",
       "      <td>7.55</td>\n",
       "      <td>36.38</td>\n",
       "      <td>31.62</td>\n",
       "      <td>27.64</td>\n",
       "      <td>NaN</td>\n",
       "      <td>NaN</td>\n",
       "      <td>NaN</td>\n",
       "      <td>39.31</td>\n",
       "      <td>NaN</td>\n",
       "      <td>2.82</td>\n",
       "      <td>...</td>\n",
       "      <td>2.67</td>\n",
       "      <td>0.575</td>\n",
       "      <td>2.88</td>\n",
       "      <td>25.58</td>\n",
       "      <td>37.06</td>\n",
       "      <td>2.10</td>\n",
       "      <td>7.55</td>\n",
       "      <td>21.80</td>\n",
       "      <td>1.380</td>\n",
       "      <td>8.63</td>\n",
       "    </tr>\n",
       "    <tr>\n",
       "      <th>2019-08-28</th>\n",
       "      <td>7.55</td>\n",
       "      <td>36.18</td>\n",
       "      <td>31.44</td>\n",
       "      <td>27.54</td>\n",
       "      <td>NaN</td>\n",
       "      <td>NaN</td>\n",
       "      <td>NaN</td>\n",
       "      <td>39.28</td>\n",
       "      <td>NaN</td>\n",
       "      <td>2.42</td>\n",
       "      <td>...</td>\n",
       "      <td>2.80</td>\n",
       "      <td>0.560</td>\n",
       "      <td>2.89</td>\n",
       "      <td>26.47</td>\n",
       "      <td>36.26</td>\n",
       "      <td>2.10</td>\n",
       "      <td>7.50</td>\n",
       "      <td>22.50</td>\n",
       "      <td>1.340</td>\n",
       "      <td>8.55</td>\n",
       "    </tr>\n",
       "    <tr>\n",
       "      <th>...</th>\n",
       "      <td>...</td>\n",
       "      <td>...</td>\n",
       "      <td>...</td>\n",
       "      <td>...</td>\n",
       "      <td>...</td>\n",
       "      <td>...</td>\n",
       "      <td>...</td>\n",
       "      <td>...</td>\n",
       "      <td>...</td>\n",
       "      <td>...</td>\n",
       "      <td>...</td>\n",
       "      <td>...</td>\n",
       "      <td>...</td>\n",
       "      <td>...</td>\n",
       "      <td>...</td>\n",
       "      <td>...</td>\n",
       "      <td>...</td>\n",
       "      <td>...</td>\n",
       "      <td>...</td>\n",
       "      <td>...</td>\n",
       "      <td>...</td>\n",
       "    </tr>\n",
       "    <tr>\n",
       "      <th>1990-02-13</th>\n",
       "      <td>NaN</td>\n",
       "      <td>NaN</td>\n",
       "      <td>NaN</td>\n",
       "      <td>NaN</td>\n",
       "      <td>NaN</td>\n",
       "      <td>NaN</td>\n",
       "      <td>NaN</td>\n",
       "      <td>NaN</td>\n",
       "      <td>NaN</td>\n",
       "      <td>NaN</td>\n",
       "      <td>...</td>\n",
       "      <td>NaN</td>\n",
       "      <td>NaN</td>\n",
       "      <td>NaN</td>\n",
       "      <td>NaN</td>\n",
       "      <td>NaN</td>\n",
       "      <td>NaN</td>\n",
       "      <td>NaN</td>\n",
       "      <td>NaN</td>\n",
       "      <td>NaN</td>\n",
       "      <td>NaN</td>\n",
       "    </tr>\n",
       "    <tr>\n",
       "      <th>1990-02-12</th>\n",
       "      <td>NaN</td>\n",
       "      <td>NaN</td>\n",
       "      <td>NaN</td>\n",
       "      <td>NaN</td>\n",
       "      <td>NaN</td>\n",
       "      <td>NaN</td>\n",
       "      <td>NaN</td>\n",
       "      <td>NaN</td>\n",
       "      <td>NaN</td>\n",
       "      <td>NaN</td>\n",
       "      <td>...</td>\n",
       "      <td>NaN</td>\n",
       "      <td>NaN</td>\n",
       "      <td>NaN</td>\n",
       "      <td>NaN</td>\n",
       "      <td>NaN</td>\n",
       "      <td>NaN</td>\n",
       "      <td>NaN</td>\n",
       "      <td>NaN</td>\n",
       "      <td>NaN</td>\n",
       "      <td>NaN</td>\n",
       "    </tr>\n",
       "    <tr>\n",
       "      <th>1990-02-09</th>\n",
       "      <td>NaN</td>\n",
       "      <td>NaN</td>\n",
       "      <td>NaN</td>\n",
       "      <td>NaN</td>\n",
       "      <td>NaN</td>\n",
       "      <td>NaN</td>\n",
       "      <td>NaN</td>\n",
       "      <td>NaN</td>\n",
       "      <td>NaN</td>\n",
       "      <td>NaN</td>\n",
       "      <td>...</td>\n",
       "      <td>NaN</td>\n",
       "      <td>NaN</td>\n",
       "      <td>NaN</td>\n",
       "      <td>NaN</td>\n",
       "      <td>NaN</td>\n",
       "      <td>NaN</td>\n",
       "      <td>NaN</td>\n",
       "      <td>NaN</td>\n",
       "      <td>NaN</td>\n",
       "      <td>NaN</td>\n",
       "    </tr>\n",
       "    <tr>\n",
       "      <th>1990-02-08</th>\n",
       "      <td>NaN</td>\n",
       "      <td>NaN</td>\n",
       "      <td>NaN</td>\n",
       "      <td>NaN</td>\n",
       "      <td>NaN</td>\n",
       "      <td>NaN</td>\n",
       "      <td>NaN</td>\n",
       "      <td>NaN</td>\n",
       "      <td>NaN</td>\n",
       "      <td>NaN</td>\n",
       "      <td>...</td>\n",
       "      <td>NaN</td>\n",
       "      <td>NaN</td>\n",
       "      <td>NaN</td>\n",
       "      <td>NaN</td>\n",
       "      <td>NaN</td>\n",
       "      <td>NaN</td>\n",
       "      <td>NaN</td>\n",
       "      <td>NaN</td>\n",
       "      <td>NaN</td>\n",
       "      <td>NaN</td>\n",
       "    </tr>\n",
       "    <tr>\n",
       "      <th>1990-02-07</th>\n",
       "      <td>NaN</td>\n",
       "      <td>NaN</td>\n",
       "      <td>NaN</td>\n",
       "      <td>NaN</td>\n",
       "      <td>NaN</td>\n",
       "      <td>NaN</td>\n",
       "      <td>NaN</td>\n",
       "      <td>NaN</td>\n",
       "      <td>NaN</td>\n",
       "      <td>NaN</td>\n",
       "      <td>...</td>\n",
       "      <td>NaN</td>\n",
       "      <td>NaN</td>\n",
       "      <td>NaN</td>\n",
       "      <td>NaN</td>\n",
       "      <td>NaN</td>\n",
       "      <td>NaN</td>\n",
       "      <td>NaN</td>\n",
       "      <td>NaN</td>\n",
       "      <td>NaN</td>\n",
       "      <td>NaN</td>\n",
       "    </tr>\n",
       "    <tr>\n",
       "      <th>1990-02-06</th>\n",
       "      <td>NaN</td>\n",
       "      <td>NaN</td>\n",
       "      <td>NaN</td>\n",
       "      <td>NaN</td>\n",
       "      <td>NaN</td>\n",
       "      <td>NaN</td>\n",
       "      <td>NaN</td>\n",
       "      <td>NaN</td>\n",
       "      <td>NaN</td>\n",
       "      <td>NaN</td>\n",
       "      <td>...</td>\n",
       "      <td>NaN</td>\n",
       "      <td>NaN</td>\n",
       "      <td>NaN</td>\n",
       "      <td>NaN</td>\n",
       "      <td>NaN</td>\n",
       "      <td>NaN</td>\n",
       "      <td>NaN</td>\n",
       "      <td>NaN</td>\n",
       "      <td>NaN</td>\n",
       "      <td>NaN</td>\n",
       "    </tr>\n",
       "    <tr>\n",
       "      <th>1990-02-05</th>\n",
       "      <td>NaN</td>\n",
       "      <td>NaN</td>\n",
       "      <td>NaN</td>\n",
       "      <td>NaN</td>\n",
       "      <td>NaN</td>\n",
       "      <td>NaN</td>\n",
       "      <td>NaN</td>\n",
       "      <td>NaN</td>\n",
       "      <td>NaN</td>\n",
       "      <td>NaN</td>\n",
       "      <td>...</td>\n",
       "      <td>NaN</td>\n",
       "      <td>NaN</td>\n",
       "      <td>NaN</td>\n",
       "      <td>NaN</td>\n",
       "      <td>NaN</td>\n",
       "      <td>NaN</td>\n",
       "      <td>NaN</td>\n",
       "      <td>NaN</td>\n",
       "      <td>NaN</td>\n",
       "      <td>NaN</td>\n",
       "    </tr>\n",
       "    <tr>\n",
       "      <th>1990-02-02</th>\n",
       "      <td>NaN</td>\n",
       "      <td>NaN</td>\n",
       "      <td>NaN</td>\n",
       "      <td>NaN</td>\n",
       "      <td>NaN</td>\n",
       "      <td>NaN</td>\n",
       "      <td>NaN</td>\n",
       "      <td>NaN</td>\n",
       "      <td>NaN</td>\n",
       "      <td>NaN</td>\n",
       "      <td>...</td>\n",
       "      <td>NaN</td>\n",
       "      <td>NaN</td>\n",
       "      <td>NaN</td>\n",
       "      <td>NaN</td>\n",
       "      <td>NaN</td>\n",
       "      <td>NaN</td>\n",
       "      <td>NaN</td>\n",
       "      <td>NaN</td>\n",
       "      <td>NaN</td>\n",
       "      <td>NaN</td>\n",
       "    </tr>\n",
       "    <tr>\n",
       "      <th>1990-02-01</th>\n",
       "      <td>NaN</td>\n",
       "      <td>NaN</td>\n",
       "      <td>NaN</td>\n",
       "      <td>NaN</td>\n",
       "      <td>NaN</td>\n",
       "      <td>NaN</td>\n",
       "      <td>NaN</td>\n",
       "      <td>NaN</td>\n",
       "      <td>NaN</td>\n",
       "      <td>NaN</td>\n",
       "      <td>...</td>\n",
       "      <td>NaN</td>\n",
       "      <td>NaN</td>\n",
       "      <td>NaN</td>\n",
       "      <td>NaN</td>\n",
       "      <td>NaN</td>\n",
       "      <td>NaN</td>\n",
       "      <td>NaN</td>\n",
       "      <td>NaN</td>\n",
       "      <td>NaN</td>\n",
       "      <td>NaN</td>\n",
       "    </tr>\n",
       "    <tr>\n",
       "      <th>1990-01-31</th>\n",
       "      <td>NaN</td>\n",
       "      <td>NaN</td>\n",
       "      <td>NaN</td>\n",
       "      <td>NaN</td>\n",
       "      <td>NaN</td>\n",
       "      <td>NaN</td>\n",
       "      <td>NaN</td>\n",
       "      <td>NaN</td>\n",
       "      <td>NaN</td>\n",
       "      <td>NaN</td>\n",
       "      <td>...</td>\n",
       "      <td>NaN</td>\n",
       "      <td>NaN</td>\n",
       "      <td>NaN</td>\n",
       "      <td>NaN</td>\n",
       "      <td>NaN</td>\n",
       "      <td>NaN</td>\n",
       "      <td>NaN</td>\n",
       "      <td>NaN</td>\n",
       "      <td>NaN</td>\n",
       "      <td>NaN</td>\n",
       "    </tr>\n",
       "    <tr>\n",
       "      <th>1990-01-30</th>\n",
       "      <td>NaN</td>\n",
       "      <td>NaN</td>\n",
       "      <td>NaN</td>\n",
       "      <td>NaN</td>\n",
       "      <td>NaN</td>\n",
       "      <td>NaN</td>\n",
       "      <td>NaN</td>\n",
       "      <td>NaN</td>\n",
       "      <td>NaN</td>\n",
       "      <td>NaN</td>\n",
       "      <td>...</td>\n",
       "      <td>NaN</td>\n",
       "      <td>NaN</td>\n",
       "      <td>NaN</td>\n",
       "      <td>NaN</td>\n",
       "      <td>NaN</td>\n",
       "      <td>NaN</td>\n",
       "      <td>NaN</td>\n",
       "      <td>NaN</td>\n",
       "      <td>NaN</td>\n",
       "      <td>NaN</td>\n",
       "    </tr>\n",
       "    <tr>\n",
       "      <th>1990-01-26</th>\n",
       "      <td>NaN</td>\n",
       "      <td>NaN</td>\n",
       "      <td>NaN</td>\n",
       "      <td>NaN</td>\n",
       "      <td>NaN</td>\n",
       "      <td>NaN</td>\n",
       "      <td>NaN</td>\n",
       "      <td>NaN</td>\n",
       "      <td>NaN</td>\n",
       "      <td>NaN</td>\n",
       "      <td>...</td>\n",
       "      <td>NaN</td>\n",
       "      <td>NaN</td>\n",
       "      <td>NaN</td>\n",
       "      <td>NaN</td>\n",
       "      <td>NaN</td>\n",
       "      <td>NaN</td>\n",
       "      <td>NaN</td>\n",
       "      <td>NaN</td>\n",
       "      <td>NaN</td>\n",
       "      <td>NaN</td>\n",
       "    </tr>\n",
       "    <tr>\n",
       "      <th>1990-01-25</th>\n",
       "      <td>NaN</td>\n",
       "      <td>NaN</td>\n",
       "      <td>NaN</td>\n",
       "      <td>NaN</td>\n",
       "      <td>NaN</td>\n",
       "      <td>NaN</td>\n",
       "      <td>NaN</td>\n",
       "      <td>NaN</td>\n",
       "      <td>NaN</td>\n",
       "      <td>NaN</td>\n",
       "      <td>...</td>\n",
       "      <td>NaN</td>\n",
       "      <td>NaN</td>\n",
       "      <td>NaN</td>\n",
       "      <td>NaN</td>\n",
       "      <td>NaN</td>\n",
       "      <td>NaN</td>\n",
       "      <td>NaN</td>\n",
       "      <td>NaN</td>\n",
       "      <td>NaN</td>\n",
       "      <td>NaN</td>\n",
       "    </tr>\n",
       "    <tr>\n",
       "      <th>1990-01-24</th>\n",
       "      <td>NaN</td>\n",
       "      <td>NaN</td>\n",
       "      <td>NaN</td>\n",
       "      <td>NaN</td>\n",
       "      <td>NaN</td>\n",
       "      <td>NaN</td>\n",
       "      <td>NaN</td>\n",
       "      <td>NaN</td>\n",
       "      <td>NaN</td>\n",
       "      <td>NaN</td>\n",
       "      <td>...</td>\n",
       "      <td>NaN</td>\n",
       "      <td>NaN</td>\n",
       "      <td>NaN</td>\n",
       "      <td>NaN</td>\n",
       "      <td>NaN</td>\n",
       "      <td>NaN</td>\n",
       "      <td>NaN</td>\n",
       "      <td>NaN</td>\n",
       "      <td>NaN</td>\n",
       "      <td>NaN</td>\n",
       "    </tr>\n",
       "    <tr>\n",
       "      <th>1990-01-23</th>\n",
       "      <td>NaN</td>\n",
       "      <td>NaN</td>\n",
       "      <td>NaN</td>\n",
       "      <td>NaN</td>\n",
       "      <td>NaN</td>\n",
       "      <td>NaN</td>\n",
       "      <td>NaN</td>\n",
       "      <td>NaN</td>\n",
       "      <td>NaN</td>\n",
       "      <td>NaN</td>\n",
       "      <td>...</td>\n",
       "      <td>NaN</td>\n",
       "      <td>NaN</td>\n",
       "      <td>NaN</td>\n",
       "      <td>NaN</td>\n",
       "      <td>NaN</td>\n",
       "      <td>NaN</td>\n",
       "      <td>NaN</td>\n",
       "      <td>NaN</td>\n",
       "      <td>NaN</td>\n",
       "      <td>NaN</td>\n",
       "    </tr>\n",
       "    <tr>\n",
       "      <th>1990-01-22</th>\n",
       "      <td>NaN</td>\n",
       "      <td>NaN</td>\n",
       "      <td>NaN</td>\n",
       "      <td>NaN</td>\n",
       "      <td>NaN</td>\n",
       "      <td>NaN</td>\n",
       "      <td>NaN</td>\n",
       "      <td>NaN</td>\n",
       "      <td>NaN</td>\n",
       "      <td>NaN</td>\n",
       "      <td>...</td>\n",
       "      <td>NaN</td>\n",
       "      <td>NaN</td>\n",
       "      <td>NaN</td>\n",
       "      <td>NaN</td>\n",
       "      <td>NaN</td>\n",
       "      <td>NaN</td>\n",
       "      <td>NaN</td>\n",
       "      <td>NaN</td>\n",
       "      <td>NaN</td>\n",
       "      <td>NaN</td>\n",
       "    </tr>\n",
       "    <tr>\n",
       "      <th>1990-01-19</th>\n",
       "      <td>NaN</td>\n",
       "      <td>NaN</td>\n",
       "      <td>NaN</td>\n",
       "      <td>NaN</td>\n",
       "      <td>NaN</td>\n",
       "      <td>NaN</td>\n",
       "      <td>NaN</td>\n",
       "      <td>NaN</td>\n",
       "      <td>NaN</td>\n",
       "      <td>NaN</td>\n",
       "      <td>...</td>\n",
       "      <td>NaN</td>\n",
       "      <td>NaN</td>\n",
       "      <td>NaN</td>\n",
       "      <td>NaN</td>\n",
       "      <td>NaN</td>\n",
       "      <td>NaN</td>\n",
       "      <td>NaN</td>\n",
       "      <td>NaN</td>\n",
       "      <td>NaN</td>\n",
       "      <td>NaN</td>\n",
       "    </tr>\n",
       "    <tr>\n",
       "      <th>1990-01-18</th>\n",
       "      <td>NaN</td>\n",
       "      <td>NaN</td>\n",
       "      <td>NaN</td>\n",
       "      <td>NaN</td>\n",
       "      <td>NaN</td>\n",
       "      <td>NaN</td>\n",
       "      <td>NaN</td>\n",
       "      <td>NaN</td>\n",
       "      <td>NaN</td>\n",
       "      <td>NaN</td>\n",
       "      <td>...</td>\n",
       "      <td>NaN</td>\n",
       "      <td>NaN</td>\n",
       "      <td>NaN</td>\n",
       "      <td>NaN</td>\n",
       "      <td>NaN</td>\n",
       "      <td>NaN</td>\n",
       "      <td>NaN</td>\n",
       "      <td>NaN</td>\n",
       "      <td>NaN</td>\n",
       "      <td>NaN</td>\n",
       "    </tr>\n",
       "    <tr>\n",
       "      <th>1990-01-17</th>\n",
       "      <td>NaN</td>\n",
       "      <td>NaN</td>\n",
       "      <td>NaN</td>\n",
       "      <td>NaN</td>\n",
       "      <td>NaN</td>\n",
       "      <td>NaN</td>\n",
       "      <td>NaN</td>\n",
       "      <td>NaN</td>\n",
       "      <td>NaN</td>\n",
       "      <td>NaN</td>\n",
       "      <td>...</td>\n",
       "      <td>NaN</td>\n",
       "      <td>NaN</td>\n",
       "      <td>NaN</td>\n",
       "      <td>NaN</td>\n",
       "      <td>NaN</td>\n",
       "      <td>NaN</td>\n",
       "      <td>NaN</td>\n",
       "      <td>NaN</td>\n",
       "      <td>NaN</td>\n",
       "      <td>NaN</td>\n",
       "    </tr>\n",
       "    <tr>\n",
       "      <th>1990-01-16</th>\n",
       "      <td>NaN</td>\n",
       "      <td>NaN</td>\n",
       "      <td>NaN</td>\n",
       "      <td>NaN</td>\n",
       "      <td>NaN</td>\n",
       "      <td>NaN</td>\n",
       "      <td>NaN</td>\n",
       "      <td>NaN</td>\n",
       "      <td>NaN</td>\n",
       "      <td>NaN</td>\n",
       "      <td>...</td>\n",
       "      <td>NaN</td>\n",
       "      <td>NaN</td>\n",
       "      <td>NaN</td>\n",
       "      <td>NaN</td>\n",
       "      <td>NaN</td>\n",
       "      <td>NaN</td>\n",
       "      <td>NaN</td>\n",
       "      <td>NaN</td>\n",
       "      <td>NaN</td>\n",
       "      <td>NaN</td>\n",
       "    </tr>\n",
       "    <tr>\n",
       "      <th>1990-01-15</th>\n",
       "      <td>NaN</td>\n",
       "      <td>NaN</td>\n",
       "      <td>NaN</td>\n",
       "      <td>NaN</td>\n",
       "      <td>NaN</td>\n",
       "      <td>NaN</td>\n",
       "      <td>NaN</td>\n",
       "      <td>NaN</td>\n",
       "      <td>NaN</td>\n",
       "      <td>NaN</td>\n",
       "      <td>...</td>\n",
       "      <td>NaN</td>\n",
       "      <td>NaN</td>\n",
       "      <td>NaN</td>\n",
       "      <td>NaN</td>\n",
       "      <td>NaN</td>\n",
       "      <td>NaN</td>\n",
       "      <td>NaN</td>\n",
       "      <td>NaN</td>\n",
       "      <td>NaN</td>\n",
       "      <td>NaN</td>\n",
       "    </tr>\n",
       "    <tr>\n",
       "      <th>1990-01-12</th>\n",
       "      <td>NaN</td>\n",
       "      <td>NaN</td>\n",
       "      <td>NaN</td>\n",
       "      <td>NaN</td>\n",
       "      <td>NaN</td>\n",
       "      <td>NaN</td>\n",
       "      <td>NaN</td>\n",
       "      <td>NaN</td>\n",
       "      <td>NaN</td>\n",
       "      <td>NaN</td>\n",
       "      <td>...</td>\n",
       "      <td>NaN</td>\n",
       "      <td>NaN</td>\n",
       "      <td>NaN</td>\n",
       "      <td>NaN</td>\n",
       "      <td>NaN</td>\n",
       "      <td>NaN</td>\n",
       "      <td>NaN</td>\n",
       "      <td>NaN</td>\n",
       "      <td>NaN</td>\n",
       "      <td>NaN</td>\n",
       "    </tr>\n",
       "    <tr>\n",
       "      <th>1990-01-11</th>\n",
       "      <td>NaN</td>\n",
       "      <td>NaN</td>\n",
       "      <td>NaN</td>\n",
       "      <td>NaN</td>\n",
       "      <td>NaN</td>\n",
       "      <td>NaN</td>\n",
       "      <td>NaN</td>\n",
       "      <td>NaN</td>\n",
       "      <td>NaN</td>\n",
       "      <td>NaN</td>\n",
       "      <td>...</td>\n",
       "      <td>NaN</td>\n",
       "      <td>NaN</td>\n",
       "      <td>NaN</td>\n",
       "      <td>NaN</td>\n",
       "      <td>NaN</td>\n",
       "      <td>NaN</td>\n",
       "      <td>NaN</td>\n",
       "      <td>NaN</td>\n",
       "      <td>NaN</td>\n",
       "      <td>NaN</td>\n",
       "    </tr>\n",
       "    <tr>\n",
       "      <th>1990-01-10</th>\n",
       "      <td>NaN</td>\n",
       "      <td>NaN</td>\n",
       "      <td>NaN</td>\n",
       "      <td>NaN</td>\n",
       "      <td>NaN</td>\n",
       "      <td>NaN</td>\n",
       "      <td>NaN</td>\n",
       "      <td>NaN</td>\n",
       "      <td>NaN</td>\n",
       "      <td>NaN</td>\n",
       "      <td>...</td>\n",
       "      <td>NaN</td>\n",
       "      <td>NaN</td>\n",
       "      <td>NaN</td>\n",
       "      <td>NaN</td>\n",
       "      <td>NaN</td>\n",
       "      <td>NaN</td>\n",
       "      <td>NaN</td>\n",
       "      <td>NaN</td>\n",
       "      <td>NaN</td>\n",
       "      <td>NaN</td>\n",
       "    </tr>\n",
       "    <tr>\n",
       "      <th>1990-01-09</th>\n",
       "      <td>NaN</td>\n",
       "      <td>NaN</td>\n",
       "      <td>NaN</td>\n",
       "      <td>NaN</td>\n",
       "      <td>NaN</td>\n",
       "      <td>NaN</td>\n",
       "      <td>NaN</td>\n",
       "      <td>NaN</td>\n",
       "      <td>NaN</td>\n",
       "      <td>NaN</td>\n",
       "      <td>...</td>\n",
       "      <td>NaN</td>\n",
       "      <td>NaN</td>\n",
       "      <td>NaN</td>\n",
       "      <td>NaN</td>\n",
       "      <td>NaN</td>\n",
       "      <td>NaN</td>\n",
       "      <td>NaN</td>\n",
       "      <td>NaN</td>\n",
       "      <td>NaN</td>\n",
       "      <td>NaN</td>\n",
       "    </tr>\n",
       "    <tr>\n",
       "      <th>1990-01-08</th>\n",
       "      <td>NaN</td>\n",
       "      <td>NaN</td>\n",
       "      <td>NaN</td>\n",
       "      <td>NaN</td>\n",
       "      <td>NaN</td>\n",
       "      <td>NaN</td>\n",
       "      <td>NaN</td>\n",
       "      <td>NaN</td>\n",
       "      <td>NaN</td>\n",
       "      <td>NaN</td>\n",
       "      <td>...</td>\n",
       "      <td>NaN</td>\n",
       "      <td>NaN</td>\n",
       "      <td>NaN</td>\n",
       "      <td>NaN</td>\n",
       "      <td>NaN</td>\n",
       "      <td>NaN</td>\n",
       "      <td>NaN</td>\n",
       "      <td>NaN</td>\n",
       "      <td>NaN</td>\n",
       "      <td>NaN</td>\n",
       "    </tr>\n",
       "    <tr>\n",
       "      <th>1990-01-05</th>\n",
       "      <td>NaN</td>\n",
       "      <td>NaN</td>\n",
       "      <td>NaN</td>\n",
       "      <td>NaN</td>\n",
       "      <td>NaN</td>\n",
       "      <td>NaN</td>\n",
       "      <td>NaN</td>\n",
       "      <td>NaN</td>\n",
       "      <td>NaN</td>\n",
       "      <td>NaN</td>\n",
       "      <td>...</td>\n",
       "      <td>NaN</td>\n",
       "      <td>NaN</td>\n",
       "      <td>NaN</td>\n",
       "      <td>NaN</td>\n",
       "      <td>NaN</td>\n",
       "      <td>NaN</td>\n",
       "      <td>NaN</td>\n",
       "      <td>NaN</td>\n",
       "      <td>NaN</td>\n",
       "      <td>NaN</td>\n",
       "    </tr>\n",
       "    <tr>\n",
       "      <th>1990-01-04</th>\n",
       "      <td>NaN</td>\n",
       "      <td>NaN</td>\n",
       "      <td>NaN</td>\n",
       "      <td>NaN</td>\n",
       "      <td>NaN</td>\n",
       "      <td>NaN</td>\n",
       "      <td>NaN</td>\n",
       "      <td>NaN</td>\n",
       "      <td>NaN</td>\n",
       "      <td>NaN</td>\n",
       "      <td>...</td>\n",
       "      <td>NaN</td>\n",
       "      <td>NaN</td>\n",
       "      <td>NaN</td>\n",
       "      <td>NaN</td>\n",
       "      <td>NaN</td>\n",
       "      <td>NaN</td>\n",
       "      <td>NaN</td>\n",
       "      <td>NaN</td>\n",
       "      <td>NaN</td>\n",
       "      <td>NaN</td>\n",
       "    </tr>\n",
       "    <tr>\n",
       "      <th>1990-01-03</th>\n",
       "      <td>NaN</td>\n",
       "      <td>NaN</td>\n",
       "      <td>NaN</td>\n",
       "      <td>NaN</td>\n",
       "      <td>NaN</td>\n",
       "      <td>NaN</td>\n",
       "      <td>NaN</td>\n",
       "      <td>NaN</td>\n",
       "      <td>NaN</td>\n",
       "      <td>NaN</td>\n",
       "      <td>...</td>\n",
       "      <td>NaN</td>\n",
       "      <td>NaN</td>\n",
       "      <td>NaN</td>\n",
       "      <td>NaN</td>\n",
       "      <td>NaN</td>\n",
       "      <td>NaN</td>\n",
       "      <td>NaN</td>\n",
       "      <td>NaN</td>\n",
       "      <td>NaN</td>\n",
       "      <td>NaN</td>\n",
       "    </tr>\n",
       "    <tr>\n",
       "      <th>1990-01-02</th>\n",
       "      <td>NaN</td>\n",
       "      <td>NaN</td>\n",
       "      <td>NaN</td>\n",
       "      <td>NaN</td>\n",
       "      <td>NaN</td>\n",
       "      <td>NaN</td>\n",
       "      <td>NaN</td>\n",
       "      <td>NaN</td>\n",
       "      <td>NaN</td>\n",
       "      <td>NaN</td>\n",
       "      <td>...</td>\n",
       "      <td>NaN</td>\n",
       "      <td>NaN</td>\n",
       "      <td>NaN</td>\n",
       "      <td>NaN</td>\n",
       "      <td>NaN</td>\n",
       "      <td>NaN</td>\n",
       "      <td>NaN</td>\n",
       "      <td>NaN</td>\n",
       "      <td>NaN</td>\n",
       "      <td>NaN</td>\n",
       "    </tr>\n",
       "  </tbody>\n",
       "</table>\n",
       "<p>7546 rows × 656 columns</p>\n",
       "</div>"
      ],
      "text/plain": [
       "            ORG.AX  WOW.AX  WPL.AX  WBC.AX  WFANA.AX^H00  WFA.AX^F17  \\\n",
       "Date                                                                   \n",
       "2019-10-08    7.91   37.06   31.38   28.68           NaN         NaN   \n",
       "2019-10-07    7.79   36.81   31.15   28.61           NaN         NaN   \n",
       "2019-10-04    7.74   36.32   30.85   28.42           NaN         NaN   \n",
       "2019-10-03    7.70   36.29   30.77   28.50           NaN         NaN   \n",
       "2019-10-02    7.93   37.09   31.74   29.21           NaN         NaN   \n",
       "2019-10-01    7.96   37.59   32.20   29.70           NaN         NaN   \n",
       "2019-09-30    7.97   37.28   32.38   29.64           NaN         NaN   \n",
       "2019-09-27    8.01   37.54   32.03   29.90           NaN         NaN   \n",
       "2019-09-26    7.81   37.38   31.72   29.86           NaN         NaN   \n",
       "2019-09-25    7.83   37.55   32.10   29.89           NaN         NaN   \n",
       "2019-09-24    7.92   37.70   32.46   29.92           NaN         NaN   \n",
       "2019-09-23    7.93   37.57   32.62   29.80           NaN         NaN   \n",
       "2019-09-20    7.89   37.43   32.29   29.66           NaN         NaN   \n",
       "2019-09-19    7.90   37.14   32.17   29.57           NaN         NaN   \n",
       "2019-09-18    7.84   36.83   32.52   29.54           NaN         NaN   \n",
       "2019-09-17    7.96   36.91   33.36   29.63           NaN         NaN   \n",
       "2019-09-16    7.92   36.24   32.70   29.54           NaN         NaN   \n",
       "2019-09-13    7.72   36.43   31.35   29.69           NaN         NaN   \n",
       "2019-09-12    7.76   36.70   31.51   29.66           NaN         NaN   \n",
       "2019-09-11    7.73   36.63   32.19   29.61           NaN         NaN   \n",
       "2019-09-10    7.76   37.68   32.33   29.12           NaN         NaN   \n",
       "2019-09-09    7.63   37.95   31.73   28.85           NaN         NaN   \n",
       "2019-09-06    7.63   38.06   31.85   28.63           NaN         NaN   \n",
       "2019-09-05    7.47   37.55   31.66   28.49           NaN         NaN   \n",
       "2019-09-04    7.38   36.68   31.19   28.25           NaN         NaN   \n",
       "2019-09-03    7.48   36.71   31.54   28.34           NaN         NaN   \n",
       "2019-09-02    7.50   37.24   31.80   28.23           NaN         NaN   \n",
       "2019-08-30    7.63   37.77   32.13   28.22           NaN         NaN   \n",
       "2019-08-29    7.55   36.38   31.62   27.64           NaN         NaN   \n",
       "2019-08-28    7.55   36.18   31.44   27.54           NaN         NaN   \n",
       "...            ...     ...     ...     ...           ...         ...   \n",
       "1990-02-13     NaN     NaN     NaN     NaN           NaN         NaN   \n",
       "1990-02-12     NaN     NaN     NaN     NaN           NaN         NaN   \n",
       "1990-02-09     NaN     NaN     NaN     NaN           NaN         NaN   \n",
       "1990-02-08     NaN     NaN     NaN     NaN           NaN         NaN   \n",
       "1990-02-07     NaN     NaN     NaN     NaN           NaN         NaN   \n",
       "1990-02-06     NaN     NaN     NaN     NaN           NaN         NaN   \n",
       "1990-02-05     NaN     NaN     NaN     NaN           NaN         NaN   \n",
       "1990-02-02     NaN     NaN     NaN     NaN           NaN         NaN   \n",
       "1990-02-01     NaN     NaN     NaN     NaN           NaN         NaN   \n",
       "1990-01-31     NaN     NaN     NaN     NaN           NaN         NaN   \n",
       "1990-01-30     NaN     NaN     NaN     NaN           NaN         NaN   \n",
       "1990-01-26     NaN     NaN     NaN     NaN           NaN         NaN   \n",
       "1990-01-25     NaN     NaN     NaN     NaN           NaN         NaN   \n",
       "1990-01-24     NaN     NaN     NaN     NaN           NaN         NaN   \n",
       "1990-01-23     NaN     NaN     NaN     NaN           NaN         NaN   \n",
       "1990-01-22     NaN     NaN     NaN     NaN           NaN         NaN   \n",
       "1990-01-19     NaN     NaN     NaN     NaN           NaN         NaN   \n",
       "1990-01-18     NaN     NaN     NaN     NaN           NaN         NaN   \n",
       "1990-01-17     NaN     NaN     NaN     NaN           NaN         NaN   \n",
       "1990-01-16     NaN     NaN     NaN     NaN           NaN         NaN   \n",
       "1990-01-15     NaN     NaN     NaN     NaN           NaN         NaN   \n",
       "1990-01-12     NaN     NaN     NaN     NaN           NaN         NaN   \n",
       "1990-01-11     NaN     NaN     NaN     NaN           NaN         NaN   \n",
       "1990-01-10     NaN     NaN     NaN     NaN           NaN         NaN   \n",
       "1990-01-09     NaN     NaN     NaN     NaN           NaN         NaN   \n",
       "1990-01-08     NaN     NaN     NaN     NaN           NaN         NaN   \n",
       "1990-01-05     NaN     NaN     NaN     NaN           NaN         NaN   \n",
       "1990-01-04     NaN     NaN     NaN     NaN           NaN         NaN   \n",
       "1990-01-03     NaN     NaN     NaN     NaN           NaN         NaN   \n",
       "1990-01-02     NaN     NaN     NaN     NaN           NaN         NaN   \n",
       "\n",
       "            ART.AX^H03  WES.AX  VRLPA.AX^L10  VRL.AX  ...  NEA.AX  COE.AX  \\\n",
       "Date                                                  ...                   \n",
       "2019-10-08         NaN   39.40           NaN    2.83  ...    2.48   0.555   \n",
       "2019-10-07         NaN   38.97           NaN    2.84  ...    2.51   0.565   \n",
       "2019-10-04         NaN   38.67           NaN    2.88  ...    2.46   0.560   \n",
       "2019-10-03         NaN   38.75           NaN    2.80  ...    2.42   0.535   \n",
       "2019-10-02         NaN   39.42           NaN    2.87  ...    2.56   0.555   \n",
       "2019-10-01         NaN   40.19           NaN    2.80  ...    2.66   0.575   \n",
       "2019-09-30         NaN   39.80           NaN    2.84  ...    2.58   0.580   \n",
       "2019-09-27         NaN   40.35           NaN    2.83  ...    2.61   0.575   \n",
       "2019-09-26         NaN   39.77           NaN    2.80  ...    2.56   0.570   \n",
       "2019-09-25         NaN   39.81           NaN    2.74  ...    2.53   0.580   \n",
       "2019-09-24         NaN   40.17           NaN    2.74  ...    2.58   0.590   \n",
       "2019-09-23         NaN   39.91           NaN    2.73  ...    2.56   0.610   \n",
       "2019-09-20         NaN   39.67           NaN    2.70  ...    2.67   0.615   \n",
       "2019-09-19         NaN   39.30           NaN    2.70  ...    2.57   0.625   \n",
       "2019-09-18         NaN   38.78           NaN    2.71  ...    2.62   0.620   \n",
       "2019-09-17         NaN   38.98           NaN    2.80  ...    2.61   0.615   \n",
       "2019-09-16         NaN   39.30           NaN    2.82  ...    2.56   0.610   \n",
       "2019-09-13         NaN   39.40           NaN    2.84  ...    2.52   0.610   \n",
       "2019-09-12         NaN   39.37           NaN    2.88  ...    2.50   0.620   \n",
       "2019-09-11         NaN   39.62           NaN    2.79  ...    2.50   0.610   \n",
       "2019-09-10         NaN   39.25           NaN    2.75  ...    2.61   0.615   \n",
       "2019-09-09         NaN   39.67           NaN    2.69  ...    2.74   0.615   \n",
       "2019-09-06         NaN   39.54           NaN    2.71  ...    2.75   0.620   \n",
       "2019-09-05         NaN   39.21           NaN    2.78  ...    2.67   0.585   \n",
       "2019-09-04         NaN   38.54           NaN    2.76  ...    2.59   0.570   \n",
       "2019-09-03         NaN   38.33           NaN    2.76  ...    2.56   0.570   \n",
       "2019-09-02         NaN   38.61           NaN    2.86  ...    2.55   0.570   \n",
       "2019-08-30         NaN   39.10           NaN    2.78  ...    2.73   0.575   \n",
       "2019-08-29         NaN   39.31           NaN    2.82  ...    2.67   0.575   \n",
       "2019-08-28         NaN   39.28           NaN    2.42  ...    2.80   0.560   \n",
       "...                ...     ...           ...     ...  ...     ...     ...   \n",
       "1990-02-13         NaN     NaN           NaN     NaN  ...     NaN     NaN   \n",
       "1990-02-12         NaN     NaN           NaN     NaN  ...     NaN     NaN   \n",
       "1990-02-09         NaN     NaN           NaN     NaN  ...     NaN     NaN   \n",
       "1990-02-08         NaN     NaN           NaN     NaN  ...     NaN     NaN   \n",
       "1990-02-07         NaN     NaN           NaN     NaN  ...     NaN     NaN   \n",
       "1990-02-06         NaN     NaN           NaN     NaN  ...     NaN     NaN   \n",
       "1990-02-05         NaN     NaN           NaN     NaN  ...     NaN     NaN   \n",
       "1990-02-02         NaN     NaN           NaN     NaN  ...     NaN     NaN   \n",
       "1990-02-01         NaN     NaN           NaN     NaN  ...     NaN     NaN   \n",
       "1990-01-31         NaN     NaN           NaN     NaN  ...     NaN     NaN   \n",
       "1990-01-30         NaN     NaN           NaN     NaN  ...     NaN     NaN   \n",
       "1990-01-26         NaN     NaN           NaN     NaN  ...     NaN     NaN   \n",
       "1990-01-25         NaN     NaN           NaN     NaN  ...     NaN     NaN   \n",
       "1990-01-24         NaN     NaN           NaN     NaN  ...     NaN     NaN   \n",
       "1990-01-23         NaN     NaN           NaN     NaN  ...     NaN     NaN   \n",
       "1990-01-22         NaN     NaN           NaN     NaN  ...     NaN     NaN   \n",
       "1990-01-19         NaN     NaN           NaN     NaN  ...     NaN     NaN   \n",
       "1990-01-18         NaN     NaN           NaN     NaN  ...     NaN     NaN   \n",
       "1990-01-17         NaN     NaN           NaN     NaN  ...     NaN     NaN   \n",
       "1990-01-16         NaN     NaN           NaN     NaN  ...     NaN     NaN   \n",
       "1990-01-15         NaN     NaN           NaN     NaN  ...     NaN     NaN   \n",
       "1990-01-12         NaN     NaN           NaN     NaN  ...     NaN     NaN   \n",
       "1990-01-11         NaN     NaN           NaN     NaN  ...     NaN     NaN   \n",
       "1990-01-10         NaN     NaN           NaN     NaN  ...     NaN     NaN   \n",
       "1990-01-09         NaN     NaN           NaN     NaN  ...     NaN     NaN   \n",
       "1990-01-08         NaN     NaN           NaN     NaN  ...     NaN     NaN   \n",
       "1990-01-05         NaN     NaN           NaN     NaN  ...     NaN     NaN   \n",
       "1990-01-04         NaN     NaN           NaN     NaN  ...     NaN     NaN   \n",
       "1990-01-03         NaN     NaN           NaN     NaN  ...     NaN     NaN   \n",
       "1990-01-02         NaN     NaN           NaN     NaN  ...     NaN     NaN   \n",
       "\n",
       "            SSM.AX  CUV.AX  PME.AX  PNV.AX  NWL.AX  JIN.AX  GOR.AX  CKF.AX  \n",
       "Date                                                                        \n",
       "2019-10-08    2.52   28.09   29.64    2.21    8.88   26.07   1.165   10.44  \n",
       "2019-10-07    2.55   27.10   30.33    2.24    8.69   26.93   1.205    9.94  \n",
       "2019-10-04    2.59   26.02   29.36    2.17    8.76   26.90   1.205    9.94  \n",
       "2019-10-03    2.58   24.69   28.81    2.11    8.53   25.36   1.215    9.94  \n",
       "2019-10-02    2.66   25.61   28.94    2.19    8.73   25.14   1.200    9.95  \n",
       "2019-10-01    2.70   24.79   29.33    2.22    8.76   25.70   1.220   10.10  \n",
       "2019-09-30    2.62   24.70   27.82    2.14    9.11   24.19   1.245   10.01  \n",
       "2019-09-27    2.60   24.88   28.00    2.15    9.38   24.43   1.270   10.12  \n",
       "2019-09-26    2.59   25.52   28.63    2.19    9.33   24.09   1.295   10.14  \n",
       "2019-09-25    2.61   24.86   28.08    2.21    8.89   23.30   1.360   10.23  \n",
       "2019-09-24    2.74   26.08   29.81    2.22    8.93   24.60   1.380   10.07  \n",
       "2019-09-23    2.77   25.00   29.48    2.24    9.09   24.99   1.330    9.98  \n",
       "2019-09-20    2.73   25.54   29.02    2.24    9.10   23.86   1.305    9.85  \n",
       "2019-09-19    2.65   25.24   28.74    2.28    8.94   23.18   1.300    9.80  \n",
       "2019-09-18    2.60   25.63   29.84    2.24    8.91   22.91   1.305    9.60  \n",
       "2019-09-17    2.66   24.96   28.28    2.17    8.64   23.00   1.295    9.38  \n",
       "2019-09-16    2.57   23.80   27.57    2.07    8.59   22.79   1.350    9.32  \n",
       "2019-09-13    2.53   23.75   28.00    2.10    8.53   23.60   1.385    9.21  \n",
       "2019-09-12    2.56   24.41   29.68    2.16    8.50   24.36   1.410    9.27  \n",
       "2019-09-11    2.58   24.29   30.46    2.18    8.65   25.00   1.335    8.98  \n",
       "2019-09-10    2.64   25.18   33.22    2.27    8.51   26.23   1.325    8.91  \n",
       "2019-09-09    2.69   26.85   33.91    2.30    8.40   26.25   1.355    8.87  \n",
       "2019-09-06    2.71   27.10   33.38    2.16    8.22   24.99   1.360    8.58  \n",
       "2019-09-05    2.69   26.03   37.97    2.23    7.95   23.40   1.365    8.64  \n",
       "2019-09-04    2.73   25.30   36.61    2.15    7.87   22.36   1.355    8.45  \n",
       "2019-09-03    2.74   26.41   36.47    2.27    7.62   22.36   1.300    8.54  \n",
       "2019-09-02    2.75   27.01   35.82    2.12    7.72   22.45   1.285    8.51  \n",
       "2019-08-30    2.87   27.07   36.81    2.03    7.63   22.39   1.310    8.63  \n",
       "2019-08-29    2.88   25.58   37.06    2.10    7.55   21.80   1.380    8.63  \n",
       "2019-08-28    2.89   26.47   36.26    2.10    7.50   22.50   1.340    8.55  \n",
       "...            ...     ...     ...     ...     ...     ...     ...     ...  \n",
       "1990-02-13     NaN     NaN     NaN     NaN     NaN     NaN     NaN     NaN  \n",
       "1990-02-12     NaN     NaN     NaN     NaN     NaN     NaN     NaN     NaN  \n",
       "1990-02-09     NaN     NaN     NaN     NaN     NaN     NaN     NaN     NaN  \n",
       "1990-02-08     NaN     NaN     NaN     NaN     NaN     NaN     NaN     NaN  \n",
       "1990-02-07     NaN     NaN     NaN     NaN     NaN     NaN     NaN     NaN  \n",
       "1990-02-06     NaN     NaN     NaN     NaN     NaN     NaN     NaN     NaN  \n",
       "1990-02-05     NaN     NaN     NaN     NaN     NaN     NaN     NaN     NaN  \n",
       "1990-02-02     NaN     NaN     NaN     NaN     NaN     NaN     NaN     NaN  \n",
       "1990-02-01     NaN     NaN     NaN     NaN     NaN     NaN     NaN     NaN  \n",
       "1990-01-31     NaN     NaN     NaN     NaN     NaN     NaN     NaN     NaN  \n",
       "1990-01-30     NaN     NaN     NaN     NaN     NaN     NaN     NaN     NaN  \n",
       "1990-01-26     NaN     NaN     NaN     NaN     NaN     NaN     NaN     NaN  \n",
       "1990-01-25     NaN     NaN     NaN     NaN     NaN     NaN     NaN     NaN  \n",
       "1990-01-24     NaN     NaN     NaN     NaN     NaN     NaN     NaN     NaN  \n",
       "1990-01-23     NaN     NaN     NaN     NaN     NaN     NaN     NaN     NaN  \n",
       "1990-01-22     NaN     NaN     NaN     NaN     NaN     NaN     NaN     NaN  \n",
       "1990-01-19     NaN     NaN     NaN     NaN     NaN     NaN     NaN     NaN  \n",
       "1990-01-18     NaN     NaN     NaN     NaN     NaN     NaN     NaN     NaN  \n",
       "1990-01-17     NaN     NaN     NaN     NaN     NaN     NaN     NaN     NaN  \n",
       "1990-01-16     NaN     NaN     NaN     NaN     NaN     NaN     NaN     NaN  \n",
       "1990-01-15     NaN     NaN     NaN     NaN     NaN     NaN     NaN     NaN  \n",
       "1990-01-12     NaN     NaN     NaN     NaN     NaN     NaN     NaN     NaN  \n",
       "1990-01-11     NaN     NaN     NaN     NaN     NaN     NaN     NaN     NaN  \n",
       "1990-01-10     NaN     NaN     NaN     NaN     NaN     NaN     NaN     NaN  \n",
       "1990-01-09     NaN     NaN     NaN     NaN     NaN     NaN     NaN     NaN  \n",
       "1990-01-08     NaN     NaN     NaN     NaN     NaN     NaN     NaN     NaN  \n",
       "1990-01-05     NaN     NaN     NaN     NaN     NaN     NaN     NaN     NaN  \n",
       "1990-01-04     NaN     NaN     NaN     NaN     NaN     NaN     NaN     NaN  \n",
       "1990-01-03     NaN     NaN     NaN     NaN     NaN     NaN     NaN     NaN  \n",
       "1990-01-02     NaN     NaN     NaN     NaN     NaN     NaN     NaN     NaN  \n",
       "\n",
       "[7546 rows x 656 columns]"
      ]
     },
     "execution_count": 179,
     "metadata": {},
     "output_type": "execute_result"
    }
   ],
   "source": [
    "data_close.sort_index(ascending=False)"
   ]
  },
  {
   "cell_type": "code",
   "execution_count": 29,
   "metadata": {},
   "outputs": [
    {
     "ename": "LinAlgError",
     "evalue": "1-dimensional array given. Array must be at least two-dimensional",
     "output_type": "error",
     "traceback": [
      "\u001b[1;31m---------------------------------------------------------------------------\u001b[0m",
      "\u001b[1;31mLinAlgError\u001b[0m                               Traceback (most recent call last)",
      "\u001b[1;32m<ipython-input-29-67fb495f7994>\u001b[0m in \u001b[0;36m<module>\u001b[1;34m\u001b[0m\n\u001b[1;32m----> 1\u001b[1;33m \u001b[0mnp\u001b[0m\u001b[1;33m.\u001b[0m\u001b[0mlinalg\u001b[0m\u001b[1;33m.\u001b[0m\u001b[0msolve\u001b[0m\u001b[1;33m(\u001b[0m\u001b[0mreversed_df\u001b[0m\u001b[1;33m.\u001b[0m\u001b[0mvalues\u001b[0m\u001b[1;33m[\u001b[0m\u001b[1;36m0\u001b[0m\u001b[1;33m]\u001b[0m\u001b[1;33m.\u001b[0m\u001b[0mT\u001b[0m\u001b[1;33m,\u001b[0m\u001b[1;36m0\u001b[0m\u001b[1;33m)\u001b[0m\u001b[1;33m\u001b[0m\u001b[1;33m\u001b[0m\u001b[0m\n\u001b[0m",
      "\u001b[1;32mc:\\users\\billy\\appdata\\local\\programs\\python\\python36\\lib\\site-packages\\numpy\\linalg\\linalg.py\u001b[0m in \u001b[0;36msolve\u001b[1;34m(a, b)\u001b[0m\n\u001b[0;32m    378\u001b[0m     \"\"\"\n\u001b[0;32m    379\u001b[0m     \u001b[0ma\u001b[0m\u001b[1;33m,\u001b[0m \u001b[0m_\u001b[0m \u001b[1;33m=\u001b[0m \u001b[0m_makearray\u001b[0m\u001b[1;33m(\u001b[0m\u001b[0ma\u001b[0m\u001b[1;33m)\u001b[0m\u001b[1;33m\u001b[0m\u001b[1;33m\u001b[0m\u001b[0m\n\u001b[1;32m--> 380\u001b[1;33m     \u001b[0m_assertRankAtLeast2\u001b[0m\u001b[1;33m(\u001b[0m\u001b[0ma\u001b[0m\u001b[1;33m)\u001b[0m\u001b[1;33m\u001b[0m\u001b[1;33m\u001b[0m\u001b[0m\n\u001b[0m\u001b[0;32m    381\u001b[0m     \u001b[0m_assertNdSquareness\u001b[0m\u001b[1;33m(\u001b[0m\u001b[0ma\u001b[0m\u001b[1;33m)\u001b[0m\u001b[1;33m\u001b[0m\u001b[1;33m\u001b[0m\u001b[0m\n\u001b[0;32m    382\u001b[0m     \u001b[0mb\u001b[0m\u001b[1;33m,\u001b[0m \u001b[0mwrap\u001b[0m \u001b[1;33m=\u001b[0m \u001b[0m_makearray\u001b[0m\u001b[1;33m(\u001b[0m\u001b[0mb\u001b[0m\u001b[1;33m)\u001b[0m\u001b[1;33m\u001b[0m\u001b[1;33m\u001b[0m\u001b[0m\n",
      "\u001b[1;32mc:\\users\\billy\\appdata\\local\\programs\\python\\python36\\lib\\site-packages\\numpy\\linalg\\linalg.py\u001b[0m in \u001b[0;36m_assertRankAtLeast2\u001b[1;34m(*arrays)\u001b[0m\n\u001b[0;32m    202\u001b[0m         \u001b[1;32mif\u001b[0m \u001b[0ma\u001b[0m\u001b[1;33m.\u001b[0m\u001b[0mndim\u001b[0m \u001b[1;33m<\u001b[0m \u001b[1;36m2\u001b[0m\u001b[1;33m:\u001b[0m\u001b[1;33m\u001b[0m\u001b[1;33m\u001b[0m\u001b[0m\n\u001b[0;32m    203\u001b[0m             raise LinAlgError('%d-dimensional array given. Array must be '\n\u001b[1;32m--> 204\u001b[1;33m                     'at least two-dimensional' % a.ndim)\n\u001b[0m\u001b[0;32m    205\u001b[0m \u001b[1;33m\u001b[0m\u001b[0m\n\u001b[0;32m    206\u001b[0m \u001b[1;32mdef\u001b[0m \u001b[0m_assertSquareness\u001b[0m\u001b[1;33m(\u001b[0m\u001b[1;33m*\u001b[0m\u001b[0marrays\u001b[0m\u001b[1;33m)\u001b[0m\u001b[1;33m:\u001b[0m\u001b[1;33m\u001b[0m\u001b[1;33m\u001b[0m\u001b[0m\n",
      "\u001b[1;31mLinAlgError\u001b[0m: 1-dimensional array given. Array must be at least two-dimensional"
     ]
    }
   ],
   "source": [
    "np.linalg.solve(reversed_df.values[0].T,0)"
   ]
  },
  {
   "cell_type": "code",
   "execution_count": 32,
   "metadata": {},
   "outputs": [
    {
     "data": {
      "text/plain": [
       "array([[0],\n",
       "       [0]])"
      ]
     },
     "execution_count": 32,
     "metadata": {},
     "output_type": "execute_result"
    }
   ],
   "source": [
    "np.array([[0]]*2)"
   ]
  },
  {
   "cell_type": "code",
   "execution_count": 36,
   "metadata": {},
   "outputs": [
    {
     "data": {
      "text/plain": [
       "array([ 7.91, 37.06])"
      ]
     },
     "execution_count": 36,
     "metadata": {},
     "output_type": "execute_result"
    }
   ],
   "source": [
    "reversed_df.values[0]"
   ]
  },
  {
   "cell_type": "code",
   "execution_count": 35,
   "metadata": {},
   "outputs": [
    {
     "ename": "LinAlgError",
     "evalue": "Last 2 dimensions of the array must be square",
     "output_type": "error",
     "traceback": [
      "\u001b[1;31m---------------------------------------------------------------------------\u001b[0m",
      "\u001b[1;31mLinAlgError\u001b[0m                               Traceback (most recent call last)",
      "\u001b[1;32m<ipython-input-35-92e8e0cfab46>\u001b[0m in \u001b[0;36m<module>\u001b[1;34m\u001b[0m\n\u001b[1;32m----> 1\u001b[1;33m \u001b[0mnp\u001b[0m\u001b[1;33m.\u001b[0m\u001b[0mlinalg\u001b[0m\u001b[1;33m.\u001b[0m\u001b[0msolve\u001b[0m\u001b[1;33m(\u001b[0m\u001b[0mnp\u001b[0m\u001b[1;33m.\u001b[0m\u001b[0marray\u001b[0m\u001b[1;33m(\u001b[0m\u001b[1;33m[\u001b[0m\u001b[1;33m[\u001b[0m\u001b[1;36m1\u001b[0m\u001b[1;33m]\u001b[0m\u001b[1;33m]\u001b[0m\u001b[1;33m*\u001b[0m\u001b[1;36m2\u001b[0m\u001b[1;33m)\u001b[0m\u001b[1;33m,\u001b[0m\u001b[0mnp\u001b[0m\u001b[1;33m.\u001b[0m\u001b[0marray\u001b[0m\u001b[1;33m(\u001b[0m\u001b[1;33m[\u001b[0m\u001b[1;36m0\u001b[0m\u001b[1;33m]\u001b[0m\u001b[1;33m)\u001b[0m\u001b[1;33m)\u001b[0m\u001b[1;33m\u001b[0m\u001b[1;33m\u001b[0m\u001b[0m\n\u001b[0m",
      "\u001b[1;32mc:\\users\\billy\\appdata\\local\\programs\\python\\python36\\lib\\site-packages\\numpy\\linalg\\linalg.py\u001b[0m in \u001b[0;36msolve\u001b[1;34m(a, b)\u001b[0m\n\u001b[0;32m    379\u001b[0m     \u001b[0ma\u001b[0m\u001b[1;33m,\u001b[0m \u001b[0m_\u001b[0m \u001b[1;33m=\u001b[0m \u001b[0m_makearray\u001b[0m\u001b[1;33m(\u001b[0m\u001b[0ma\u001b[0m\u001b[1;33m)\u001b[0m\u001b[1;33m\u001b[0m\u001b[1;33m\u001b[0m\u001b[0m\n\u001b[0;32m    380\u001b[0m     \u001b[0m_assertRankAtLeast2\u001b[0m\u001b[1;33m(\u001b[0m\u001b[0ma\u001b[0m\u001b[1;33m)\u001b[0m\u001b[1;33m\u001b[0m\u001b[1;33m\u001b[0m\u001b[0m\n\u001b[1;32m--> 381\u001b[1;33m     \u001b[0m_assertNdSquareness\u001b[0m\u001b[1;33m(\u001b[0m\u001b[0ma\u001b[0m\u001b[1;33m)\u001b[0m\u001b[1;33m\u001b[0m\u001b[1;33m\u001b[0m\u001b[0m\n\u001b[0m\u001b[0;32m    382\u001b[0m     \u001b[0mb\u001b[0m\u001b[1;33m,\u001b[0m \u001b[0mwrap\u001b[0m \u001b[1;33m=\u001b[0m \u001b[0m_makearray\u001b[0m\u001b[1;33m(\u001b[0m\u001b[0mb\u001b[0m\u001b[1;33m)\u001b[0m\u001b[1;33m\u001b[0m\u001b[1;33m\u001b[0m\u001b[0m\n\u001b[0;32m    383\u001b[0m     \u001b[0mt\u001b[0m\u001b[1;33m,\u001b[0m \u001b[0mresult_t\u001b[0m \u001b[1;33m=\u001b[0m \u001b[0m_commonType\u001b[0m\u001b[1;33m(\u001b[0m\u001b[0ma\u001b[0m\u001b[1;33m,\u001b[0m \u001b[0mb\u001b[0m\u001b[1;33m)\u001b[0m\u001b[1;33m\u001b[0m\u001b[1;33m\u001b[0m\u001b[0m\n",
      "\u001b[1;32mc:\\users\\billy\\appdata\\local\\programs\\python\\python36\\lib\\site-packages\\numpy\\linalg\\linalg.py\u001b[0m in \u001b[0;36m_assertNdSquareness\u001b[1;34m(*arrays)\u001b[0m\n\u001b[0;32m    213\u001b[0m         \u001b[0mm\u001b[0m\u001b[1;33m,\u001b[0m \u001b[0mn\u001b[0m \u001b[1;33m=\u001b[0m \u001b[0ma\u001b[0m\u001b[1;33m.\u001b[0m\u001b[0mshape\u001b[0m\u001b[1;33m[\u001b[0m\u001b[1;33m-\u001b[0m\u001b[1;36m2\u001b[0m\u001b[1;33m:\u001b[0m\u001b[1;33m]\u001b[0m\u001b[1;33m\u001b[0m\u001b[1;33m\u001b[0m\u001b[0m\n\u001b[0;32m    214\u001b[0m         \u001b[1;32mif\u001b[0m \u001b[0mm\u001b[0m \u001b[1;33m!=\u001b[0m \u001b[0mn\u001b[0m\u001b[1;33m:\u001b[0m\u001b[1;33m\u001b[0m\u001b[1;33m\u001b[0m\u001b[0m\n\u001b[1;32m--> 215\u001b[1;33m             \u001b[1;32mraise\u001b[0m \u001b[0mLinAlgError\u001b[0m\u001b[1;33m(\u001b[0m\u001b[1;34m'Last 2 dimensions of the array must be square'\u001b[0m\u001b[1;33m)\u001b[0m\u001b[1;33m\u001b[0m\u001b[1;33m\u001b[0m\u001b[0m\n\u001b[0m\u001b[0;32m    216\u001b[0m \u001b[1;33m\u001b[0m\u001b[0m\n\u001b[0;32m    217\u001b[0m \u001b[1;32mdef\u001b[0m \u001b[0m_assertFinite\u001b[0m\u001b[1;33m(\u001b[0m\u001b[1;33m*\u001b[0m\u001b[0marrays\u001b[0m\u001b[1;33m)\u001b[0m\u001b[1;33m:\u001b[0m\u001b[1;33m\u001b[0m\u001b[1;33m\u001b[0m\u001b[0m\n",
      "\u001b[1;31mLinAlgError\u001b[0m: Last 2 dimensions of the array must be square"
     ]
    }
   ],
   "source": [
    "np.linalg.solve(np.array([[1]]*2),np.array([0]))"
   ]
  },
  {
   "cell_type": "code",
   "execution_count": 41,
   "metadata": {},
   "outputs": [],
   "source": [
    "a = np.array([[7.91], [7.91]])\n",
    "b = np.array([0])\n",
    "x = np.linalg.solve(a, b)\n"
   ]
  },
  {
   "cell_type": "code",
   "execution_count": 42,
   "metadata": {},
   "outputs": [
    {
     "data": {
      "text/plain": [
       "array([0., 0.])"
      ]
     },
     "execution_count": 42,
     "metadata": {},
     "output_type": "execute_result"
    }
   ],
   "source": [
    "x"
   ]
  },
  {
   "cell_type": "code",
   "execution_count": 43,
   "metadata": {},
   "outputs": [
    {
     "ename": "ValueError",
     "evalue": "incompatible dimensions for cross product\n(dimension must be 2 or 3)",
     "output_type": "error",
     "traceback": [
      "\u001b[1;31m---------------------------------------------------------------------------\u001b[0m",
      "\u001b[1;31mValueError\u001b[0m                                Traceback (most recent call last)",
      "\u001b[1;32m<ipython-input-43-c45f767548bb>\u001b[0m in \u001b[0;36m<module>\u001b[1;34m\u001b[0m\n\u001b[1;32m----> 1\u001b[1;33m \u001b[0mnp\u001b[0m\u001b[1;33m.\u001b[0m\u001b[0mcross\u001b[0m\u001b[1;33m(\u001b[0m\u001b[0mnp\u001b[0m\u001b[1;33m.\u001b[0m\u001b[0marray\u001b[0m\u001b[1;33m(\u001b[0m\u001b[1;33m[\u001b[0m\u001b[1;33m[\u001b[0m\u001b[1;36m7.91\u001b[0m\u001b[1;33m]\u001b[0m\u001b[1;33m,\u001b[0m \u001b[1;33m[\u001b[0m\u001b[1;36m7.91\u001b[0m\u001b[1;33m]\u001b[0m\u001b[1;33m]\u001b[0m\u001b[1;33m)\u001b[0m\u001b[1;33m,\u001b[0m\u001b[0mnp\u001b[0m\u001b[1;33m.\u001b[0m\u001b[0marray\u001b[0m\u001b[1;33m(\u001b[0m\u001b[1;33m[\u001b[0m\u001b[1;33m[\u001b[0m\u001b[1;36m0\u001b[0m\u001b[1;33m]\u001b[0m\u001b[1;33m,\u001b[0m \u001b[1;33m[\u001b[0m\u001b[1;36m0\u001b[0m\u001b[1;33m]\u001b[0m\u001b[1;33m]\u001b[0m\u001b[1;33m)\u001b[0m\u001b[1;33m)\u001b[0m\u001b[1;33m\u001b[0m\u001b[1;33m\u001b[0m\u001b[0m\n\u001b[0m",
      "\u001b[1;32mc:\\users\\billy\\appdata\\local\\programs\\python\\python36\\lib\\site-packages\\numpy\\core\\numeric.py\u001b[0m in \u001b[0;36mcross\u001b[1;34m(a, b, axisa, axisb, axisc, axis)\u001b[0m\n\u001b[0;32m   1725\u001b[0m            \"(dimension must be 2 or 3)\")\n\u001b[0;32m   1726\u001b[0m     \u001b[1;32mif\u001b[0m \u001b[0ma\u001b[0m\u001b[1;33m.\u001b[0m\u001b[0mshape\u001b[0m\u001b[1;33m[\u001b[0m\u001b[1;33m-\u001b[0m\u001b[1;36m1\u001b[0m\u001b[1;33m]\u001b[0m \u001b[1;32mnot\u001b[0m \u001b[1;32min\u001b[0m \u001b[1;33m(\u001b[0m\u001b[1;36m2\u001b[0m\u001b[1;33m,\u001b[0m \u001b[1;36m3\u001b[0m\u001b[1;33m)\u001b[0m \u001b[1;32mor\u001b[0m \u001b[0mb\u001b[0m\u001b[1;33m.\u001b[0m\u001b[0mshape\u001b[0m\u001b[1;33m[\u001b[0m\u001b[1;33m-\u001b[0m\u001b[1;36m1\u001b[0m\u001b[1;33m]\u001b[0m \u001b[1;32mnot\u001b[0m \u001b[1;32min\u001b[0m \u001b[1;33m(\u001b[0m\u001b[1;36m2\u001b[0m\u001b[1;33m,\u001b[0m \u001b[1;36m3\u001b[0m\u001b[1;33m)\u001b[0m\u001b[1;33m:\u001b[0m\u001b[1;33m\u001b[0m\u001b[1;33m\u001b[0m\u001b[0m\n\u001b[1;32m-> 1727\u001b[1;33m         \u001b[1;32mraise\u001b[0m \u001b[0mValueError\u001b[0m\u001b[1;33m(\u001b[0m\u001b[0mmsg\u001b[0m\u001b[1;33m)\u001b[0m\u001b[1;33m\u001b[0m\u001b[1;33m\u001b[0m\u001b[0m\n\u001b[0m\u001b[0;32m   1728\u001b[0m \u001b[1;33m\u001b[0m\u001b[0m\n\u001b[0;32m   1729\u001b[0m     \u001b[1;31m# Create the output array\u001b[0m\u001b[1;33m\u001b[0m\u001b[1;33m\u001b[0m\u001b[1;33m\u001b[0m\u001b[0m\n",
      "\u001b[1;31mValueError\u001b[0m: incompatible dimensions for cross product\n(dimension must be 2 or 3)"
     ]
    }
   ],
   "source": [
    "np.cross(np.array([[7.91], [7.91]]),np.array([[0], [0]]))"
   ]
  },
  {
   "cell_type": "code",
   "execution_count": 44,
   "metadata": {},
   "outputs": [],
   "source": [
    "from scipy.optimize import linprog"
   ]
  },
  {
   "cell_type": "code",
   "execution_count": 94,
   "metadata": {},
   "outputs": [
    {
     "data": {
      "text/plain": [
       "[7.91, 37.06]"
      ]
     },
     "execution_count": 94,
     "metadata": {},
     "output_type": "execute_result"
    }
   ],
   "source": [
    "c = list(reversed_df.values[0])"
   ]
  },
  {
   "cell_type": "code",
   "execution_count": 113,
   "metadata": {},
   "outputs": [],
   "source": [
    "c = np.array([37.06, 7.91])"
   ]
  },
  {
   "cell_type": "code",
   "execution_count": 114,
   "metadata": {},
   "outputs": [],
   "source": [
    "# c = reversed_df.values[0]\n",
    "A = [[1,1],-c]\n",
    "B = [1,0]\n"
   ]
  },
  {
   "cell_type": "code",
   "execution_count": 115,
   "metadata": {},
   "outputs": [],
   "source": [
    "res = linprog(c, A,B,bounds = [(1,None),(None,-0.1)])"
   ]
  },
  {
   "cell_type": "code",
   "execution_count": 116,
   "metadata": {},
   "outputs": [
    {
     "data": {
      "text/plain": [
       "     con: array([], dtype=float64)\n",
       "     fun: 0.0\n",
       " message: 'Optimization terminated successfully.'\n",
       "     nit: 2\n",
       "   slack: array([4.6852086, 0.       ])\n",
       "  status: 0\n",
       " success: True\n",
       "       x: array([ 1.       , -4.6852086])"
      ]
     },
     "execution_count": 116,
     "metadata": {},
     "output_type": "execute_result"
    }
   ],
   "source": [
    "res"
   ]
  },
  {
   "cell_type": "code",
   "execution_count": 89,
   "metadata": {},
   "outputs": [],
   "source": [
    "from scipy.optimize import minimize, rosen, rosen_der\n"
   ]
  },
  {
   "cell_type": "code",
   "execution_count": 90,
   "metadata": {},
   "outputs": [
    {
     "data": {
      "text/plain": [
       "<function scipy.optimize.optimize.rosen(x)>"
      ]
     },
     "execution_count": 90,
     "metadata": {},
     "output_type": "execute_result"
    }
   ],
   "source": [
    "rosen"
   ]
  },
  {
   "cell_type": "code",
   "execution_count": 154,
   "metadata": {},
   "outputs": [],
   "source": [
    "def find\n",
    "\n",
    "\n",
    "def findHedge(x):\n",
    "    index = 0\n",
    "    x_ = list(x)\n",
    "    x = [x_[index]] + x_[:index]+x_[index+1:]\n",
    "    A = [[1]*len(x),-np.array(x)]\n",
    "    B = [1,-1]\n",
    "    res = linprog(x, A,B,bounds = [(0.1,None),(None,-0.1),(None,0.000001)])\n",
    "    print(res)"
   ]
  },
  {
   "cell_type": "code",
   "execution_count": 155,
   "metadata": {},
   "outputs": [
    {
     "name": "stdout",
     "output_type": "stream",
     "text": [
      "     con: array([], dtype=float64)\n",
      "     fun: 0.9999999999999984\n",
      " message: 'Optimization terminated successfully.'\n",
      "     nit: 2\n",
      "   slack: array([ 0.00000000e+00, -1.55431223e-15])\n",
      "  status: 0\n",
      " success: True\n",
      "       x: array([ 1.42857029e+00, -4.28571286e-01,  1.00000000e-06])\n"
     ]
    }
   ],
   "source": [
    "findHedge(np.array([7,21,5]))"
   ]
  },
  {
   "cell_type": "code",
   "execution_count": null,
   "metadata": {},
   "outputs": [],
   "source": []
  },
  {
   "cell_type": "code",
   "execution_count": 167,
   "metadata": {},
   "outputs": [
    {
     "data": {
      "text/plain": [
       "     con: array([], dtype=float64)\n",
       "     fun: 0.09999999999999858\n",
       " message: 'Optimization terminated successfully.'\n",
       "     nit: 2\n",
       "   slack: array([ 3.36190476e-01, -1.42941214e-15])\n",
       "  status: 0\n",
       " success: True\n",
       "       x: array([ 1.        , -0.32619048, -0.01      ])"
      ]
     },
     "execution_count": 167,
     "metadata": {},
     "output_type": "execute_result"
    }
   ],
   "source": [
    "linprog([7,21,5], [[1,1,1],-np.array([7,21,5])],[1,-0.1],bounds = [(1,None),(None,-0.1),(None,-0.01)])"
   ]
  },
  {
   "cell_type": "code",
   "execution_count": 7,
   "metadata": {},
   "outputs": [],
   "source": [
    "temp = data_close[['TLS.AX','SKC.AX']].dropna()\n",
    "train_ratio = 0.8\n",
    "test_ratio = 0.11\n",
    "\n",
    "train_data = temp.iloc[:int(train_ratio*len(temp))]\n",
    "test_data = temp.iloc[int((train_ratio)*len(temp)):int((test_ratio+train_ratio)*len(temp))]"
   ]
  },
  {
   "cell_type": "code",
   "execution_count": 8,
   "metadata": {
    "collapsed": true
   },
   "outputs": [
    {
     "data": {
      "text/html": [
       "<div>\n",
       "<style scoped>\n",
       "    .dataframe tbody tr th:only-of-type {\n",
       "        vertical-align: middle;\n",
       "    }\n",
       "\n",
       "    .dataframe tbody tr th {\n",
       "        vertical-align: top;\n",
       "    }\n",
       "\n",
       "    .dataframe thead th {\n",
       "        text-align: right;\n",
       "    }\n",
       "</style>\n",
       "<table border=\"1\" class=\"dataframe\">\n",
       "  <thead>\n",
       "    <tr style=\"text-align: right;\">\n",
       "      <th></th>\n",
       "      <th>TLS.AX</th>\n",
       "      <th>SKC.AX</th>\n",
       "    </tr>\n",
       "    <tr>\n",
       "      <th>Date</th>\n",
       "      <th></th>\n",
       "      <th></th>\n",
       "    </tr>\n",
       "  </thead>\n",
       "  <tbody>\n",
       "    <tr>\n",
       "      <th>2017-07-04 02:00:00</th>\n",
       "      <td>4.146352</td>\n",
       "      <td>3.85</td>\n",
       "    </tr>\n",
       "    <tr>\n",
       "      <th>2017-07-05 02:00:00</th>\n",
       "      <td>4.232935</td>\n",
       "      <td>3.89</td>\n",
       "    </tr>\n",
       "    <tr>\n",
       "      <th>2017-07-06 02:00:00</th>\n",
       "      <td>4.242555</td>\n",
       "      <td>3.91</td>\n",
       "    </tr>\n",
       "    <tr>\n",
       "      <th>2017-07-07 02:00:00</th>\n",
       "      <td>4.204074</td>\n",
       "      <td>3.96</td>\n",
       "    </tr>\n",
       "    <tr>\n",
       "      <th>2017-07-08 02:00:00</th>\n",
       "      <td>4.155972</td>\n",
       "      <td>3.94</td>\n",
       "    </tr>\n",
       "    <tr>\n",
       "      <th>2017-07-11 02:00:00</th>\n",
       "      <td>4.194453</td>\n",
       "      <td>3.96</td>\n",
       "    </tr>\n",
       "    <tr>\n",
       "      <th>2017-07-12 02:00:00</th>\n",
       "      <td>4.175213</td>\n",
       "      <td>3.96</td>\n",
       "    </tr>\n",
       "    <tr>\n",
       "      <th>2017-07-13 02:00:00</th>\n",
       "      <td>4.155972</td>\n",
       "      <td>3.94</td>\n",
       "    </tr>\n",
       "    <tr>\n",
       "      <th>2017-07-14 02:00:00</th>\n",
       "      <td>4.146352</td>\n",
       "      <td>3.93</td>\n",
       "    </tr>\n",
       "    <tr>\n",
       "      <th>2017-07-15 02:00:00</th>\n",
       "      <td>4.136731</td>\n",
       "      <td>3.98</td>\n",
       "    </tr>\n",
       "    <tr>\n",
       "      <th>2017-07-18 02:00:00</th>\n",
       "      <td>4.059769</td>\n",
       "      <td>3.97</td>\n",
       "    </tr>\n",
       "    <tr>\n",
       "      <th>2017-07-19 02:00:00</th>\n",
       "      <td>4.021288</td>\n",
       "      <td>3.95</td>\n",
       "    </tr>\n",
       "    <tr>\n",
       "      <th>2017-07-20 02:00:00</th>\n",
       "      <td>3.953946</td>\n",
       "      <td>3.95</td>\n",
       "    </tr>\n",
       "    <tr>\n",
       "      <th>2017-07-21 02:00:00</th>\n",
       "      <td>3.944325</td>\n",
       "      <td>3.93</td>\n",
       "    </tr>\n",
       "    <tr>\n",
       "      <th>2017-07-22 02:00:00</th>\n",
       "      <td>3.944325</td>\n",
       "      <td>3.97</td>\n",
       "    </tr>\n",
       "    <tr>\n",
       "      <th>2017-07-25 02:00:00</th>\n",
       "      <td>3.973186</td>\n",
       "      <td>3.97</td>\n",
       "    </tr>\n",
       "    <tr>\n",
       "      <th>2017-07-26 02:00:00</th>\n",
       "      <td>3.934705</td>\n",
       "      <td>3.97</td>\n",
       "    </tr>\n",
       "    <tr>\n",
       "      <th>2017-07-27 02:00:00</th>\n",
       "      <td>3.944325</td>\n",
       "      <td>3.96</td>\n",
       "    </tr>\n",
       "    <tr>\n",
       "      <th>2017-07-28 02:00:00</th>\n",
       "      <td>3.963566</td>\n",
       "      <td>3.87</td>\n",
       "    </tr>\n",
       "    <tr>\n",
       "      <th>2017-07-29 02:00:00</th>\n",
       "      <td>3.953946</td>\n",
       "      <td>3.81</td>\n",
       "    </tr>\n",
       "    <tr>\n",
       "      <th>2017-08-01 02:00:00</th>\n",
       "      <td>3.944325</td>\n",
       "      <td>3.78</td>\n",
       "    </tr>\n",
       "    <tr>\n",
       "      <th>2017-08-02 02:00:00</th>\n",
       "      <td>3.982807</td>\n",
       "      <td>3.83</td>\n",
       "    </tr>\n",
       "    <tr>\n",
       "      <th>2017-08-03 02:00:00</th>\n",
       "      <td>3.953946</td>\n",
       "      <td>3.79</td>\n",
       "    </tr>\n",
       "    <tr>\n",
       "      <th>2017-08-04 02:00:00</th>\n",
       "      <td>3.934705</td>\n",
       "      <td>3.86</td>\n",
       "    </tr>\n",
       "    <tr>\n",
       "      <th>2017-08-05 02:00:00</th>\n",
       "      <td>3.915464</td>\n",
       "      <td>3.85</td>\n",
       "    </tr>\n",
       "    <tr>\n",
       "      <th>2017-08-08 02:00:00</th>\n",
       "      <td>3.973186</td>\n",
       "      <td>3.86</td>\n",
       "    </tr>\n",
       "    <tr>\n",
       "      <th>2017-08-09 02:00:00</th>\n",
       "      <td>3.953946</td>\n",
       "      <td>3.79</td>\n",
       "    </tr>\n",
       "    <tr>\n",
       "      <th>2017-08-10 02:00:00</th>\n",
       "      <td>3.953946</td>\n",
       "      <td>3.65</td>\n",
       "    </tr>\n",
       "    <tr>\n",
       "      <th>2017-08-11 02:00:00</th>\n",
       "      <td>3.992427</td>\n",
       "      <td>3.62</td>\n",
       "    </tr>\n",
       "    <tr>\n",
       "      <th>2017-08-12 02:00:00</th>\n",
       "      <td>3.992427</td>\n",
       "      <td>3.57</td>\n",
       "    </tr>\n",
       "    <tr>\n",
       "      <th>...</th>\n",
       "      <td>...</td>\n",
       "      <td>...</td>\n",
       "    </tr>\n",
       "    <tr>\n",
       "      <th>2018-08-21 02:00:00</th>\n",
       "      <td>2.993072</td>\n",
       "      <td>3.87</td>\n",
       "    </tr>\n",
       "    <tr>\n",
       "      <th>2018-08-22 02:00:00</th>\n",
       "      <td>2.963918</td>\n",
       "      <td>3.90</td>\n",
       "    </tr>\n",
       "    <tr>\n",
       "      <th>2018-08-23 02:00:00</th>\n",
       "      <td>3.177709</td>\n",
       "      <td>3.94</td>\n",
       "    </tr>\n",
       "    <tr>\n",
       "      <th>2018-08-24 02:00:00</th>\n",
       "      <td>3.245734</td>\n",
       "      <td>3.91</td>\n",
       "    </tr>\n",
       "    <tr>\n",
       "      <th>2018-08-25 02:00:00</th>\n",
       "      <td>3.119403</td>\n",
       "      <td>3.88</td>\n",
       "    </tr>\n",
       "    <tr>\n",
       "      <th>2018-08-28 02:00:00</th>\n",
       "      <td>3.138838</td>\n",
       "      <td>3.88</td>\n",
       "    </tr>\n",
       "    <tr>\n",
       "      <th>2018-08-29 02:00:00</th>\n",
       "      <td>3.090249</td>\n",
       "      <td>3.90</td>\n",
       "    </tr>\n",
       "    <tr>\n",
       "      <th>2018-08-30 02:00:00</th>\n",
       "      <td>3.085335</td>\n",
       "      <td>3.85</td>\n",
       "    </tr>\n",
       "    <tr>\n",
       "      <th>2018-08-31 02:00:00</th>\n",
       "      <td>3.173769</td>\n",
       "      <td>3.79</td>\n",
       "    </tr>\n",
       "    <tr>\n",
       "      <th>2018-09-01 02:00:00</th>\n",
       "      <td>3.046032</td>\n",
       "      <td>3.72</td>\n",
       "    </tr>\n",
       "    <tr>\n",
       "      <th>2018-09-04 02:00:00</th>\n",
       "      <td>2.967425</td>\n",
       "      <td>3.71</td>\n",
       "    </tr>\n",
       "    <tr>\n",
       "      <th>2018-09-05 02:00:00</th>\n",
       "      <td>2.987076</td>\n",
       "      <td>3.71</td>\n",
       "    </tr>\n",
       "    <tr>\n",
       "      <th>2018-09-06 02:00:00</th>\n",
       "      <td>2.967425</td>\n",
       "      <td>3.75</td>\n",
       "    </tr>\n",
       "    <tr>\n",
       "      <th>2018-09-07 02:00:00</th>\n",
       "      <td>3.065684</td>\n",
       "      <td>3.79</td>\n",
       "    </tr>\n",
       "    <tr>\n",
       "      <th>2018-09-08 02:00:00</th>\n",
       "      <td>3.075510</td>\n",
       "      <td>3.74</td>\n",
       "    </tr>\n",
       "    <tr>\n",
       "      <th>2018-09-11 02:00:00</th>\n",
       "      <td>3.055858</td>\n",
       "      <td>3.74</td>\n",
       "    </tr>\n",
       "    <tr>\n",
       "      <th>2018-09-12 02:00:00</th>\n",
       "      <td>3.144291</td>\n",
       "      <td>3.79</td>\n",
       "    </tr>\n",
       "    <tr>\n",
       "      <th>2018-09-13 02:00:00</th>\n",
       "      <td>3.124639</td>\n",
       "      <td>3.73</td>\n",
       "    </tr>\n",
       "    <tr>\n",
       "      <th>2018-09-14 02:00:00</th>\n",
       "      <td>3.114813</td>\n",
       "      <td>3.71</td>\n",
       "    </tr>\n",
       "    <tr>\n",
       "      <th>2018-09-15 02:00:00</th>\n",
       "      <td>3.134465</td>\n",
       "      <td>3.73</td>\n",
       "    </tr>\n",
       "    <tr>\n",
       "      <th>2018-09-18 02:00:00</th>\n",
       "      <td>3.183595</td>\n",
       "      <td>3.75</td>\n",
       "    </tr>\n",
       "    <tr>\n",
       "      <th>2018-09-19 02:00:00</th>\n",
       "      <td>3.154117</td>\n",
       "      <td>3.73</td>\n",
       "    </tr>\n",
       "    <tr>\n",
       "      <th>2018-09-20 02:00:00</th>\n",
       "      <td>3.104987</td>\n",
       "      <td>3.73</td>\n",
       "    </tr>\n",
       "    <tr>\n",
       "      <th>2018-09-21 02:00:00</th>\n",
       "      <td>3.085335</td>\n",
       "      <td>3.66</td>\n",
       "    </tr>\n",
       "    <tr>\n",
       "      <th>2018-09-22 02:00:00</th>\n",
       "      <td>3.095161</td>\n",
       "      <td>3.69</td>\n",
       "    </tr>\n",
       "    <tr>\n",
       "      <th>2018-09-25 02:00:00</th>\n",
       "      <td>3.104987</td>\n",
       "      <td>3.66</td>\n",
       "    </tr>\n",
       "    <tr>\n",
       "      <th>2018-09-26 02:00:00</th>\n",
       "      <td>3.114813</td>\n",
       "      <td>3.62</td>\n",
       "    </tr>\n",
       "    <tr>\n",
       "      <th>2018-09-27 02:00:00</th>\n",
       "      <td>3.134465</td>\n",
       "      <td>3.62</td>\n",
       "    </tr>\n",
       "    <tr>\n",
       "      <th>2018-09-28 02:00:00</th>\n",
       "      <td>3.134465</td>\n",
       "      <td>3.67</td>\n",
       "    </tr>\n",
       "    <tr>\n",
       "      <th>2018-09-29 02:00:00</th>\n",
       "      <td>3.134465</td>\n",
       "      <td>3.69</td>\n",
       "    </tr>\n",
       "  </tbody>\n",
       "</table>\n",
       "<p>317 rows × 2 columns</p>\n",
       "</div>"
      ],
      "text/plain": [
       "                       TLS.AX  SKC.AX\n",
       "Date                                 \n",
       "2017-07-04 02:00:00  4.146352    3.85\n",
       "2017-07-05 02:00:00  4.232935    3.89\n",
       "2017-07-06 02:00:00  4.242555    3.91\n",
       "2017-07-07 02:00:00  4.204074    3.96\n",
       "2017-07-08 02:00:00  4.155972    3.94\n",
       "...                       ...     ...\n",
       "2018-09-25 02:00:00  3.104987    3.66\n",
       "2018-09-26 02:00:00  3.114813    3.62\n",
       "2018-09-27 02:00:00  3.134465    3.62\n",
       "2018-09-28 02:00:00  3.134465    3.67\n",
       "2018-09-29 02:00:00  3.134465    3.69\n",
       "\n",
       "[317 rows x 2 columns]"
      ]
     },
     "execution_count": 8,
     "metadata": {},
     "output_type": "execute_result"
    }
   ],
   "source": [
    "test_data"
   ]
  },
  {
   "cell_type": "code",
   "execution_count": 9,
   "metadata": {},
   "outputs": [],
   "source": [
    "from gluonts.dataset.common import ListDataset\n",
    "training_data = ListDataset(\n",
    "    [{\"start\": train_data[stock].index[0], \"target\": train_data[stock]} for stock in temp.columns],\n",
    "    freq = \"1d\"\n",
    ")\n",
    "from gluonts.model.deep_factor  import DeepFactorEstimator\n",
    "from gluonts.model.deepstate import DeepStateEstimator"
   ]
  },
  {
   "cell_type": "code",
   "execution_count": 58,
   "metadata": {},
   "outputs": [],
   "source": [
    "df_all = pd.DataFrame()"
   ]
  },
  {
   "cell_type": "code",
   "execution_count": 59,
   "metadata": {},
   "outputs": [],
   "source": [
    "df_all['r1'] =df['returns']\n",
    "df_all['r2'] =df['returns'].iloc[-2:]"
   ]
  },
  {
   "cell_type": "code",
   "execution_count": 60,
   "metadata": {},
   "outputs": [
    {
     "data": {
      "text/html": [
       "<div>\n",
       "<style scoped>\n",
       "    .dataframe tbody tr th:only-of-type {\n",
       "        vertical-align: middle;\n",
       "    }\n",
       "\n",
       "    .dataframe tbody tr th {\n",
       "        vertical-align: top;\n",
       "    }\n",
       "\n",
       "    .dataframe thead th {\n",
       "        text-align: right;\n",
       "    }\n",
       "</style>\n",
       "<table border=\"1\" class=\"dataframe\">\n",
       "  <thead>\n",
       "    <tr style=\"text-align: right;\">\n",
       "      <th></th>\n",
       "      <th>r1</th>\n",
       "      <th>r2</th>\n",
       "    </tr>\n",
       "  </thead>\n",
       "  <tbody>\n",
       "    <tr>\n",
       "      <th>2018-05-10 02:00:00</th>\n",
       "      <td>NaN</td>\n",
       "      <td>NaN</td>\n",
       "    </tr>\n",
       "    <tr>\n",
       "      <th>2018-05-11 02:00:00</th>\n",
       "      <td>-0.050000</td>\n",
       "      <td>NaN</td>\n",
       "    </tr>\n",
       "    <tr>\n",
       "      <th>2018-05-12 02:00:00</th>\n",
       "      <td>-0.055921</td>\n",
       "      <td>NaN</td>\n",
       "    </tr>\n",
       "    <tr>\n",
       "      <th>2018-05-13 02:00:00</th>\n",
       "      <td>-0.003484</td>\n",
       "      <td>NaN</td>\n",
       "    </tr>\n",
       "    <tr>\n",
       "      <th>2018-05-14 02:00:00</th>\n",
       "      <td>0.003497</td>\n",
       "      <td>NaN</td>\n",
       "    </tr>\n",
       "    <tr>\n",
       "      <th>2018-05-15 02:00:00</th>\n",
       "      <td>-0.006969</td>\n",
       "      <td>NaN</td>\n",
       "    </tr>\n",
       "    <tr>\n",
       "      <th>2018-05-16 02:00:00</th>\n",
       "      <td>-0.017544</td>\n",
       "      <td>NaN</td>\n",
       "    </tr>\n",
       "    <tr>\n",
       "      <th>2018-05-17 02:00:00</th>\n",
       "      <td>-0.021429</td>\n",
       "      <td>NaN</td>\n",
       "    </tr>\n",
       "    <tr>\n",
       "      <th>2018-05-18 02:00:00</th>\n",
       "      <td>0.014599</td>\n",
       "      <td>NaN</td>\n",
       "    </tr>\n",
       "    <tr>\n",
       "      <th>2018-05-19 02:00:00</th>\n",
       "      <td>0.003597</td>\n",
       "      <td>NaN</td>\n",
       "    </tr>\n",
       "    <tr>\n",
       "      <th>2018-05-20 02:00:00</th>\n",
       "      <td>0.028674</td>\n",
       "      <td>NaN</td>\n",
       "    </tr>\n",
       "    <tr>\n",
       "      <th>2018-05-21 02:00:00</th>\n",
       "      <td>-0.010453</td>\n",
       "      <td>NaN</td>\n",
       "    </tr>\n",
       "    <tr>\n",
       "      <th>2018-05-22 02:00:00</th>\n",
       "      <td>-0.010563</td>\n",
       "      <td>NaN</td>\n",
       "    </tr>\n",
       "    <tr>\n",
       "      <th>2018-05-23 02:00:00</th>\n",
       "      <td>-0.007117</td>\n",
       "      <td>NaN</td>\n",
       "    </tr>\n",
       "    <tr>\n",
       "      <th>2018-05-24 02:00:00</th>\n",
       "      <td>0.003584</td>\n",
       "      <td>NaN</td>\n",
       "    </tr>\n",
       "    <tr>\n",
       "      <th>2018-05-25 02:00:00</th>\n",
       "      <td>-0.007143</td>\n",
       "      <td>NaN</td>\n",
       "    </tr>\n",
       "    <tr>\n",
       "      <th>2018-05-26 02:00:00</th>\n",
       "      <td>-0.003597</td>\n",
       "      <td>NaN</td>\n",
       "    </tr>\n",
       "    <tr>\n",
       "      <th>2018-05-27 02:00:00</th>\n",
       "      <td>0.000000</td>\n",
       "      <td>NaN</td>\n",
       "    </tr>\n",
       "    <tr>\n",
       "      <th>2018-05-28 02:00:00</th>\n",
       "      <td>0.000000</td>\n",
       "      <td>NaN</td>\n",
       "    </tr>\n",
       "    <tr>\n",
       "      <th>2018-05-29 02:00:00</th>\n",
       "      <td>0.003610</td>\n",
       "      <td>NaN</td>\n",
       "    </tr>\n",
       "    <tr>\n",
       "      <th>2018-05-30 02:00:00</th>\n",
       "      <td>-0.003597</td>\n",
       "      <td>NaN</td>\n",
       "    </tr>\n",
       "    <tr>\n",
       "      <th>2018-05-31 02:00:00</th>\n",
       "      <td>-0.003610</td>\n",
       "      <td>NaN</td>\n",
       "    </tr>\n",
       "    <tr>\n",
       "      <th>2018-06-01 02:00:00</th>\n",
       "      <td>0.000000</td>\n",
       "      <td>NaN</td>\n",
       "    </tr>\n",
       "    <tr>\n",
       "      <th>2018-06-02 02:00:00</th>\n",
       "      <td>0.050725</td>\n",
       "      <td>NaN</td>\n",
       "    </tr>\n",
       "    <tr>\n",
       "      <th>2018-06-03 02:00:00</th>\n",
       "      <td>0.013793</td>\n",
       "      <td>NaN</td>\n",
       "    </tr>\n",
       "    <tr>\n",
       "      <th>2018-06-04 02:00:00</th>\n",
       "      <td>-0.023810</td>\n",
       "      <td>NaN</td>\n",
       "    </tr>\n",
       "    <tr>\n",
       "      <th>2018-06-05 02:00:00</th>\n",
       "      <td>0.013937</td>\n",
       "      <td>NaN</td>\n",
       "    </tr>\n",
       "    <tr>\n",
       "      <th>2018-06-06 02:00:00</th>\n",
       "      <td>-0.048110</td>\n",
       "      <td>NaN</td>\n",
       "    </tr>\n",
       "    <tr>\n",
       "      <th>2018-06-07 02:00:00</th>\n",
       "      <td>-0.018051</td>\n",
       "      <td>NaN</td>\n",
       "    </tr>\n",
       "    <tr>\n",
       "      <th>2018-06-08 02:00:00</th>\n",
       "      <td>-0.014706</td>\n",
       "      <td>NaN</td>\n",
       "    </tr>\n",
       "    <tr>\n",
       "      <th>...</th>\n",
       "      <td>...</td>\n",
       "      <td>...</td>\n",
       "    </tr>\n",
       "    <tr>\n",
       "      <th>2019-04-03 02:00:00</th>\n",
       "      <td>0.010811</td>\n",
       "      <td>NaN</td>\n",
       "    </tr>\n",
       "    <tr>\n",
       "      <th>2019-04-04 02:00:00</th>\n",
       "      <td>-0.008087</td>\n",
       "      <td>NaN</td>\n",
       "    </tr>\n",
       "    <tr>\n",
       "      <th>2019-04-05 02:00:00</th>\n",
       "      <td>-0.005435</td>\n",
       "      <td>NaN</td>\n",
       "    </tr>\n",
       "    <tr>\n",
       "      <th>2019-04-06 02:00:00</th>\n",
       "      <td>0.016393</td>\n",
       "      <td>NaN</td>\n",
       "    </tr>\n",
       "    <tr>\n",
       "      <th>2019-04-07 02:00:00</th>\n",
       "      <td>-0.021505</td>\n",
       "      <td>NaN</td>\n",
       "    </tr>\n",
       "    <tr>\n",
       "      <th>2019-04-08 02:00:00</th>\n",
       "      <td>-0.008242</td>\n",
       "      <td>NaN</td>\n",
       "    </tr>\n",
       "    <tr>\n",
       "      <th>2019-04-09 02:00:00</th>\n",
       "      <td>-0.011080</td>\n",
       "      <td>NaN</td>\n",
       "    </tr>\n",
       "    <tr>\n",
       "      <th>2019-04-10 02:00:00</th>\n",
       "      <td>0.005602</td>\n",
       "      <td>NaN</td>\n",
       "    </tr>\n",
       "    <tr>\n",
       "      <th>2019-04-11 02:00:00</th>\n",
       "      <td>0.005571</td>\n",
       "      <td>NaN</td>\n",
       "    </tr>\n",
       "    <tr>\n",
       "      <th>2019-04-12 02:00:00</th>\n",
       "      <td>-0.002770</td>\n",
       "      <td>NaN</td>\n",
       "    </tr>\n",
       "    <tr>\n",
       "      <th>2019-04-13 02:00:00</th>\n",
       "      <td>-0.011111</td>\n",
       "      <td>NaN</td>\n",
       "    </tr>\n",
       "    <tr>\n",
       "      <th>2019-04-14 02:00:00</th>\n",
       "      <td>0.000000</td>\n",
       "      <td>NaN</td>\n",
       "    </tr>\n",
       "    <tr>\n",
       "      <th>2019-04-15 02:00:00</th>\n",
       "      <td>0.008427</td>\n",
       "      <td>NaN</td>\n",
       "    </tr>\n",
       "    <tr>\n",
       "      <th>2019-04-16 02:00:00</th>\n",
       "      <td>0.005571</td>\n",
       "      <td>NaN</td>\n",
       "    </tr>\n",
       "    <tr>\n",
       "      <th>2019-04-17 02:00:00</th>\n",
       "      <td>-0.011080</td>\n",
       "      <td>NaN</td>\n",
       "    </tr>\n",
       "    <tr>\n",
       "      <th>2019-04-18 02:00:00</th>\n",
       "      <td>0.000000</td>\n",
       "      <td>NaN</td>\n",
       "    </tr>\n",
       "    <tr>\n",
       "      <th>2019-04-19 02:00:00</th>\n",
       "      <td>-0.005602</td>\n",
       "      <td>NaN</td>\n",
       "    </tr>\n",
       "    <tr>\n",
       "      <th>2019-04-20 02:00:00</th>\n",
       "      <td>0.025352</td>\n",
       "      <td>NaN</td>\n",
       "    </tr>\n",
       "    <tr>\n",
       "      <th>2019-04-21 02:00:00</th>\n",
       "      <td>0.002747</td>\n",
       "      <td>NaN</td>\n",
       "    </tr>\n",
       "    <tr>\n",
       "      <th>2019-04-22 02:00:00</th>\n",
       "      <td>0.000000</td>\n",
       "      <td>NaN</td>\n",
       "    </tr>\n",
       "    <tr>\n",
       "      <th>2019-04-23 02:00:00</th>\n",
       "      <td>-0.010959</td>\n",
       "      <td>NaN</td>\n",
       "    </tr>\n",
       "    <tr>\n",
       "      <th>2019-04-24 02:00:00</th>\n",
       "      <td>-0.019391</td>\n",
       "      <td>NaN</td>\n",
       "    </tr>\n",
       "    <tr>\n",
       "      <th>2019-04-25 02:00:00</th>\n",
       "      <td>-0.022599</td>\n",
       "      <td>NaN</td>\n",
       "    </tr>\n",
       "    <tr>\n",
       "      <th>2019-04-26 02:00:00</th>\n",
       "      <td>0.014451</td>\n",
       "      <td>NaN</td>\n",
       "    </tr>\n",
       "    <tr>\n",
       "      <th>2019-04-27 02:00:00</th>\n",
       "      <td>0.000000</td>\n",
       "      <td>NaN</td>\n",
       "    </tr>\n",
       "    <tr>\n",
       "      <th>2019-04-28 02:00:00</th>\n",
       "      <td>0.008547</td>\n",
       "      <td>NaN</td>\n",
       "    </tr>\n",
       "    <tr>\n",
       "      <th>2019-04-29 02:00:00</th>\n",
       "      <td>-0.005650</td>\n",
       "      <td>NaN</td>\n",
       "    </tr>\n",
       "    <tr>\n",
       "      <th>2019-04-30 02:00:00</th>\n",
       "      <td>-0.034091</td>\n",
       "      <td>NaN</td>\n",
       "    </tr>\n",
       "    <tr>\n",
       "      <th>2019-05-01 02:00:00</th>\n",
       "      <td>0.005882</td>\n",
       "      <td>0.005882</td>\n",
       "    </tr>\n",
       "    <tr>\n",
       "      <th>2019-05-02 02:00:00</th>\n",
       "      <td>0.014620</td>\n",
       "      <td>0.014620</td>\n",
       "    </tr>\n",
       "  </tbody>\n",
       "</table>\n",
       "<p>358 rows × 2 columns</p>\n",
       "</div>"
      ],
      "text/plain": [
       "                           r1        r2\n",
       "2018-05-10 02:00:00       NaN       NaN\n",
       "2018-05-11 02:00:00 -0.050000       NaN\n",
       "2018-05-12 02:00:00 -0.055921       NaN\n",
       "2018-05-13 02:00:00 -0.003484       NaN\n",
       "2018-05-14 02:00:00  0.003497       NaN\n",
       "2018-05-15 02:00:00 -0.006969       NaN\n",
       "2018-05-16 02:00:00 -0.017544       NaN\n",
       "2018-05-17 02:00:00 -0.021429       NaN\n",
       "2018-05-18 02:00:00  0.014599       NaN\n",
       "2018-05-19 02:00:00  0.003597       NaN\n",
       "2018-05-20 02:00:00  0.028674       NaN\n",
       "2018-05-21 02:00:00 -0.010453       NaN\n",
       "2018-05-22 02:00:00 -0.010563       NaN\n",
       "2018-05-23 02:00:00 -0.007117       NaN\n",
       "2018-05-24 02:00:00  0.003584       NaN\n",
       "2018-05-25 02:00:00 -0.007143       NaN\n",
       "2018-05-26 02:00:00 -0.003597       NaN\n",
       "2018-05-27 02:00:00  0.000000       NaN\n",
       "2018-05-28 02:00:00  0.000000       NaN\n",
       "2018-05-29 02:00:00  0.003610       NaN\n",
       "2018-05-30 02:00:00 -0.003597       NaN\n",
       "2018-05-31 02:00:00 -0.003610       NaN\n",
       "2018-06-01 02:00:00  0.000000       NaN\n",
       "2018-06-02 02:00:00  0.050725       NaN\n",
       "2018-06-03 02:00:00  0.013793       NaN\n",
       "2018-06-04 02:00:00 -0.023810       NaN\n",
       "2018-06-05 02:00:00  0.013937       NaN\n",
       "2018-06-06 02:00:00 -0.048110       NaN\n",
       "2018-06-07 02:00:00 -0.018051       NaN\n",
       "2018-06-08 02:00:00 -0.014706       NaN\n",
       "...                       ...       ...\n",
       "2019-04-03 02:00:00  0.010811       NaN\n",
       "2019-04-04 02:00:00 -0.008087       NaN\n",
       "2019-04-05 02:00:00 -0.005435       NaN\n",
       "2019-04-06 02:00:00  0.016393       NaN\n",
       "2019-04-07 02:00:00 -0.021505       NaN\n",
       "2019-04-08 02:00:00 -0.008242       NaN\n",
       "2019-04-09 02:00:00 -0.011080       NaN\n",
       "2019-04-10 02:00:00  0.005602       NaN\n",
       "2019-04-11 02:00:00  0.005571       NaN\n",
       "2019-04-12 02:00:00 -0.002770       NaN\n",
       "2019-04-13 02:00:00 -0.011111       NaN\n",
       "2019-04-14 02:00:00  0.000000       NaN\n",
       "2019-04-15 02:00:00  0.008427       NaN\n",
       "2019-04-16 02:00:00  0.005571       NaN\n",
       "2019-04-17 02:00:00 -0.011080       NaN\n",
       "2019-04-18 02:00:00  0.000000       NaN\n",
       "2019-04-19 02:00:00 -0.005602       NaN\n",
       "2019-04-20 02:00:00  0.025352       NaN\n",
       "2019-04-21 02:00:00  0.002747       NaN\n",
       "2019-04-22 02:00:00  0.000000       NaN\n",
       "2019-04-23 02:00:00 -0.010959       NaN\n",
       "2019-04-24 02:00:00 -0.019391       NaN\n",
       "2019-04-25 02:00:00 -0.022599       NaN\n",
       "2019-04-26 02:00:00  0.014451       NaN\n",
       "2019-04-27 02:00:00  0.000000       NaN\n",
       "2019-04-28 02:00:00  0.008547       NaN\n",
       "2019-04-29 02:00:00 -0.005650       NaN\n",
       "2019-04-30 02:00:00 -0.034091       NaN\n",
       "2019-05-01 02:00:00  0.005882  0.005882\n",
       "2019-05-02 02:00:00  0.014620  0.014620\n",
       "\n",
       "[358 rows x 2 columns]"
      ]
     },
     "execution_count": 60,
     "metadata": {},
     "output_type": "execute_result"
    }
   ],
   "source": [
    "df_all"
   ]
  },
  {
   "cell_type": "markdown",
   "metadata": {},
   "source": [
    "## DEEP AR SAMPLE UNIVARIATE"
   ]
  },
  {
   "cell_type": "code",
   "execution_count": 5,
   "metadata": {},
   "outputs": [
    {
     "name": "stderr",
     "output_type": "stream",
     "text": [
      "INFO:root:Using CPU\n"
     ]
    }
   ],
   "source": [
    "from gluonts.model.deepar import DeepAREstimator\n",
    "from gluonts.trainer import Trainer\n",
    "from gluonts.dataset.common import ListDataset\n",
    "from gluonts.dataset.util import to_pandas\n",
    "\n",
    "#Read Data\n",
    "data = pickle.load(open( \"D:/PRISMO/historicalData/Data/asx200nobiasFINAL.pickle\", \"rb\" ) )\n",
    "data = pickle.load(open('D:/PRISMO/historicalData/data/asx200nobiasFINAL.pickle','rb'))\n",
    "data_ = data.xs('OPEN',axis=1,level=1).dropna()\n",
    "stocks = data_.columns\n",
    "#Concatenate open and close prices\n",
    "data_open = data.xs('OPEN',axis=1,level=1)\n",
    "data_open.index = data_open.index+pd.Timedelta(10,'H')\n",
    "data_close = data.xs('CLOSE',axis=1,level=1)\n",
    "data_close.index = data_open.index+pd.Timedelta(16,'H')\n",
    "openAndClose = pd.concat([data_open,data_close]).sort_index()\n",
    "stocks = openAndClose.columns\n",
    "\n",
    "\n",
    "\n",
    "\n"
   ]
  },
  {
   "cell_type": "code",
   "execution_count": 6,
   "metadata": {},
   "outputs": [],
   "source": [
    "pred_len = 2\n",
    "\n",
    "temp = data_close[['TLS.AX',]].dropna()\n",
    "train_ratio = 0.88\n",
    "\n",
    "train_data = temp.iloc[:int(train_ratio*len(temp))]\n",
    "test_data = temp.iloc[: int((train_ratio)*len(temp))+pred_len]\n",
    "target_asset = temp.columns[0]\n",
    "\n",
    "#Create univariate dataset\n",
    "training_data = ListDataset(\n",
    "    [{\"start\": train_data[target_asset].index[0],\n",
    "      \"target\": train_data[target_asset]}],\n",
    "    freq = \"1d\"\n",
    ")\n",
    "\n",
    "# Create testing datatset\n",
    "testing_data = ListDataset(\n",
    "    [{\"start\": test_data[target_asset].index[0],\n",
    "      \"target\": train_data[target_asset]}],\n",
    "    freq = \"1d\"\n",
    ")\n",
    "\n",
    "# Create testing datatset\n",
    "testing_data_plots = ListDataset(\n",
    "    [{\"start\": test_data[target_asset].index[0],\n",
    "      \"target\": test_data[target_asset]}],\n",
    "    freq = \"1d\"\n",
    ")\n"
   ]
  },
  {
   "cell_type": "code",
   "execution_count": 7,
   "metadata": {},
   "outputs": [
    {
     "name": "stderr",
     "output_type": "stream",
     "text": [
      "INFO:root:Using CPU\n",
      "INFO:root:Start model training\n",
      "INFO:root:Epoch[0] Learning rate is 0.001\n",
      "  0%|                                                                                           | 0/50 [00:00<?, ?it/s]INFO:root:Number of parameters in DeepARTrainingNetwork: 25884\n",
      "100%|█████████████████████████████████████████████████████████████| 50/50 [00:01<00:00, 27.19it/s, avg_epoch_loss=1.25]\n",
      "INFO:root:Epoch[0] Elapsed time 1.842 seconds\n",
      "INFO:root:Epoch[0] Evaluation metric 'epoch_loss'=1.245467\n",
      "INFO:root:Epoch[1] Learning rate is 0.001\n",
      "100%|████████████████████████████████████████████████████████████| 50/50 [00:01<00:00, 29.98it/s, avg_epoch_loss=-.427]\n",
      "INFO:root:Epoch[1] Elapsed time 1.671 seconds\n",
      "INFO:root:Epoch[1] Evaluation metric 'epoch_loss'=-0.426661\n",
      "INFO:root:Epoch[2] Learning rate is 0.001\n",
      "100%|████████████████████████████████████████████████████████████| 50/50 [00:01<00:00, 29.77it/s, avg_epoch_loss=-.596]\n",
      "INFO:root:Epoch[2] Elapsed time 1.683 seconds\n",
      "INFO:root:Epoch[2] Evaluation metric 'epoch_loss'=-0.595569\n",
      "INFO:root:Epoch[3] Learning rate is 0.001\n",
      "100%|████████████████████████████████████████████████████████████| 50/50 [00:01<00:00, 28.52it/s, avg_epoch_loss=-.812]\n",
      "INFO:root:Epoch[3] Elapsed time 1.757 seconds\n",
      "INFO:root:Epoch[3] Evaluation metric 'epoch_loss'=-0.811811\n",
      "INFO:root:Epoch[4] Learning rate is 0.001\n",
      "100%|█████████████████████████████████████████████████████████████| 50/50 [00:01<00:00, 29.43it/s, avg_epoch_loss=-.93]\n",
      "INFO:root:Epoch[4] Elapsed time 1.703 seconds\n",
      "INFO:root:Epoch[4] Evaluation metric 'epoch_loss'=-0.930227\n",
      "INFO:root:Epoch[5] Learning rate is 0.001\n",
      "100%|████████████████████████████████████████████████████████████| 50/50 [00:01<00:00, 30.94it/s, avg_epoch_loss=-1.03]\n",
      "INFO:root:Epoch[5] Elapsed time 1.619 seconds\n",
      "INFO:root:Epoch[5] Evaluation metric 'epoch_loss'=-1.032681\n",
      "INFO:root:Epoch[6] Learning rate is 0.001\n",
      "100%|████████████████████████████████████████████████████████████| 50/50 [00:01<00:00, 30.23it/s, avg_epoch_loss=-1.11]\n",
      "INFO:root:Epoch[6] Elapsed time 1.657 seconds\n",
      "INFO:root:Epoch[6] Evaluation metric 'epoch_loss'=-1.105057\n",
      "INFO:root:Epoch[7] Learning rate is 0.001\n",
      "100%|████████████████████████████████████████████████████████████| 50/50 [00:01<00:00, 29.39it/s, avg_epoch_loss=-1.25]\n",
      "INFO:root:Epoch[7] Elapsed time 1.704 seconds\n",
      "INFO:root:Epoch[7] Evaluation metric 'epoch_loss'=-1.254132\n",
      "INFO:root:Epoch[8] Learning rate is 0.001\n",
      "100%|█████████████████████████████████████████████████████████████| 50/50 [00:01<00:00, 29.94it/s, avg_epoch_loss=-1.3]\n",
      "INFO:root:Epoch[8] Elapsed time 1.673 seconds\n",
      "INFO:root:Epoch[8] Evaluation metric 'epoch_loss'=-1.300075\n",
      "INFO:root:Epoch[9] Learning rate is 0.001\n",
      "100%|████████████████████████████████████████████████████████████| 50/50 [00:01<00:00, 25.98it/s, avg_epoch_loss=-1.34]\n",
      "INFO:root:Epoch[9] Elapsed time 1.928 seconds\n",
      "INFO:root:Epoch[9] Evaluation metric 'epoch_loss'=-1.343166\n",
      "INFO:root:Epoch[10] Learning rate is 0.001\n",
      "100%|████████████████████████████████████████████████████████████| 50/50 [00:01<00:00, 25.93it/s, avg_epoch_loss=-1.46]\n",
      "INFO:root:Epoch[10] Elapsed time 1.932 seconds\n",
      "INFO:root:Epoch[10] Evaluation metric 'epoch_loss'=-1.463994\n",
      "INFO:root:Epoch[11] Learning rate is 0.001\n",
      "100%|████████████████████████████████████████████████████████████| 50/50 [00:01<00:00, 27.28it/s, avg_epoch_loss=-1.38]\n",
      "INFO:root:Epoch[11] Elapsed time 1.836 seconds\n",
      "INFO:root:Epoch[11] Evaluation metric 'epoch_loss'=-1.379529\n",
      "INFO:root:Epoch[12] Learning rate is 0.001\n",
      "100%|████████████████████████████████████████████████████████████| 50/50 [00:01<00:00, 30.64it/s, avg_epoch_loss=-1.52]\n",
      "INFO:root:Epoch[12] Elapsed time 1.637 seconds\n",
      "INFO:root:Epoch[12] Evaluation metric 'epoch_loss'=-1.524873\n",
      "INFO:root:Epoch[13] Learning rate is 0.001\n",
      "100%|████████████████████████████████████████████████████████████| 50/50 [00:01<00:00, 29.26it/s, avg_epoch_loss=-1.53]\n",
      "INFO:root:Epoch[13] Elapsed time 1.714 seconds\n",
      "INFO:root:Epoch[13] Evaluation metric 'epoch_loss'=-1.529018\n",
      "INFO:root:Epoch[14] Learning rate is 0.001\n",
      "100%|████████████████████████████████████████████████████████████| 50/50 [00:01<00:00, 27.70it/s, avg_epoch_loss=-1.54]\n",
      "INFO:root:Epoch[14] Elapsed time 1.809 seconds\n",
      "INFO:root:Epoch[14] Evaluation metric 'epoch_loss'=-1.537329\n",
      "INFO:root:Epoch[15] Learning rate is 0.001\n",
      "100%|█████████████████████████████████████████████████████████████| 50/50 [00:01<00:00, 26.78it/s, avg_epoch_loss=-1.6]\n",
      "INFO:root:Epoch[15] Elapsed time 1.871 seconds\n",
      "INFO:root:Epoch[15] Evaluation metric 'epoch_loss'=-1.598636\n",
      "INFO:root:Epoch[16] Learning rate is 0.001\n",
      "100%|████████████████████████████████████████████████████████████| 50/50 [00:01<00:00, 26.95it/s, avg_epoch_loss=-1.52]\n",
      "INFO:root:Epoch[16] Elapsed time 1.860 seconds\n",
      "INFO:root:Epoch[16] Evaluation metric 'epoch_loss'=-1.523431\n",
      "INFO:root:Epoch[17] Learning rate is 0.001\n",
      "100%|████████████████████████████████████████████████████████████| 50/50 [00:01<00:00, 28.17it/s, avg_epoch_loss=-1.61]\n",
      "INFO:root:Epoch[17] Elapsed time 1.778 seconds\n",
      "INFO:root:Epoch[17] Evaluation metric 'epoch_loss'=-1.608194\n",
      "INFO:root:Epoch[18] Learning rate is 0.001\n",
      "100%|████████████████████████████████████████████████████████████| 50/50 [00:01<00:00, 28.51it/s, avg_epoch_loss=-1.56]\n",
      "INFO:root:Epoch[18] Elapsed time 1.756 seconds\n",
      "INFO:root:Epoch[18] Evaluation metric 'epoch_loss'=-1.561523\n",
      "INFO:root:Epoch[19] Learning rate is 0.001\n",
      "100%|████████████████████████████████████████████████████████████| 50/50 [00:01<00:00, 29.94it/s, avg_epoch_loss=-1.63]\n",
      "INFO:root:Epoch[19] Elapsed time 1.673 seconds\n",
      "INFO:root:Epoch[19] Evaluation metric 'epoch_loss'=-1.632305\n",
      "INFO:root:Epoch[20] Learning rate is 0.001\n",
      "100%|████████████████████████████████████████████████████████████| 50/50 [00:01<00:00, 30.22it/s, avg_epoch_loss=-1.62]\n",
      "INFO:root:Epoch[20] Elapsed time 1.658 seconds\n",
      "INFO:root:Epoch[20] Evaluation metric 'epoch_loss'=-1.615188\n",
      "INFO:root:Epoch[21] Learning rate is 0.001\n",
      "100%|████████████████████████████████████████████████████████████| 50/50 [00:01<00:00, 28.40it/s, avg_epoch_loss=-1.63]\n",
      "INFO:root:Epoch[21] Elapsed time 1.763 seconds\n",
      "INFO:root:Epoch[21] Evaluation metric 'epoch_loss'=-1.632056\n",
      "INFO:root:Epoch[22] Learning rate is 0.001\n",
      "100%|████████████████████████████████████████████████████████████| 50/50 [00:01<00:00, 29.13it/s, avg_epoch_loss=-1.62]\n",
      "INFO:root:Epoch[22] Elapsed time 1.722 seconds\n",
      "INFO:root:Epoch[22] Evaluation metric 'epoch_loss'=-1.621947\n",
      "INFO:root:Epoch[23] Learning rate is 0.001\n",
      "100%|████████████████████████████████████████████████████████████| 50/50 [00:01<00:00, 28.41it/s, avg_epoch_loss=-1.68]\n",
      "INFO:root:Epoch[23] Elapsed time 1.764 seconds\n",
      "INFO:root:Epoch[23] Evaluation metric 'epoch_loss'=-1.675363\n",
      "INFO:root:Epoch[24] Learning rate is 0.001\n",
      "100%|████████████████████████████████████████████████████████████| 50/50 [00:01<00:00, 28.09it/s, avg_epoch_loss=-1.68]\n",
      "INFO:root:Epoch[24] Elapsed time 1.785 seconds\n",
      "INFO:root:Epoch[24] Evaluation metric 'epoch_loss'=-1.684647\n",
      "INFO:root:Epoch[25] Learning rate is 0.001\n",
      "100%|████████████████████████████████████████████████████████████| 50/50 [00:01<00:00, 28.27it/s, avg_epoch_loss=-1.67]\n",
      "INFO:root:Epoch[25] Elapsed time 1.773 seconds\n",
      "INFO:root:Epoch[25] Evaluation metric 'epoch_loss'=-1.673203\n",
      "INFO:root:Epoch[26] Learning rate is 0.001\n",
      "100%|████████████████████████████████████████████████████████████| 50/50 [00:01<00:00, 29.91it/s, avg_epoch_loss=-1.66]\n",
      "INFO:root:Epoch[26] Elapsed time 1.675 seconds\n",
      "INFO:root:Epoch[26] Evaluation metric 'epoch_loss'=-1.663110\n",
      "INFO:root:Epoch[27] Learning rate is 0.001\n",
      "100%|████████████████████████████████████████████████████████████| 50/50 [00:01<00:00, 26.64it/s, avg_epoch_loss=-1.71]\n",
      "INFO:root:Epoch[27] Elapsed time 1.884 seconds\n",
      "INFO:root:Epoch[27] Evaluation metric 'epoch_loss'=-1.710157\n",
      "INFO:root:Epoch[28] Learning rate is 0.001\n",
      "100%|████████████████████████████████████████████████████████████| 50/50 [00:01<00:00, 29.29it/s, avg_epoch_loss=-1.63]\n",
      "INFO:root:Epoch[28] Elapsed time 1.710 seconds\n",
      "INFO:root:Epoch[28] Evaluation metric 'epoch_loss'=-1.631404\n",
      "INFO:root:Epoch[29] Learning rate is 0.001\n"
     ]
    },
    {
     "name": "stderr",
     "output_type": "stream",
     "text": [
      "100%|█████████████████████████████████████████████████████████████| 50/50 [00:01<00:00, 29.15it/s, avg_epoch_loss=-1.7]\n",
      "INFO:root:Epoch[29] Elapsed time 1.720 seconds\n",
      "INFO:root:Epoch[29] Evaluation metric 'epoch_loss'=-1.701481\n",
      "INFO:root:Epoch[30] Learning rate is 0.001\n",
      "100%|████████████████████████████████████████████████████████████| 50/50 [00:01<00:00, 28.91it/s, avg_epoch_loss=-1.68]\n",
      "INFO:root:Epoch[30] Elapsed time 1.734 seconds\n",
      "INFO:root:Epoch[30] Evaluation metric 'epoch_loss'=-1.677819\n",
      "INFO:root:Epoch[31] Learning rate is 0.001\n",
      "100%|████████████████████████████████████████████████████████████| 50/50 [00:01<00:00, 30.47it/s, avg_epoch_loss=-1.65]\n",
      "INFO:root:Epoch[31] Elapsed time 1.645 seconds\n",
      "INFO:root:Epoch[31] Evaluation metric 'epoch_loss'=-1.653156\n",
      "INFO:root:Epoch[32] Learning rate is 0.001\n",
      "100%|█████████████████████████████████████████████████████████████| 50/50 [00:01<00:00, 30.08it/s, avg_epoch_loss=-1.7]\n",
      "INFO:root:Epoch[32] Elapsed time 1.666 seconds\n",
      "INFO:root:Epoch[32] Evaluation metric 'epoch_loss'=-1.701531\n",
      "INFO:root:Epoch[33] Learning rate is 0.001\n",
      "100%|████████████████████████████████████████████████████████████| 50/50 [00:01<00:00, 30.98it/s, avg_epoch_loss=-1.74]\n",
      "INFO:root:Epoch[33] Elapsed time 1.617 seconds\n",
      "INFO:root:Epoch[33] Evaluation metric 'epoch_loss'=-1.744737\n",
      "INFO:root:Epoch[34] Learning rate is 0.001\n",
      "100%|████████████████████████████████████████████████████████████| 50/50 [00:01<00:00, 30.04it/s, avg_epoch_loss=-1.74]\n",
      "INFO:root:Epoch[34] Elapsed time 1.669 seconds\n",
      "INFO:root:Epoch[34] Evaluation metric 'epoch_loss'=-1.739334\n",
      "INFO:root:Epoch[35] Learning rate is 0.001\n",
      "100%|████████████████████████████████████████████████████████████| 50/50 [00:01<00:00, 31.29it/s, avg_epoch_loss=-1.76]\n",
      "INFO:root:Epoch[35] Elapsed time 1.604 seconds\n",
      "INFO:root:Epoch[35] Evaluation metric 'epoch_loss'=-1.764164\n",
      "INFO:root:Epoch[36] Learning rate is 0.001\n",
      "100%|████████████████████████████████████████████████████████████| 50/50 [00:01<00:00, 25.80it/s, avg_epoch_loss=-1.76]\n",
      "INFO:root:Epoch[36] Elapsed time 1.941 seconds\n",
      "INFO:root:Epoch[36] Evaluation metric 'epoch_loss'=-1.759847\n",
      "INFO:root:Epoch[37] Learning rate is 0.001\n",
      "100%|████████████████████████████████████████████████████████████| 50/50 [00:02<00:00, 24.84it/s, avg_epoch_loss=-1.79]\n",
      "INFO:root:Epoch[37] Elapsed time 2.017 seconds\n",
      "INFO:root:Epoch[37] Evaluation metric 'epoch_loss'=-1.789879\n",
      "INFO:root:Epoch[38] Learning rate is 0.001\n",
      "100%|████████████████████████████████████████████████████████████| 50/50 [00:02<00:00, 23.36it/s, avg_epoch_loss=-1.78]\n",
      "INFO:root:Epoch[38] Elapsed time 2.145 seconds\n",
      "INFO:root:Epoch[38] Evaluation metric 'epoch_loss'=-1.784644\n",
      "INFO:root:Epoch[39] Learning rate is 0.001\n",
      "100%|█████████████████████████████████████████████████████████████| 50/50 [00:01<00:00, 26.15it/s, avg_epoch_loss=-1.7]\n",
      "INFO:root:Epoch[39] Elapsed time 1.917 seconds\n",
      "INFO:root:Epoch[39] Evaluation metric 'epoch_loss'=-1.695263\n",
      "INFO:root:Epoch[40] Learning rate is 0.001\n",
      "100%|████████████████████████████████████████████████████████████| 50/50 [00:01<00:00, 25.91it/s, avg_epoch_loss=-1.77]\n",
      "INFO:root:Epoch[40] Elapsed time 1.933 seconds\n",
      "INFO:root:Epoch[40] Evaluation metric 'epoch_loss'=-1.772413\n",
      "INFO:root:Epoch[41] Learning rate is 0.001\n",
      "100%|████████████████████████████████████████████████████████████| 50/50 [00:01<00:00, 25.91it/s, avg_epoch_loss=-1.75]\n",
      "INFO:root:Epoch[41] Elapsed time 1.939 seconds\n",
      "INFO:root:Epoch[41] Evaluation metric 'epoch_loss'=-1.752735\n",
      "INFO:root:Epoch[42] Learning rate is 0.001\n",
      "100%|████████████████████████████████████████████████████████████| 50/50 [00:02<00:00, 24.50it/s, avg_epoch_loss=-1.75]\n",
      "INFO:root:Epoch[42] Elapsed time 2.045 seconds\n",
      "INFO:root:Epoch[42] Evaluation metric 'epoch_loss'=-1.747854\n",
      "INFO:root:Epoch[43] Learning rate is 0.001\n",
      "100%|████████████████████████████████████████████████████████████| 50/50 [00:01<00:00, 25.90it/s, avg_epoch_loss=-1.76]\n",
      "INFO:root:Epoch[43] Elapsed time 1.934 seconds\n",
      "INFO:root:Epoch[43] Evaluation metric 'epoch_loss'=-1.764283\n",
      "INFO:root:Epoch[44] Learning rate is 0.001\n",
      "100%|████████████████████████████████████████████████████████████| 50/50 [00:01<00:00, 25.19it/s, avg_epoch_loss=-1.74]\n",
      "INFO:root:Epoch[44] Elapsed time 1.990 seconds\n",
      "INFO:root:Epoch[44] Evaluation metric 'epoch_loss'=-1.739570\n",
      "INFO:root:Epoch[45] Learning rate is 0.001\n",
      "100%|████████████████████████████████████████████████████████████| 50/50 [00:01<00:00, 25.46it/s, avg_epoch_loss=-1.75]\n",
      "INFO:root:Epoch[45] Elapsed time 1.968 seconds\n",
      "INFO:root:Epoch[45] Evaluation metric 'epoch_loss'=-1.752626\n",
      "INFO:root:Epoch[46] Learning rate is 0.001\n",
      "100%|█████████████████████████████████████████████████████████████| 50/50 [00:01<00:00, 31.21it/s, avg_epoch_loss=-1.8]\n",
      "INFO:root:Epoch[46] Elapsed time 1.606 seconds\n",
      "INFO:root:Epoch[46] Evaluation metric 'epoch_loss'=-1.801459\n",
      "INFO:root:Epoch[47] Learning rate is 0.001\n",
      "100%|████████████████████████████████████████████████████████████| 50/50 [00:01<00:00, 30.32it/s, avg_epoch_loss=-1.72]\n",
      "INFO:root:Epoch[47] Elapsed time 1.653 seconds\n",
      "INFO:root:Epoch[47] Evaluation metric 'epoch_loss'=-1.723622\n",
      "INFO:root:Epoch[48] Learning rate is 0.001\n",
      "100%|████████████████████████████████████████████████████████████| 50/50 [00:01<00:00, 30.83it/s, avg_epoch_loss=-1.81]\n",
      "INFO:root:Epoch[48] Elapsed time 1.625 seconds\n",
      "INFO:root:Epoch[48] Evaluation metric 'epoch_loss'=-1.814263\n",
      "INFO:root:Epoch[49] Learning rate is 0.001\n",
      "100%|████████████████████████████████████████████████████████████| 50/50 [00:01<00:00, 25.97it/s, avg_epoch_loss=-1.73]\n",
      "INFO:root:Epoch[49] Elapsed time 1.932 seconds\n",
      "INFO:root:Epoch[49] Evaluation metric 'epoch_loss'=-1.729960\n",
      "INFO:root:Epoch[50] Learning rate is 0.001\n",
      "100%|████████████████████████████████████████████████████████████| 50/50 [00:01<00:00, 25.60it/s, avg_epoch_loss=-1.76]\n",
      "INFO:root:Epoch[50] Elapsed time 1.956 seconds\n",
      "INFO:root:Epoch[50] Evaluation metric 'epoch_loss'=-1.763206\n",
      "INFO:root:Epoch[51] Learning rate is 0.001\n",
      "100%|████████████████████████████████████████████████████████████| 50/50 [00:01<00:00, 27.51it/s, avg_epoch_loss=-1.78]\n",
      "INFO:root:Epoch[51] Elapsed time 1.821 seconds\n",
      "INFO:root:Epoch[51] Evaluation metric 'epoch_loss'=-1.781200\n",
      "INFO:root:Epoch[52] Learning rate is 0.001\n",
      "100%|████████████████████████████████████████████████████████████| 50/50 [00:01<00:00, 29.99it/s, avg_epoch_loss=-1.79]\n",
      "INFO:root:Epoch[52] Elapsed time 1.671 seconds\n",
      "INFO:root:Epoch[52] Evaluation metric 'epoch_loss'=-1.786817\n",
      "INFO:root:Epoch[53] Learning rate is 0.001\n",
      "100%|████████████████████████████████████████████████████████████| 50/50 [00:01<00:00, 30.12it/s, avg_epoch_loss=-1.83]\n",
      "INFO:root:Epoch[53] Elapsed time 1.667 seconds\n",
      "INFO:root:Epoch[53] Evaluation metric 'epoch_loss'=-1.827403\n",
      "INFO:root:Epoch[54] Learning rate is 0.001\n",
      "100%|████████████████████████████████████████████████████████████| 50/50 [00:01<00:00, 29.14it/s, avg_epoch_loss=-1.81]\n",
      "INFO:root:Epoch[54] Elapsed time 1.718 seconds\n",
      "INFO:root:Epoch[54] Evaluation metric 'epoch_loss'=-1.807701\n",
      "INFO:root:Epoch[55] Learning rate is 0.001\n",
      "100%|████████████████████████████████████████████████████████████| 50/50 [00:01<00:00, 27.20it/s, avg_epoch_loss=-1.76]\n",
      "INFO:root:Epoch[55] Elapsed time 1.841 seconds\n",
      "INFO:root:Epoch[55] Evaluation metric 'epoch_loss'=-1.762391\n",
      "INFO:root:Epoch[56] Learning rate is 0.001\n",
      "100%|████████████████████████████████████████████████████████████| 50/50 [00:01<00:00, 29.71it/s, avg_epoch_loss=-1.78]\n",
      "INFO:root:Epoch[56] Elapsed time 1.686 seconds\n",
      "INFO:root:Epoch[56] Evaluation metric 'epoch_loss'=-1.782061\n",
      "INFO:root:Epoch[57] Learning rate is 0.001\n",
      "100%|████████████████████████████████████████████████████████████| 50/50 [00:01<00:00, 30.47it/s, avg_epoch_loss=-1.76]\n",
      "INFO:root:Epoch[57] Elapsed time 1.646 seconds\n",
      "INFO:root:Epoch[57] Evaluation metric 'epoch_loss'=-1.761630\n",
      "INFO:root:Epoch[58] Learning rate is 0.001\n",
      "100%|█████████████████████████████████████████████████████████████| 50/50 [00:01<00:00, 29.19it/s, avg_epoch_loss=-1.8]\n",
      "INFO:root:Epoch[58] Elapsed time 1.715 seconds\n",
      "INFO:root:Epoch[58] Evaluation metric 'epoch_loss'=-1.801380\n",
      "INFO:root:Epoch[59] Learning rate is 0.001\n"
     ]
    },
    {
     "name": "stderr",
     "output_type": "stream",
     "text": [
      "100%|████████████████████████████████████████████████████████████| 50/50 [00:01<00:00, 30.72it/s, avg_epoch_loss=-1.74]\n",
      "INFO:root:Epoch[59] Elapsed time 1.632 seconds\n",
      "INFO:root:Epoch[59] Evaluation metric 'epoch_loss'=-1.739047\n",
      "INFO:root:Epoch[60] Learning rate is 0.001\n",
      "100%|████████████████████████████████████████████████████████████| 50/50 [00:01<00:00, 26.92it/s, avg_epoch_loss=-1.81]\n",
      "INFO:root:Epoch[60] Elapsed time 1.865 seconds\n",
      "INFO:root:Epoch[60] Evaluation metric 'epoch_loss'=-1.806203\n",
      "INFO:root:Epoch[61] Learning rate is 0.001\n",
      "100%|████████████████████████████████████████████████████████████| 50/50 [00:01<00:00, 27.60it/s, avg_epoch_loss=-1.83]\n",
      "INFO:root:Epoch[61] Elapsed time 1.815 seconds\n",
      "INFO:root:Epoch[61] Evaluation metric 'epoch_loss'=-1.826914\n",
      "INFO:root:Epoch[62] Learning rate is 0.001\n",
      "100%|████████████████████████████████████████████████████████████| 50/50 [00:01<00:00, 30.52it/s, avg_epoch_loss=-1.83]\n",
      "INFO:root:Epoch[62] Elapsed time 1.641 seconds\n",
      "INFO:root:Epoch[62] Evaluation metric 'epoch_loss'=-1.826478\n",
      "INFO:root:Epoch[63] Learning rate is 0.001\n",
      "100%|████████████████████████████████████████████████████████████| 50/50 [00:01<00:00, 29.40it/s, avg_epoch_loss=-1.81]\n",
      "INFO:root:Epoch[63] Elapsed time 1.704 seconds\n",
      "INFO:root:Epoch[63] Evaluation metric 'epoch_loss'=-1.812423\n",
      "INFO:root:Loading parameters from best epoch (53)\n",
      "INFO:root:Epoch[64] Learning rate is 0.0005\n",
      "100%|████████████████████████████████████████████████████████████| 50/50 [00:01<00:00, 29.78it/s, avg_epoch_loss=-1.82]\n",
      "INFO:root:Epoch[64] Elapsed time 1.682 seconds\n",
      "INFO:root:Epoch[64] Evaluation metric 'epoch_loss'=-1.821654\n",
      "INFO:root:Epoch[65] Learning rate is 0.0005\n",
      "100%|████████████████████████████████████████████████████████████| 50/50 [00:01<00:00, 28.45it/s, avg_epoch_loss=-1.83]\n",
      "INFO:root:Epoch[65] Elapsed time 1.761 seconds\n",
      "INFO:root:Epoch[65] Evaluation metric 'epoch_loss'=-1.826403\n",
      "INFO:root:Epoch[66] Learning rate is 0.0005\n",
      "100%|████████████████████████████████████████████████████████████| 50/50 [00:01<00:00, 29.50it/s, avg_epoch_loss=-1.82]\n",
      "INFO:root:Epoch[66] Elapsed time 1.701 seconds\n",
      "INFO:root:Epoch[66] Evaluation metric 'epoch_loss'=-1.820930\n",
      "INFO:root:Epoch[67] Learning rate is 0.0005\n",
      "100%|████████████████████████████████████████████████████████████| 50/50 [00:01<00:00, 28.60it/s, avg_epoch_loss=-1.84]\n",
      "INFO:root:Epoch[67] Elapsed time 1.750 seconds\n",
      "INFO:root:Epoch[67] Evaluation metric 'epoch_loss'=-1.843027\n",
      "INFO:root:Epoch[68] Learning rate is 0.0005\n",
      "100%|████████████████████████████████████████████████████████████| 50/50 [00:01<00:00, 27.94it/s, avg_epoch_loss=-1.83]\n",
      "INFO:root:Epoch[68] Elapsed time 1.795 seconds\n",
      "INFO:root:Epoch[68] Evaluation metric 'epoch_loss'=-1.830933\n",
      "INFO:root:Epoch[69] Learning rate is 0.0005\n",
      "100%|████████████████████████████████████████████████████████████| 50/50 [00:01<00:00, 27.02it/s, avg_epoch_loss=-1.81]\n",
      "INFO:root:Epoch[69] Elapsed time 1.853 seconds\n",
      "INFO:root:Epoch[69] Evaluation metric 'epoch_loss'=-1.805598\n",
      "INFO:root:Epoch[70] Learning rate is 0.0005\n",
      "100%|████████████████████████████████████████████████████████████| 50/50 [00:01<00:00, 27.73it/s, avg_epoch_loss=-1.81]\n",
      "INFO:root:Epoch[70] Elapsed time 1.807 seconds\n",
      "INFO:root:Epoch[70] Evaluation metric 'epoch_loss'=-1.805159\n",
      "INFO:root:Epoch[71] Learning rate is 0.0005\n",
      "100%|████████████████████████████████████████████████████████████| 50/50 [00:01<00:00, 26.42it/s, avg_epoch_loss=-1.84]\n",
      "INFO:root:Epoch[71] Elapsed time 1.895 seconds\n",
      "INFO:root:Epoch[71] Evaluation metric 'epoch_loss'=-1.838694\n",
      "INFO:root:Epoch[72] Learning rate is 0.0005\n",
      "100%|████████████████████████████████████████████████████████████| 50/50 [00:01<00:00, 27.80it/s, avg_epoch_loss=-1.81]\n",
      "INFO:root:Epoch[72] Elapsed time 1.803 seconds\n",
      "INFO:root:Epoch[72] Evaluation metric 'epoch_loss'=-1.807887\n",
      "INFO:root:Epoch[73] Learning rate is 0.0005\n",
      "100%|████████████████████████████████████████████████████████████| 50/50 [00:01<00:00, 26.39it/s, avg_epoch_loss=-1.83]\n",
      "INFO:root:Epoch[73] Elapsed time 1.899 seconds\n",
      "INFO:root:Epoch[73] Evaluation metric 'epoch_loss'=-1.834142\n",
      "INFO:root:Epoch[74] Learning rate is 0.0005\n",
      "100%|████████████████████████████████████████████████████████████| 50/50 [00:02<00:00, 24.63it/s, avg_epoch_loss=-1.83]\n",
      "INFO:root:Epoch[74] Elapsed time 2.037 seconds\n",
      "INFO:root:Epoch[74] Evaluation metric 'epoch_loss'=-1.830709\n",
      "INFO:root:Epoch[75] Learning rate is 0.0005\n",
      "100%|████████████████████████████████████████████████████████████| 50/50 [00:02<00:00, 23.12it/s, avg_epoch_loss=-1.82]\n",
      "INFO:root:Epoch[75] Elapsed time 2.167 seconds\n",
      "INFO:root:Epoch[75] Evaluation metric 'epoch_loss'=-1.820553\n",
      "INFO:root:Epoch[76] Learning rate is 0.0005\n",
      "100%|████████████████████████████████████████████████████████████| 50/50 [00:02<00:00, 24.49it/s, avg_epoch_loss=-1.84]\n",
      "INFO:root:Epoch[76] Elapsed time 2.048 seconds\n",
      "INFO:root:Epoch[76] Evaluation metric 'epoch_loss'=-1.843990\n",
      "INFO:root:Epoch[77] Learning rate is 0.0005\n",
      "100%|████████████████████████████████████████████████████████████| 50/50 [00:02<00:00, 20.76it/s, avg_epoch_loss=-1.86]\n",
      "INFO:root:Epoch[77] Elapsed time 2.411 seconds\n",
      "INFO:root:Epoch[77] Evaluation metric 'epoch_loss'=-1.856082\n",
      "INFO:root:Epoch[78] Learning rate is 0.0005\n",
      "100%|████████████████████████████████████████████████████████████| 50/50 [00:02<00:00, 18.06it/s, avg_epoch_loss=-1.81]\n",
      "INFO:root:Epoch[78] Elapsed time 2.771 seconds\n",
      "INFO:root:Epoch[78] Evaluation metric 'epoch_loss'=-1.806838\n",
      "INFO:root:Epoch[79] Learning rate is 0.0005\n",
      "100%|████████████████████████████████████████████████████████████| 50/50 [00:03<00:00, 15.36it/s, avg_epoch_loss=-1.83]\n",
      "INFO:root:Epoch[79] Elapsed time 3.263 seconds\n",
      "INFO:root:Epoch[79] Evaluation metric 'epoch_loss'=-1.831533\n",
      "INFO:root:Epoch[80] Learning rate is 0.0005\n",
      "100%|████████████████████████████████████████████████████████████| 50/50 [00:02<00:00, 18.95it/s, avg_epoch_loss=-1.84]\n",
      "INFO:root:Epoch[80] Elapsed time 2.643 seconds\n",
      "INFO:root:Epoch[80] Evaluation metric 'epoch_loss'=-1.842697\n",
      "INFO:root:Epoch[81] Learning rate is 0.0005\n",
      "100%|████████████████████████████████████████████████████████████| 50/50 [00:02<00:00, 21.82it/s, avg_epoch_loss=-1.81]\n",
      "INFO:root:Epoch[81] Elapsed time 2.299 seconds\n",
      "INFO:root:Epoch[81] Evaluation metric 'epoch_loss'=-1.808087\n",
      "INFO:root:Epoch[82] Learning rate is 0.0005\n",
      "100%|████████████████████████████████████████████████████████████| 50/50 [00:02<00:00, 23.32it/s, avg_epoch_loss=-1.84]\n",
      "INFO:root:Epoch[82] Elapsed time 2.149 seconds\n",
      "INFO:root:Epoch[82] Evaluation metric 'epoch_loss'=-1.838465\n",
      "INFO:root:Epoch[83] Learning rate is 0.0005\n",
      "100%|████████████████████████████████████████████████████████████| 50/50 [00:01<00:00, 29.53it/s, avg_epoch_loss=-1.84]\n",
      "INFO:root:Epoch[83] Elapsed time 1.698 seconds\n",
      "INFO:root:Epoch[83] Evaluation metric 'epoch_loss'=-1.841143\n",
      "INFO:root:Epoch[84] Learning rate is 0.0005\n",
      "100%|████████████████████████████████████████████████████████████| 50/50 [00:01<00:00, 30.44it/s, avg_epoch_loss=-1.81]\n",
      "INFO:root:Epoch[84] Elapsed time 1.647 seconds\n",
      "INFO:root:Epoch[84] Evaluation metric 'epoch_loss'=-1.813107\n",
      "INFO:root:Epoch[85] Learning rate is 0.0005\n",
      "100%|████████████████████████████████████████████████████████████| 50/50 [00:01<00:00, 29.66it/s, avg_epoch_loss=-1.81]\n",
      "INFO:root:Epoch[85] Elapsed time 1.691 seconds\n",
      "INFO:root:Epoch[85] Evaluation metric 'epoch_loss'=-1.814791\n",
      "INFO:root:Epoch[86] Learning rate is 0.0005\n",
      "100%|████████████████████████████████████████████████████████████| 50/50 [00:01<00:00, 29.69it/s, avg_epoch_loss=-1.84]\n",
      "INFO:root:Epoch[86] Elapsed time 1.689 seconds\n",
      "INFO:root:Epoch[86] Evaluation metric 'epoch_loss'=-1.836386\n",
      "INFO:root:Epoch[87] Learning rate is 0.0005\n",
      "100%|████████████████████████████████████████████████████████████| 50/50 [00:01<00:00, 30.01it/s, avg_epoch_loss=-1.85]\n",
      "INFO:root:Epoch[87] Elapsed time 1.669 seconds\n",
      "INFO:root:Epoch[87] Evaluation metric 'epoch_loss'=-1.845591\n",
      "INFO:root:Loading parameters from best epoch (77)\n",
      "INFO:root:Epoch[88] Learning rate is 0.00025\n",
      "100%|████████████████████████████████████████████████████████████| 50/50 [00:01<00:00, 29.27it/s, avg_epoch_loss=-1.82]\n",
      "INFO:root:Epoch[88] Elapsed time 1.711 seconds\n"
     ]
    },
    {
     "name": "stderr",
     "output_type": "stream",
     "text": [
      "INFO:root:Epoch[88] Evaluation metric 'epoch_loss'=-1.821348\n",
      "INFO:root:Epoch[89] Learning rate is 0.00025\n",
      "100%|████████████████████████████████████████████████████████████| 50/50 [00:01<00:00, 27.86it/s, avg_epoch_loss=-1.83]\n",
      "INFO:root:Epoch[89] Elapsed time 1.797 seconds\n",
      "INFO:root:Epoch[89] Evaluation metric 'epoch_loss'=-1.834946\n",
      "INFO:root:Epoch[90] Learning rate is 0.00025\n",
      "100%|████████████████████████████████████████████████████████████| 50/50 [00:01<00:00, 28.02it/s, avg_epoch_loss=-1.87]\n",
      "INFO:root:Epoch[90] Elapsed time 1.789 seconds\n",
      "INFO:root:Epoch[90] Evaluation metric 'epoch_loss'=-1.872241\n",
      "INFO:root:Epoch[91] Learning rate is 0.00025\n",
      "100%|████████████████████████████████████████████████████████████| 50/50 [00:01<00:00, 29.05it/s, avg_epoch_loss=-1.83]\n",
      "INFO:root:Epoch[91] Elapsed time 1.724 seconds\n",
      "INFO:root:Epoch[91] Evaluation metric 'epoch_loss'=-1.825093\n",
      "INFO:root:Epoch[92] Learning rate is 0.00025\n",
      "100%|████████████████████████████████████████████████████████████| 50/50 [00:01<00:00, 29.75it/s, avg_epoch_loss=-1.82]\n",
      "INFO:root:Epoch[92] Elapsed time 1.683 seconds\n",
      "INFO:root:Epoch[92] Evaluation metric 'epoch_loss'=-1.820700\n",
      "INFO:root:Epoch[93] Learning rate is 0.00025\n",
      "100%|████████████████████████████████████████████████████████████| 50/50 [00:01<00:00, 29.05it/s, avg_epoch_loss=-1.84]\n",
      "INFO:root:Epoch[93] Elapsed time 1.725 seconds\n",
      "INFO:root:Epoch[93] Evaluation metric 'epoch_loss'=-1.842223\n",
      "INFO:root:Epoch[94] Learning rate is 0.00025\n",
      "100%|████████████████████████████████████████████████████████████| 50/50 [00:01<00:00, 30.12it/s, avg_epoch_loss=-1.85]\n",
      "INFO:root:Epoch[94] Elapsed time 1.664 seconds\n",
      "INFO:root:Epoch[94] Evaluation metric 'epoch_loss'=-1.854193\n",
      "INFO:root:Epoch[95] Learning rate is 0.00025\n",
      "100%|████████████████████████████████████████████████████████████| 50/50 [00:01<00:00, 28.16it/s, avg_epoch_loss=-1.86]\n",
      "INFO:root:Epoch[95] Elapsed time 1.782 seconds\n",
      "INFO:root:Epoch[95] Evaluation metric 'epoch_loss'=-1.856828\n",
      "INFO:root:Epoch[96] Learning rate is 0.00025\n",
      "100%|████████████████████████████████████████████████████████████| 50/50 [00:01<00:00, 27.42it/s, avg_epoch_loss=-1.85]\n",
      "INFO:root:Epoch[96] Elapsed time 1.828 seconds\n",
      "INFO:root:Epoch[96] Evaluation metric 'epoch_loss'=-1.852332\n",
      "INFO:root:Epoch[97] Learning rate is 0.00025\n",
      "100%|████████████████████████████████████████████████████████████| 50/50 [00:01<00:00, 27.08it/s, avg_epoch_loss=-1.83]\n",
      "INFO:root:Epoch[97] Elapsed time 1.850 seconds\n",
      "INFO:root:Epoch[97] Evaluation metric 'epoch_loss'=-1.829402\n",
      "INFO:root:Epoch[98] Learning rate is 0.00025\n",
      "100%|████████████████████████████████████████████████████████████| 50/50 [00:01<00:00, 25.01it/s, avg_epoch_loss=-1.82]\n",
      "INFO:root:Epoch[98] Elapsed time 2.003 seconds\n",
      "INFO:root:Epoch[98] Evaluation metric 'epoch_loss'=-1.823893\n",
      "INFO:root:Epoch[99] Learning rate is 0.00025\n",
      "100%|████████████████████████████████████████████████████████████| 50/50 [00:01<00:00, 26.17it/s, avg_epoch_loss=-1.83]\n",
      "INFO:root:Epoch[99] Elapsed time 1.915 seconds\n",
      "INFO:root:Epoch[99] Evaluation metric 'epoch_loss'=-1.830638\n",
      "INFO:root:Loading parameters from best epoch (90)\n",
      "INFO:root:Final loss: -1.8722410106658935 (occurred at epoch 90)\n",
      "INFO:root:End model training\n"
     ]
    }
   ],
   "source": [
    "#Create the estimator and train\n",
    "estimator = DeepAREstimator(freq=\"1d\", prediction_length=pred_len, trainer=Trainer(epochs=100))\n",
    "predictor = estimator.train(training_data=training_data)\n"
   ]
  },
  {
   "cell_type": "code",
   "execution_count": 329,
   "metadata": {},
   "outputs": [
    {
     "data": {
      "image/png": "[encoded data removed]",
      "text/plain": [
       "<Figure size 432x288 with 1 Axes>"
      ]
     },
     "metadata": {
      "needs_background": "light"
     },
     "output_type": "display_data"
    }
   ],
   "source": [
    "#Forecast\n",
    "for test_entry, forecast in zip(testing_data_plots, predictor.predict(testing_data)):\n",
    "    to_pandas(test_entry)[-60:].plot(linewidth=2)\n",
    "    forecast.plot(color='g', prediction_intervals=[50.0, 90.0])\n",
    "\n",
    "#Note that the dates are likely gonna be off. The test_entry plots daily from a given start date, instead of the normal weekly prices"
   ]
  },
  {
   "cell_type": "code",
   "execution_count": 330,
   "metadata": {},
   "outputs": [],
   "source": [
    "from gluonts.evaluation import Evaluator\n",
    "from gluonts.evaluation.backtest import make_evaluation_predictions\n",
    "forecast_it, ts_it = make_evaluation_predictions(\n",
    "    dataset=testing_data,  # test dataset\n",
    "    predictor=predictor,  # predictor\n",
    "    num_samples=100,  # number of sample paths we want for evaluation\n",
    ")"
   ]
  },
  {
   "cell_type": "markdown",
   "metadata": {},
   "source": [
    "Sample Strategy"
   ]
  },
  {
   "cell_type": "code",
   "execution_count": 39,
   "metadata": {
    "collapsed": true
   },
   "outputs": [
    {
     "name": "stdout",
     "output_type": "stream",
     "text": [
      "BUY\n",
      "BUY\n",
      "BUY\n",
      "BUY\n",
      "BUY\n",
      "SHORT\n",
      "BUY\n",
      "BUY\n",
      "BUY\n",
      "SHORT\n",
      "SHORT\n",
      "BUY\n",
      "BUY\n",
      "BUY\n",
      "BUY\n",
      "BUY\n",
      "BUY\n",
      "BUY\n",
      "BUY\n",
      "SHORT\n",
      "SHORT\n",
      "SHORT\n",
      "BUY\n",
      "BUY\n",
      "BUY\n",
      "BUY\n",
      "BUY\n",
      "BUY\n",
      "BUY\n",
      "BUY\n",
      "SHORT\n",
      "BUY\n",
      "BUY\n",
      "BUY\n",
      "SHORT\n",
      "SHORT\n",
      "BUY\n",
      "SHORT\n",
      "SHORT\n",
      "BUY\n",
      "BUY\n",
      "BUY\n",
      "SHORT\n",
      "BUY\n",
      "BUY\n",
      "SHORT\n",
      "BUY\n",
      "SHORT\n",
      "BUY\n",
      "BUY\n",
      "BUY\n",
      "BUY\n",
      "BUY\n",
      "BUY\n",
      "BUY\n",
      "SHORT\n",
      "SHORT\n",
      "BUY\n",
      "BUY\n",
      "BUY\n",
      "SHORT\n",
      "BUY\n",
      "BUY\n",
      "BUY\n",
      "BUY\n",
      "BUY\n",
      "BUY\n",
      "BUY\n",
      "BUY\n",
      "BUY\n",
      "BUY\n",
      "BUY\n",
      "BUY\n",
      "BUY\n",
      "BUY\n",
      "SHORT\n",
      "BUY\n",
      "SHORT\n",
      "SHORT\n",
      "SHORT\n",
      "BUY\n",
      "BUY\n",
      "BUY\n",
      "BUY\n",
      "BUY\n",
      "BUY\n",
      "BUY\n",
      "SHORT\n",
      "BUY\n",
      "SHORT\n",
      "BUY\n",
      "BUY\n",
      "BUY\n",
      "BUY\n",
      "BUY\n",
      "BUY\n",
      "BUY\n",
      "BUY\n",
      "BUY\n",
      "SHORT\n",
      "BUY\n",
      "BUY\n",
      "BUY\n",
      "BUY\n",
      "BUY\n",
      "SHORT\n",
      "BUY\n",
      "BUY\n",
      "BUY\n",
      "SHORT\n",
      "SHORT\n",
      "BUY\n",
      "BUY\n",
      "BUY\n",
      "BUY\n",
      "SHORT\n"
     ]
    }
   ],
   "source": [
    "test_data = temp.iloc[:int(train_ratio*len(temp))+pred_len] \n",
    "start_date = train_data.index[-1]\n",
    "\n",
    "df = pd.DataFrame()\n",
    "date= start_date\n",
    "\n",
    "for i in range(len(temp.iloc[int(train_ratio*len(temp))+pred_len:])):\n",
    "    #Compare yesterdays prediction with today's close price\n",
    "    \n",
    "    data_temp = temp.iloc[i:int(train_ratio*len(temp))+pred_len+i]\n",
    "    currentPrice = data_temp[target_asset].iloc[-1]\n",
    "    \n",
    "    #If yesterdays predicion in the df, compare the prediction with the current close price\n",
    "    if date-pd.Timedelta(1,'D') in df.index:\n",
    "        yesterdayDate = date-pd.Timedelta(1,'D') \n",
    "        if currentPrice <= df.loc[(yesterdayDate, 'lowerQ')]:\n",
    "            df.loc[(date, 'signal') ] =  'BUY'\n",
    "            print('BUY')\n",
    "        elif currentPrice >= df.loc[(yesterdayDate, 'upperQ')]:\n",
    "            df.loc[(date, 'signal') ] =  'SHORT'\n",
    "            print('SHORT')\n",
    "        else:\n",
    "            df.loc[(date, 'signal') ] =  np.nan\n",
    "    \n",
    "    \n",
    "    \n",
    "    #Compute tomorrows prediction\n",
    "\n",
    "    # Create testing datatset\n",
    "    testing_data = ListDataset(\n",
    "        [{\"start\": data_temp[target_asset].index[0],\n",
    "          \"target\": data_temp[target_asset]}],\n",
    "        freq = \"1d\"\n",
    "    )\n",
    "\n",
    "    \n",
    "    prediction = []\n",
    "    for test_entry, forecast in zip(testing_data, predictor.predict(testing_data)):\n",
    "#         to_pandas(test_entry)[-20:].plot()\n",
    "#         forecast.plot()\n",
    "#         plt.show()\n",
    "        prediction.append(forecast.quantile(0.1)[0])\n",
    "        prediction.append(forecast.mean[0])\n",
    "        prediction.append(forecast.quantile(0.9)[0])\n",
    "        \n",
    "    df.loc[(date, 'price') ] =  currentPrice \n",
    "    df.loc[(date, 'lowerQ')] = prediction[0]\n",
    "    df.loc[(date, 'mean')] = prediction[1]\n",
    "    df.loc[(date, 'upperQ')] = prediction[2]\n",
    "      \n",
    "    date += pd.Timedelta(1,'D')\n",
    "    \n",
    "    \n",
    "    \n",
    "  "
   ]
  },
  {
   "cell_type": "code",
   "execution_count": 53,
   "metadata": {},
   "outputs": [
    {
     "name": "stderr",
     "output_type": "stream",
     "text": [
      "c:\\users\\billy\\appdata\\local\\programs\\python\\python36\\lib\\site-packages\\ipykernel_launcher.py:4: SettingWithCopyWarning: \n",
      "A value is trying to be set on a copy of a slice from a DataFrame\n",
      "\n",
      "See the caveats in the documentation: http://pandas.pydata.org/pandas-docs/stable/indexing.html#indexing-view-versus-copy\n",
      "  after removing the cwd from sys.path.\n",
      "c:\\users\\billy\\appdata\\local\\programs\\python\\python36\\lib\\site-packages\\ipykernel_launcher.py:5: SettingWithCopyWarning: \n",
      "A value is trying to be set on a copy of a slice from a DataFrame\n",
      "\n",
      "See the caveats in the documentation: http://pandas.pydata.org/pandas-docs/stable/indexing.html#indexing-view-versus-copy\n",
      "  \"\"\"\n"
     ]
    }
   ],
   "source": [
    "df['returns']=df['price'].pct_change()\n",
    "df['returnsShift1'] = df['returns'].shift(-1)\n",
    "df['long'] = 0\n",
    "df['short'] = 0\n",
    "df['long'][df['signal']=='BUY']=1\n",
    "df['short'][df['signal']=='SHORT']=1\n",
    "df['numUnits'] = df['long']-df['short']\n",
    "df['marketValue'] = df['numUnits']*df['returnsShift1']\n",
    "plt.plot(np.cumsum(df['marketValue']))"
   ]
  },
  {
   "cell_type": "code",
   "execution_count": 55,
   "metadata": {},
   "outputs": [
    {
     "data": {
      "text/plain": [
       "[<matplotlib.lines.Line2D at 0x1d6ab9e0ba8>]"
      ]
     },
     "execution_count": 55,
     "metadata": {},
     "output_type": "execute_result"
    },
    {
     "data": {
      "image/png": "[encoded data removed]",
      "text/plain": [
       "<Figure size 432x288 with 1 Axes>"
      ]
     },
     "metadata": {
      "needs_background": "light"
     },
     "output_type": "display_data"
    }
   ],
   "source": [
    "plt.plot(np.cumsum(df['marketValue']))"
   ]
  },
  {
   "cell_type": "code",
   "execution_count": 50,
   "metadata": {},
   "outputs": [
    {
     "data": {
      "text/html": [
       "<div>\n",
       "<style scoped>\n",
       "    .dataframe tbody tr th:only-of-type {\n",
       "        vertical-align: middle;\n",
       "    }\n",
       "\n",
       "    .dataframe tbody tr th {\n",
       "        vertical-align: top;\n",
       "    }\n",
       "\n",
       "    .dataframe thead th {\n",
       "        text-align: right;\n",
       "    }\n",
       "</style>\n",
       "<table border=\"1\" class=\"dataframe\">\n",
       "  <thead>\n",
       "    <tr style=\"text-align: right;\">\n",
       "      <th></th>\n",
       "      <th>price</th>\n",
       "      <th>lowerQ</th>\n",
       "      <th>mean</th>\n",
       "      <th>upperQ</th>\n",
       "      <th>signal</th>\n",
       "      <th>returns</th>\n",
       "      <th>returnsShift1</th>\n",
       "      <th>long</th>\n",
       "      <th>short</th>\n",
       "    </tr>\n",
       "  </thead>\n",
       "  <tbody>\n",
       "    <tr>\n",
       "      <th>2018-05-10 02:00:00</th>\n",
       "      <td>3.109685</td>\n",
       "      <td>3.077702</td>\n",
       "      <td>3.122467</td>\n",
       "      <td>3.168359</td>\n",
       "      <td>NaN</td>\n",
       "      <td>NaN</td>\n",
       "      <td>-0.050000</td>\n",
       "      <td>0</td>\n",
       "      <td>0</td>\n",
       "    </tr>\n",
       "    <tr>\n",
       "      <th>2018-05-11 02:00:00</th>\n",
       "      <td>2.954201</td>\n",
       "      <td>3.019607</td>\n",
       "      <td>3.052762</td>\n",
       "      <td>3.086892</td>\n",
       "      <td>BUY</td>\n",
       "      <td>-0.050000</td>\n",
       "      <td>-0.055921</td>\n",
       "      <td>1</td>\n",
       "      <td>0</td>\n",
       "    </tr>\n",
       "    <tr>\n",
       "      <th>2018-05-12 02:00:00</th>\n",
       "      <td>2.788999</td>\n",
       "      <td>2.854873</td>\n",
       "      <td>2.885682</td>\n",
       "      <td>2.929694</td>\n",
       "      <td>BUY</td>\n",
       "      <td>-0.055921</td>\n",
       "      <td>-0.003484</td>\n",
       "      <td>1</td>\n",
       "      <td>0</td>\n",
       "    </tr>\n",
       "    <tr>\n",
       "      <th>2018-05-13 02:00:00</th>\n",
       "      <td>2.779281</td>\n",
       "      <td>2.762909</td>\n",
       "      <td>2.799554</td>\n",
       "      <td>2.832135</td>\n",
       "      <td>BUY</td>\n",
       "      <td>-0.003484</td>\n",
       "      <td>0.003497</td>\n",
       "      <td>1</td>\n",
       "      <td>0</td>\n",
       "    </tr>\n",
       "    <tr>\n",
       "      <th>2018-05-14 02:00:00</th>\n",
       "      <td>2.788999</td>\n",
       "      <td>2.763618</td>\n",
       "      <td>2.800965</td>\n",
       "      <td>2.842305</td>\n",
       "      <td>NaN</td>\n",
       "      <td>0.003497</td>\n",
       "      <td>-0.006969</td>\n",
       "      <td>0</td>\n",
       "      <td>0</td>\n",
       "    </tr>\n",
       "    <tr>\n",
       "      <th>2018-05-15 02:00:00</th>\n",
       "      <td>2.769563</td>\n",
       "      <td>2.747916</td>\n",
       "      <td>2.790326</td>\n",
       "      <td>2.836598</td>\n",
       "      <td>NaN</td>\n",
       "      <td>-0.006969</td>\n",
       "      <td>-0.017544</td>\n",
       "      <td>0</td>\n",
       "      <td>0</td>\n",
       "    </tr>\n",
       "    <tr>\n",
       "      <th>2018-05-16 02:00:00</th>\n",
       "      <td>2.720974</td>\n",
       "      <td>2.733409</td>\n",
       "      <td>2.768977</td>\n",
       "      <td>2.801993</td>\n",
       "      <td>BUY</td>\n",
       "      <td>-0.017544</td>\n",
       "      <td>-0.021429</td>\n",
       "      <td>1</td>\n",
       "      <td>0</td>\n",
       "    </tr>\n",
       "    <tr>\n",
       "      <th>2018-05-17 02:00:00</th>\n",
       "      <td>2.662668</td>\n",
       "      <td>2.693493</td>\n",
       "      <td>2.721950</td>\n",
       "      <td>2.751059</td>\n",
       "      <td>BUY</td>\n",
       "      <td>-0.021429</td>\n",
       "      <td>0.014599</td>\n",
       "      <td>1</td>\n",
       "      <td>0</td>\n",
       "    </tr>\n",
       "    <tr>\n",
       "      <th>2018-05-18 02:00:00</th>\n",
       "      <td>2.701539</td>\n",
       "      <td>2.677402</td>\n",
       "      <td>2.705948</td>\n",
       "      <td>2.740867</td>\n",
       "      <td>NaN</td>\n",
       "      <td>0.014599</td>\n",
       "      <td>0.003597</td>\n",
       "      <td>0</td>\n",
       "      <td>0</td>\n",
       "    </tr>\n",
       "    <tr>\n",
       "      <th>2018-05-19 02:00:00</th>\n",
       "      <td>2.711256</td>\n",
       "      <td>2.694200</td>\n",
       "      <td>2.726175</td>\n",
       "      <td>2.756060</td>\n",
       "      <td>NaN</td>\n",
       "      <td>0.003597</td>\n",
       "      <td>0.028674</td>\n",
       "      <td>0</td>\n",
       "      <td>0</td>\n",
       "    </tr>\n",
       "    <tr>\n",
       "      <th>2018-05-20 02:00:00</th>\n",
       "      <td>2.788999</td>\n",
       "      <td>2.748247</td>\n",
       "      <td>2.775428</td>\n",
       "      <td>2.806418</td>\n",
       "      <td>SHORT</td>\n",
       "      <td>0.028674</td>\n",
       "      <td>-0.010453</td>\n",
       "      <td>-1</td>\n",
       "      <td>0</td>\n",
       "    </tr>\n",
       "    <tr>\n",
       "      <th>2018-05-21 02:00:00</th>\n",
       "      <td>2.759845</td>\n",
       "      <td>2.766579</td>\n",
       "      <td>2.798260</td>\n",
       "      <td>2.831448</td>\n",
       "      <td>NaN</td>\n",
       "      <td>-0.010453</td>\n",
       "      <td>-0.010563</td>\n",
       "      <td>0</td>\n",
       "      <td>0</td>\n",
       "    </tr>\n",
       "    <tr>\n",
       "      <th>2018-05-22 02:00:00</th>\n",
       "      <td>2.730692</td>\n",
       "      <td>2.737151</td>\n",
       "      <td>2.764963</td>\n",
       "      <td>2.802644</td>\n",
       "      <td>BUY</td>\n",
       "      <td>-0.010563</td>\n",
       "      <td>-0.007117</td>\n",
       "      <td>1</td>\n",
       "      <td>0</td>\n",
       "    </tr>\n",
       "    <tr>\n",
       "      <th>2018-05-23 02:00:00</th>\n",
       "      <td>2.711256</td>\n",
       "      <td>2.704078</td>\n",
       "      <td>2.739570</td>\n",
       "      <td>2.768142</td>\n",
       "      <td>BUY</td>\n",
       "      <td>-0.007117</td>\n",
       "      <td>0.003584</td>\n",
       "      <td>1</td>\n",
       "      <td>0</td>\n",
       "    </tr>\n",
       "    <tr>\n",
       "      <th>2018-05-24 02:00:00</th>\n",
       "      <td>2.720974</td>\n",
       "      <td>2.683947</td>\n",
       "      <td>2.725263</td>\n",
       "      <td>2.756200</td>\n",
       "      <td>NaN</td>\n",
       "      <td>0.003584</td>\n",
       "      <td>-0.007143</td>\n",
       "      <td>0</td>\n",
       "      <td>0</td>\n",
       "    </tr>\n",
       "    <tr>\n",
       "      <th>2018-05-25 02:00:00</th>\n",
       "      <td>2.701539</td>\n",
       "      <td>2.684603</td>\n",
       "      <td>2.726881</td>\n",
       "      <td>2.761020</td>\n",
       "      <td>NaN</td>\n",
       "      <td>-0.007143</td>\n",
       "      <td>-0.003597</td>\n",
       "      <td>0</td>\n",
       "      <td>0</td>\n",
       "    </tr>\n",
       "    <tr>\n",
       "      <th>2018-05-26 02:00:00</th>\n",
       "      <td>2.691821</td>\n",
       "      <td>2.690860</td>\n",
       "      <td>2.718695</td>\n",
       "      <td>2.746765</td>\n",
       "      <td>NaN</td>\n",
       "      <td>-0.003597</td>\n",
       "      <td>0.000000</td>\n",
       "      <td>0</td>\n",
       "      <td>0</td>\n",
       "    </tr>\n",
       "    <tr>\n",
       "      <th>2018-05-27 02:00:00</th>\n",
       "      <td>2.691821</td>\n",
       "      <td>2.672338</td>\n",
       "      <td>2.708323</td>\n",
       "      <td>2.746896</td>\n",
       "      <td>NaN</td>\n",
       "      <td>0.000000</td>\n",
       "      <td>0.000000</td>\n",
       "      <td>0</td>\n",
       "      <td>0</td>\n",
       "    </tr>\n",
       "    <tr>\n",
       "      <th>2018-05-28 02:00:00</th>\n",
       "      <td>2.691821</td>\n",
       "      <td>2.664188</td>\n",
       "      <td>2.706503</td>\n",
       "      <td>2.743328</td>\n",
       "      <td>NaN</td>\n",
       "      <td>0.000000</td>\n",
       "      <td>0.003610</td>\n",
       "      <td>0</td>\n",
       "      <td>0</td>\n",
       "    </tr>\n",
       "    <tr>\n",
       "      <th>2018-05-29 02:00:00</th>\n",
       "      <td>2.701539</td>\n",
       "      <td>2.677185</td>\n",
       "      <td>2.715873</td>\n",
       "      <td>2.753883</td>\n",
       "      <td>NaN</td>\n",
       "      <td>0.003610</td>\n",
       "      <td>-0.003597</td>\n",
       "      <td>0</td>\n",
       "      <td>0</td>\n",
       "    </tr>\n",
       "    <tr>\n",
       "      <th>2018-05-30 02:00:00</th>\n",
       "      <td>2.691821</td>\n",
       "      <td>2.683696</td>\n",
       "      <td>2.714242</td>\n",
       "      <td>2.748149</td>\n",
       "      <td>NaN</td>\n",
       "      <td>-0.003597</td>\n",
       "      <td>-0.003610</td>\n",
       "      <td>0</td>\n",
       "      <td>0</td>\n",
       "    </tr>\n",
       "    <tr>\n",
       "      <th>2018-05-31 02:00:00</th>\n",
       "      <td>2.682103</td>\n",
       "      <td>2.674194</td>\n",
       "      <td>2.706670</td>\n",
       "      <td>2.739570</td>\n",
       "      <td>BUY</td>\n",
       "      <td>-0.003610</td>\n",
       "      <td>0.000000</td>\n",
       "      <td>1</td>\n",
       "      <td>0</td>\n",
       "    </tr>\n",
       "    <tr>\n",
       "      <th>2018-06-01 02:00:00</th>\n",
       "      <td>2.682103</td>\n",
       "      <td>2.673522</td>\n",
       "      <td>2.703030</td>\n",
       "      <td>2.738404</td>\n",
       "      <td>NaN</td>\n",
       "      <td>0.000000</td>\n",
       "      <td>0.050725</td>\n",
       "      <td>0</td>\n",
       "      <td>0</td>\n",
       "    </tr>\n",
       "    <tr>\n",
       "      <th>2018-06-02 02:00:00</th>\n",
       "      <td>2.818152</td>\n",
       "      <td>2.733709</td>\n",
       "      <td>2.774611</td>\n",
       "      <td>2.809713</td>\n",
       "      <td>SHORT</td>\n",
       "      <td>0.050725</td>\n",
       "      <td>0.013793</td>\n",
       "      <td>-1</td>\n",
       "      <td>0</td>\n",
       "    </tr>\n",
       "    <tr>\n",
       "      <th>2018-06-03 02:00:00</th>\n",
       "      <td>2.857023</td>\n",
       "      <td>2.820318</td>\n",
       "      <td>2.864744</td>\n",
       "      <td>2.901574</td>\n",
       "      <td>SHORT</td>\n",
       "      <td>0.013793</td>\n",
       "      <td>-0.023810</td>\n",
       "      <td>-1</td>\n",
       "      <td>0</td>\n",
       "    </tr>\n",
       "    <tr>\n",
       "      <th>2018-06-04 02:00:00</th>\n",
       "      <td>2.788999</td>\n",
       "      <td>2.818352</td>\n",
       "      <td>2.850992</td>\n",
       "      <td>2.887455</td>\n",
       "      <td>BUY</td>\n",
       "      <td>-0.023810</td>\n",
       "      <td>0.013937</td>\n",
       "      <td>1</td>\n",
       "      <td>0</td>\n",
       "    </tr>\n",
       "    <tr>\n",
       "      <th>2018-06-05 02:00:00</th>\n",
       "      <td>2.827870</td>\n",
       "      <td>2.810457</td>\n",
       "      <td>2.840270</td>\n",
       "      <td>2.880371</td>\n",
       "      <td>NaN</td>\n",
       "      <td>0.013937</td>\n",
       "      <td>-0.048110</td>\n",
       "      <td>0</td>\n",
       "      <td>0</td>\n",
       "    </tr>\n",
       "    <tr>\n",
       "      <th>2018-06-06 02:00:00</th>\n",
       "      <td>2.691821</td>\n",
       "      <td>2.748681</td>\n",
       "      <td>2.780092</td>\n",
       "      <td>2.809819</td>\n",
       "      <td>BUY</td>\n",
       "      <td>-0.048110</td>\n",
       "      <td>-0.018051</td>\n",
       "      <td>1</td>\n",
       "      <td>0</td>\n",
       "    </tr>\n",
       "    <tr>\n",
       "      <th>2018-06-07 02:00:00</th>\n",
       "      <td>2.643232</td>\n",
       "      <td>2.658965</td>\n",
       "      <td>2.690009</td>\n",
       "      <td>2.725439</td>\n",
       "      <td>BUY</td>\n",
       "      <td>-0.018051</td>\n",
       "      <td>-0.014706</td>\n",
       "      <td>1</td>\n",
       "      <td>0</td>\n",
       "    </tr>\n",
       "    <tr>\n",
       "      <th>2018-06-08 02:00:00</th>\n",
       "      <td>2.604361</td>\n",
       "      <td>2.612580</td>\n",
       "      <td>2.647241</td>\n",
       "      <td>2.686884</td>\n",
       "      <td>BUY</td>\n",
       "      <td>-0.014706</td>\n",
       "      <td>-0.007463</td>\n",
       "      <td>1</td>\n",
       "      <td>0</td>\n",
       "    </tr>\n",
       "    <tr>\n",
       "      <th>...</th>\n",
       "      <td>...</td>\n",
       "      <td>...</td>\n",
       "      <td>...</td>\n",
       "      <td>...</td>\n",
       "      <td>...</td>\n",
       "      <td>...</td>\n",
       "      <td>...</td>\n",
       "      <td>...</td>\n",
       "      <td>...</td>\n",
       "    </tr>\n",
       "    <tr>\n",
       "      <th>2019-04-03 02:00:00</th>\n",
       "      <td>3.710001</td>\n",
       "      <td>3.646609</td>\n",
       "      <td>3.696594</td>\n",
       "      <td>3.738899</td>\n",
       "      <td>NaN</td>\n",
       "      <td>0.010811</td>\n",
       "      <td>-0.008087</td>\n",
       "      <td>0</td>\n",
       "      <td>0</td>\n",
       "    </tr>\n",
       "    <tr>\n",
       "      <th>2019-04-04 02:00:00</th>\n",
       "      <td>3.680000</td>\n",
       "      <td>3.676985</td>\n",
       "      <td>3.724213</td>\n",
       "      <td>3.781363</td>\n",
       "      <td>NaN</td>\n",
       "      <td>-0.008087</td>\n",
       "      <td>-0.005435</td>\n",
       "      <td>0</td>\n",
       "      <td>0</td>\n",
       "    </tr>\n",
       "    <tr>\n",
       "      <th>2019-04-05 02:00:00</th>\n",
       "      <td>3.660000</td>\n",
       "      <td>3.617780</td>\n",
       "      <td>3.672823</td>\n",
       "      <td>3.734368</td>\n",
       "      <td>BUY</td>\n",
       "      <td>-0.005435</td>\n",
       "      <td>0.016393</td>\n",
       "      <td>1</td>\n",
       "      <td>0</td>\n",
       "    </tr>\n",
       "    <tr>\n",
       "      <th>2019-04-06 02:00:00</th>\n",
       "      <td>3.720000</td>\n",
       "      <td>3.642748</td>\n",
       "      <td>3.699729</td>\n",
       "      <td>3.748233</td>\n",
       "      <td>NaN</td>\n",
       "      <td>0.016393</td>\n",
       "      <td>-0.021505</td>\n",
       "      <td>0</td>\n",
       "      <td>0</td>\n",
       "    </tr>\n",
       "    <tr>\n",
       "      <th>2019-04-07 02:00:00</th>\n",
       "      <td>3.640000</td>\n",
       "      <td>3.633440</td>\n",
       "      <td>3.687345</td>\n",
       "      <td>3.728733</td>\n",
       "      <td>BUY</td>\n",
       "      <td>-0.021505</td>\n",
       "      <td>-0.008242</td>\n",
       "      <td>1</td>\n",
       "      <td>0</td>\n",
       "    </tr>\n",
       "    <tr>\n",
       "      <th>2019-04-08 02:00:00</th>\n",
       "      <td>3.610000</td>\n",
       "      <td>3.567855</td>\n",
       "      <td>3.627148</td>\n",
       "      <td>3.674951</td>\n",
       "      <td>BUY</td>\n",
       "      <td>-0.008242</td>\n",
       "      <td>-0.011080</td>\n",
       "      <td>1</td>\n",
       "      <td>0</td>\n",
       "    </tr>\n",
       "    <tr>\n",
       "      <th>2019-04-09 02:00:00</th>\n",
       "      <td>3.570000</td>\n",
       "      <td>3.532947</td>\n",
       "      <td>3.600181</td>\n",
       "      <td>3.645874</td>\n",
       "      <td>NaN</td>\n",
       "      <td>-0.011080</td>\n",
       "      <td>0.005602</td>\n",
       "      <td>0</td>\n",
       "      <td>0</td>\n",
       "    </tr>\n",
       "    <tr>\n",
       "      <th>2019-04-10 02:00:00</th>\n",
       "      <td>3.590000</td>\n",
       "      <td>3.531944</td>\n",
       "      <td>3.580391</td>\n",
       "      <td>3.633871</td>\n",
       "      <td>NaN</td>\n",
       "      <td>0.005602</td>\n",
       "      <td>0.005571</td>\n",
       "      <td>0</td>\n",
       "      <td>0</td>\n",
       "    </tr>\n",
       "    <tr>\n",
       "      <th>2019-04-11 02:00:00</th>\n",
       "      <td>3.610000</td>\n",
       "      <td>3.534557</td>\n",
       "      <td>3.595274</td>\n",
       "      <td>3.652926</td>\n",
       "      <td>NaN</td>\n",
       "      <td>0.005571</td>\n",
       "      <td>-0.002770</td>\n",
       "      <td>0</td>\n",
       "      <td>0</td>\n",
       "    </tr>\n",
       "    <tr>\n",
       "      <th>2019-04-12 02:00:00</th>\n",
       "      <td>3.600000</td>\n",
       "      <td>3.548913</td>\n",
       "      <td>3.610273</td>\n",
       "      <td>3.668941</td>\n",
       "      <td>NaN</td>\n",
       "      <td>-0.002770</td>\n",
       "      <td>-0.011111</td>\n",
       "      <td>0</td>\n",
       "      <td>0</td>\n",
       "    </tr>\n",
       "    <tr>\n",
       "      <th>2019-04-13 02:00:00</th>\n",
       "      <td>3.560000</td>\n",
       "      <td>3.548543</td>\n",
       "      <td>3.599093</td>\n",
       "      <td>3.653029</td>\n",
       "      <td>NaN</td>\n",
       "      <td>-0.011111</td>\n",
       "      <td>0.000000</td>\n",
       "      <td>0</td>\n",
       "      <td>0</td>\n",
       "    </tr>\n",
       "    <tr>\n",
       "      <th>2019-04-14 02:00:00</th>\n",
       "      <td>3.560000</td>\n",
       "      <td>3.510489</td>\n",
       "      <td>3.566727</td>\n",
       "      <td>3.617050</td>\n",
       "      <td>NaN</td>\n",
       "      <td>0.000000</td>\n",
       "      <td>0.008427</td>\n",
       "      <td>0</td>\n",
       "      <td>0</td>\n",
       "    </tr>\n",
       "    <tr>\n",
       "      <th>2019-04-15 02:00:00</th>\n",
       "      <td>3.590000</td>\n",
       "      <td>3.520556</td>\n",
       "      <td>3.572368</td>\n",
       "      <td>3.622130</td>\n",
       "      <td>NaN</td>\n",
       "      <td>0.008427</td>\n",
       "      <td>0.005571</td>\n",
       "      <td>0</td>\n",
       "      <td>0</td>\n",
       "    </tr>\n",
       "    <tr>\n",
       "      <th>2019-04-16 02:00:00</th>\n",
       "      <td>3.610000</td>\n",
       "      <td>3.532188</td>\n",
       "      <td>3.600051</td>\n",
       "      <td>3.660696</td>\n",
       "      <td>NaN</td>\n",
       "      <td>0.005571</td>\n",
       "      <td>-0.011080</td>\n",
       "      <td>0</td>\n",
       "      <td>0</td>\n",
       "    </tr>\n",
       "    <tr>\n",
       "      <th>2019-04-17 02:00:00</th>\n",
       "      <td>3.570000</td>\n",
       "      <td>3.551558</td>\n",
       "      <td>3.595399</td>\n",
       "      <td>3.657978</td>\n",
       "      <td>NaN</td>\n",
       "      <td>-0.011080</td>\n",
       "      <td>0.000000</td>\n",
       "      <td>0</td>\n",
       "      <td>0</td>\n",
       "    </tr>\n",
       "    <tr>\n",
       "      <th>2019-04-18 02:00:00</th>\n",
       "      <td>3.570000</td>\n",
       "      <td>3.525725</td>\n",
       "      <td>3.572173</td>\n",
       "      <td>3.620381</td>\n",
       "      <td>NaN</td>\n",
       "      <td>0.000000</td>\n",
       "      <td>-0.005602</td>\n",
       "      <td>0</td>\n",
       "      <td>0</td>\n",
       "    </tr>\n",
       "    <tr>\n",
       "      <th>2019-04-19 02:00:00</th>\n",
       "      <td>3.550000</td>\n",
       "      <td>3.522312</td>\n",
       "      <td>3.570015</td>\n",
       "      <td>3.627551</td>\n",
       "      <td>NaN</td>\n",
       "      <td>-0.005602</td>\n",
       "      <td>0.025352</td>\n",
       "      <td>0</td>\n",
       "      <td>0</td>\n",
       "    </tr>\n",
       "    <tr>\n",
       "      <th>2019-04-20 02:00:00</th>\n",
       "      <td>3.640000</td>\n",
       "      <td>3.546006</td>\n",
       "      <td>3.597332</td>\n",
       "      <td>3.643811</td>\n",
       "      <td>SHORT</td>\n",
       "      <td>0.025352</td>\n",
       "      <td>0.002747</td>\n",
       "      <td>-1</td>\n",
       "      <td>0</td>\n",
       "    </tr>\n",
       "    <tr>\n",
       "      <th>2019-04-21 02:00:00</th>\n",
       "      <td>3.650000</td>\n",
       "      <td>3.589274</td>\n",
       "      <td>3.652944</td>\n",
       "      <td>3.706349</td>\n",
       "      <td>SHORT</td>\n",
       "      <td>0.002747</td>\n",
       "      <td>0.000000</td>\n",
       "      <td>-1</td>\n",
       "      <td>0</td>\n",
       "    </tr>\n",
       "    <tr>\n",
       "      <th>2019-04-22 02:00:00</th>\n",
       "      <td>3.650000</td>\n",
       "      <td>3.589891</td>\n",
       "      <td>3.659261</td>\n",
       "      <td>3.728317</td>\n",
       "      <td>NaN</td>\n",
       "      <td>0.000000</td>\n",
       "      <td>-0.010959</td>\n",
       "      <td>0</td>\n",
       "      <td>0</td>\n",
       "    </tr>\n",
       "    <tr>\n",
       "      <th>2019-04-23 02:00:00</th>\n",
       "      <td>3.610000</td>\n",
       "      <td>3.585580</td>\n",
       "      <td>3.644062</td>\n",
       "      <td>3.698509</td>\n",
       "      <td>NaN</td>\n",
       "      <td>-0.010959</td>\n",
       "      <td>-0.019391</td>\n",
       "      <td>0</td>\n",
       "      <td>0</td>\n",
       "    </tr>\n",
       "    <tr>\n",
       "      <th>2019-04-24 02:00:00</th>\n",
       "      <td>3.540000</td>\n",
       "      <td>3.508873</td>\n",
       "      <td>3.575210</td>\n",
       "      <td>3.628785</td>\n",
       "      <td>BUY</td>\n",
       "      <td>-0.019391</td>\n",
       "      <td>-0.022599</td>\n",
       "      <td>1</td>\n",
       "      <td>0</td>\n",
       "    </tr>\n",
       "    <tr>\n",
       "      <th>2019-04-25 02:00:00</th>\n",
       "      <td>3.460000</td>\n",
       "      <td>3.434716</td>\n",
       "      <td>3.497669</td>\n",
       "      <td>3.550049</td>\n",
       "      <td>BUY</td>\n",
       "      <td>-0.022599</td>\n",
       "      <td>0.014451</td>\n",
       "      <td>1</td>\n",
       "      <td>0</td>\n",
       "    </tr>\n",
       "    <tr>\n",
       "      <th>2019-04-26 02:00:00</th>\n",
       "      <td>3.510000</td>\n",
       "      <td>3.442278</td>\n",
       "      <td>3.481802</td>\n",
       "      <td>3.529549</td>\n",
       "      <td>NaN</td>\n",
       "      <td>0.014451</td>\n",
       "      <td>0.000000</td>\n",
       "      <td>0</td>\n",
       "      <td>0</td>\n",
       "    </tr>\n",
       "    <tr>\n",
       "      <th>2019-04-27 02:00:00</th>\n",
       "      <td>3.510000</td>\n",
       "      <td>3.477290</td>\n",
       "      <td>3.528602</td>\n",
       "      <td>3.576678</td>\n",
       "      <td>NaN</td>\n",
       "      <td>0.000000</td>\n",
       "      <td>0.008547</td>\n",
       "      <td>0</td>\n",
       "      <td>0</td>\n",
       "    </tr>\n",
       "    <tr>\n",
       "      <th>2019-04-28 02:00:00</th>\n",
       "      <td>3.540000</td>\n",
       "      <td>3.475664</td>\n",
       "      <td>3.535530</td>\n",
       "      <td>3.604537</td>\n",
       "      <td>NaN</td>\n",
       "      <td>0.008547</td>\n",
       "      <td>-0.005650</td>\n",
       "      <td>0</td>\n",
       "      <td>0</td>\n",
       "    </tr>\n",
       "    <tr>\n",
       "      <th>2019-04-29 02:00:00</th>\n",
       "      <td>3.520000</td>\n",
       "      <td>3.493272</td>\n",
       "      <td>3.547663</td>\n",
       "      <td>3.605369</td>\n",
       "      <td>NaN</td>\n",
       "      <td>-0.005650</td>\n",
       "      <td>-0.034091</td>\n",
       "      <td>0</td>\n",
       "      <td>0</td>\n",
       "    </tr>\n",
       "    <tr>\n",
       "      <th>2019-04-30 02:00:00</th>\n",
       "      <td>3.400000</td>\n",
       "      <td>3.428805</td>\n",
       "      <td>3.475489</td>\n",
       "      <td>3.531498</td>\n",
       "      <td>BUY</td>\n",
       "      <td>-0.034091</td>\n",
       "      <td>0.005882</td>\n",
       "      <td>1</td>\n",
       "      <td>0</td>\n",
       "    </tr>\n",
       "    <tr>\n",
       "      <th>2019-05-01 02:00:00</th>\n",
       "      <td>3.420000</td>\n",
       "      <td>3.357073</td>\n",
       "      <td>3.404582</td>\n",
       "      <td>3.461908</td>\n",
       "      <td>BUY</td>\n",
       "      <td>0.005882</td>\n",
       "      <td>0.014620</td>\n",
       "      <td>1</td>\n",
       "      <td>0</td>\n",
       "    </tr>\n",
       "    <tr>\n",
       "      <th>2019-05-02 02:00:00</th>\n",
       "      <td>3.470000</td>\n",
       "      <td>3.404335</td>\n",
       "      <td>3.459432</td>\n",
       "      <td>3.518969</td>\n",
       "      <td>SHORT</td>\n",
       "      <td>0.014620</td>\n",
       "      <td>NaN</td>\n",
       "      <td>-1</td>\n",
       "      <td>0</td>\n",
       "    </tr>\n",
       "  </tbody>\n",
       "</table>\n",
       "<p>358 rows × 9 columns</p>\n",
       "</div>"
      ],
      "text/plain": [
       "                        price    lowerQ      mean    upperQ signal   returns  \\\n",
       "2018-05-10 02:00:00  3.109685  3.077702  3.122467  3.168359    NaN       NaN   \n",
       "2018-05-11 02:00:00  2.954201  3.019607  3.052762  3.086892    BUY -0.050000   \n",
       "2018-05-12 02:00:00  2.788999  2.854873  2.885682  2.929694    BUY -0.055921   \n",
       "2018-05-13 02:00:00  2.779281  2.762909  2.799554  2.832135    BUY -0.003484   \n",
       "2018-05-14 02:00:00  2.788999  2.763618  2.800965  2.842305    NaN  0.003497   \n",
       "2018-05-15 02:00:00  2.769563  2.747916  2.790326  2.836598    NaN -0.006969   \n",
       "2018-05-16 02:00:00  2.720974  2.733409  2.768977  2.801993    BUY -0.017544   \n",
       "2018-05-17 02:00:00  2.662668  2.693493  2.721950  2.751059    BUY -0.021429   \n",
       "2018-05-18 02:00:00  2.701539  2.677402  2.705948  2.740867    NaN  0.014599   \n",
       "2018-05-19 02:00:00  2.711256  2.694200  2.726175  2.756060    NaN  0.003597   \n",
       "2018-05-20 02:00:00  2.788999  2.748247  2.775428  2.806418  SHORT  0.028674   \n",
       "2018-05-21 02:00:00  2.759845  2.766579  2.798260  2.831448    NaN -0.010453   \n",
       "2018-05-22 02:00:00  2.730692  2.737151  2.764963  2.802644    BUY -0.010563   \n",
       "2018-05-23 02:00:00  2.711256  2.704078  2.739570  2.768142    BUY -0.007117   \n",
       "2018-05-24 02:00:00  2.720974  2.683947  2.725263  2.756200    NaN  0.003584   \n",
       "2018-05-25 02:00:00  2.701539  2.684603  2.726881  2.761020    NaN -0.007143   \n",
       "2018-05-26 02:00:00  2.691821  2.690860  2.718695  2.746765    NaN -0.003597   \n",
       "2018-05-27 02:00:00  2.691821  2.672338  2.708323  2.746896    NaN  0.000000   \n",
       "2018-05-28 02:00:00  2.691821  2.664188  2.706503  2.743328    NaN  0.000000   \n",
       "2018-05-29 02:00:00  2.701539  2.677185  2.715873  2.753883    NaN  0.003610   \n",
       "2018-05-30 02:00:00  2.691821  2.683696  2.714242  2.748149    NaN -0.003597   \n",
       "2018-05-31 02:00:00  2.682103  2.674194  2.706670  2.739570    BUY -0.003610   \n",
       "2018-06-01 02:00:00  2.682103  2.673522  2.703030  2.738404    NaN  0.000000   \n",
       "2018-06-02 02:00:00  2.818152  2.733709  2.774611  2.809713  SHORT  0.050725   \n",
       "2018-06-03 02:00:00  2.857023  2.820318  2.864744  2.901574  SHORT  0.013793   \n",
       "2018-06-04 02:00:00  2.788999  2.818352  2.850992  2.887455    BUY -0.023810   \n",
       "2018-06-05 02:00:00  2.827870  2.810457  2.840270  2.880371    NaN  0.013937   \n",
       "2018-06-06 02:00:00  2.691821  2.748681  2.780092  2.809819    BUY -0.048110   \n",
       "2018-06-07 02:00:00  2.643232  2.658965  2.690009  2.725439    BUY -0.018051   \n",
       "2018-06-08 02:00:00  2.604361  2.612580  2.647241  2.686884    BUY -0.014706   \n",
       "...                       ...       ...       ...       ...    ...       ...   \n",
       "2019-04-03 02:00:00  3.710001  3.646609  3.696594  3.738899    NaN  0.010811   \n",
       "2019-04-04 02:00:00  3.680000  3.676985  3.724213  3.781363    NaN -0.008087   \n",
       "2019-04-05 02:00:00  3.660000  3.617780  3.672823  3.734368    BUY -0.005435   \n",
       "2019-04-06 02:00:00  3.720000  3.642748  3.699729  3.748233    NaN  0.016393   \n",
       "2019-04-07 02:00:00  3.640000  3.633440  3.687345  3.728733    BUY -0.021505   \n",
       "2019-04-08 02:00:00  3.610000  3.567855  3.627148  3.674951    BUY -0.008242   \n",
       "2019-04-09 02:00:00  3.570000  3.532947  3.600181  3.645874    NaN -0.011080   \n",
       "2019-04-10 02:00:00  3.590000  3.531944  3.580391  3.633871    NaN  0.005602   \n",
       "2019-04-11 02:00:00  3.610000  3.534557  3.595274  3.652926    NaN  0.005571   \n",
       "2019-04-12 02:00:00  3.600000  3.548913  3.610273  3.668941    NaN -0.002770   \n",
       "2019-04-13 02:00:00  3.560000  3.548543  3.599093  3.653029    NaN -0.011111   \n",
       "2019-04-14 02:00:00  3.560000  3.510489  3.566727  3.617050    NaN  0.000000   \n",
       "2019-04-15 02:00:00  3.590000  3.520556  3.572368  3.622130    NaN  0.008427   \n",
       "2019-04-16 02:00:00  3.610000  3.532188  3.600051  3.660696    NaN  0.005571   \n",
       "2019-04-17 02:00:00  3.570000  3.551558  3.595399  3.657978    NaN -0.011080   \n",
       "2019-04-18 02:00:00  3.570000  3.525725  3.572173  3.620381    NaN  0.000000   \n",
       "2019-04-19 02:00:00  3.550000  3.522312  3.570015  3.627551    NaN -0.005602   \n",
       "2019-04-20 02:00:00  3.640000  3.546006  3.597332  3.643811  SHORT  0.025352   \n",
       "2019-04-21 02:00:00  3.650000  3.589274  3.652944  3.706349  SHORT  0.002747   \n",
       "2019-04-22 02:00:00  3.650000  3.589891  3.659261  3.728317    NaN  0.000000   \n",
       "2019-04-23 02:00:00  3.610000  3.585580  3.644062  3.698509    NaN -0.010959   \n",
       "2019-04-24 02:00:00  3.540000  3.508873  3.575210  3.628785    BUY -0.019391   \n",
       "2019-04-25 02:00:00  3.460000  3.434716  3.497669  3.550049    BUY -0.022599   \n",
       "2019-04-26 02:00:00  3.510000  3.442278  3.481802  3.529549    NaN  0.014451   \n",
       "2019-04-27 02:00:00  3.510000  3.477290  3.528602  3.576678    NaN  0.000000   \n",
       "2019-04-28 02:00:00  3.540000  3.475664  3.535530  3.604537    NaN  0.008547   \n",
       "2019-04-29 02:00:00  3.520000  3.493272  3.547663  3.605369    NaN -0.005650   \n",
       "2019-04-30 02:00:00  3.400000  3.428805  3.475489  3.531498    BUY -0.034091   \n",
       "2019-05-01 02:00:00  3.420000  3.357073  3.404582  3.461908    BUY  0.005882   \n",
       "2019-05-02 02:00:00  3.470000  3.404335  3.459432  3.518969  SHORT  0.014620   \n",
       "\n",
       "                     returnsShift1  long  short  \n",
       "2018-05-10 02:00:00      -0.050000     0      0  \n",
       "2018-05-11 02:00:00      -0.055921     1      0  \n",
       "2018-05-12 02:00:00      -0.003484     1      0  \n",
       "2018-05-13 02:00:00       0.003497     1      0  \n",
       "2018-05-14 02:00:00      -0.006969     0      0  \n",
       "2018-05-15 02:00:00      -0.017544     0      0  \n",
       "2018-05-16 02:00:00      -0.021429     1      0  \n",
       "2018-05-17 02:00:00       0.014599     1      0  \n",
       "2018-05-18 02:00:00       0.003597     0      0  \n",
       "2018-05-19 02:00:00       0.028674     0      0  \n",
       "2018-05-20 02:00:00      -0.010453    -1      0  \n",
       "2018-05-21 02:00:00      -0.010563     0      0  \n",
       "2018-05-22 02:00:00      -0.007117     1      0  \n",
       "2018-05-23 02:00:00       0.003584     1      0  \n",
       "2018-05-24 02:00:00      -0.007143     0      0  \n",
       "2018-05-25 02:00:00      -0.003597     0      0  \n",
       "2018-05-26 02:00:00       0.000000     0      0  \n",
       "2018-05-27 02:00:00       0.000000     0      0  \n",
       "2018-05-28 02:00:00       0.003610     0      0  \n",
       "2018-05-29 02:00:00      -0.003597     0      0  \n",
       "2018-05-30 02:00:00      -0.003610     0      0  \n",
       "2018-05-31 02:00:00       0.000000     1      0  \n",
       "2018-06-01 02:00:00       0.050725     0      0  \n",
       "2018-06-02 02:00:00       0.013793    -1      0  \n",
       "2018-06-03 02:00:00      -0.023810    -1      0  \n",
       "2018-06-04 02:00:00       0.013937     1      0  \n",
       "2018-06-05 02:00:00      -0.048110     0      0  \n",
       "2018-06-06 02:00:00      -0.018051     1      0  \n",
       "2018-06-07 02:00:00      -0.014706     1      0  \n",
       "2018-06-08 02:00:00      -0.007463     1      0  \n",
       "...                            ...   ...    ...  \n",
       "2019-04-03 02:00:00      -0.008087     0      0  \n",
       "2019-04-04 02:00:00      -0.005435     0      0  \n",
       "2019-04-05 02:00:00       0.016393     1      0  \n",
       "2019-04-06 02:00:00      -0.021505     0      0  \n",
       "2019-04-07 02:00:00      -0.008242     1      0  \n",
       "2019-04-08 02:00:00      -0.011080     1      0  \n",
       "2019-04-09 02:00:00       0.005602     0      0  \n",
       "2019-04-10 02:00:00       0.005571     0      0  \n",
       "2019-04-11 02:00:00      -0.002770     0      0  \n",
       "2019-04-12 02:00:00      -0.011111     0      0  \n",
       "2019-04-13 02:00:00       0.000000     0      0  \n",
       "2019-04-14 02:00:00       0.008427     0      0  \n",
       "2019-04-15 02:00:00       0.005571     0      0  \n",
       "2019-04-16 02:00:00      -0.011080     0      0  \n",
       "2019-04-17 02:00:00       0.000000     0      0  \n",
       "2019-04-18 02:00:00      -0.005602     0      0  \n",
       "2019-04-19 02:00:00       0.025352     0      0  \n",
       "2019-04-20 02:00:00       0.002747    -1      0  \n",
       "2019-04-21 02:00:00       0.000000    -1      0  \n",
       "2019-04-22 02:00:00      -0.010959     0      0  \n",
       "2019-04-23 02:00:00      -0.019391     0      0  \n",
       "2019-04-24 02:00:00      -0.022599     1      0  \n",
       "2019-04-25 02:00:00       0.014451     1      0  \n",
       "2019-04-26 02:00:00       0.000000     0      0  \n",
       "2019-04-27 02:00:00       0.008547     0      0  \n",
       "2019-04-28 02:00:00      -0.005650     0      0  \n",
       "2019-04-29 02:00:00      -0.034091     0      0  \n",
       "2019-04-30 02:00:00       0.005882     1      0  \n",
       "2019-05-01 02:00:00       0.014620     1      0  \n",
       "2019-05-02 02:00:00            NaN    -1      0  \n",
       "\n",
       "[358 rows x 9 columns]"
      ]
     },
     "execution_count": 50,
     "metadata": {},
     "output_type": "execute_result"
    }
   ],
   "source": [
    "df"
   ]
  },
  {
   "cell_type": "code",
   "execution_count": 331,
   "metadata": {},
   "outputs": [
    {
     "name": "stderr",
     "output_type": "stream",
     "text": [
      "Running evaluation: 100%|███████████████████████████████████████████████████████████████| 1/1 [00:00<00:00, 111.43it/s]\n"
     ]
    }
   ],
   "source": [
    "forecasts = list(forecast_it)\n",
    "tss = list(ts_it)\n",
    "evaluator = Evaluator(quantiles=[0.1, 0.5, 0.9])\n",
    "agg_metrics, item_metrics = evaluator(iter(tss), iter(forecasts), num_series=len(testing_data))\n"
   ]
  },
  {
   "cell_type": "code",
   "execution_count": 332,
   "metadata": {},
   "outputs": [
    {
     "data": {
      "text/plain": [
       "{'MSE': 0.003224199404940009,\n",
       " 'abs_error': 0.10596871376037598,\n",
       " 'abs_target_sum': 6.287394046783447,\n",
       " 'abs_target_mean': 3.1436970233917236,\n",
       " 'seasonal_error': 0.03717831440572265,\n",
       " 'MASE': 1.4251414494475416,\n",
       " 'sMAPE': 0.01672376855636553,\n",
       " 'MSIS': 4.344551556353693,\n",
       " 'QuantileLoss[0.1]': 0.012646675109863281,\n",
       " 'Coverage[0.1]': 0.0,\n",
       " 'QuantileLoss[0.5]': 0.10596871376037598,\n",
       " 'Coverage[0.5]': 1.0,\n",
       " 'QuantileLoss[0.9]': 0.05196256637573241,\n",
       " 'Coverage[0.9]': 1.0,\n",
       " 'RMSE': 0.05678203417402382,\n",
       " 'NRMSE': 0.01806218403094134,\n",
       " 'ND': 0.01685415499201744,\n",
       " 'wQuantileLoss[0.1]': 0.002011433515342205,\n",
       " 'wQuantileLoss[0.5]': 0.01685415499201744,\n",
       " 'wQuantileLoss[0.9]': 0.008264563345177294,\n",
       " 'mean_wQuantileLoss': 0.009043383950845647,\n",
       " 'MAE_Coverage': 0.2333333333333333}"
      ]
     },
     "execution_count": 332,
     "metadata": {},
     "output_type": "execute_result"
    }
   ],
   "source": [
    "agg_metrics"
   ]
  },
  {
   "cell_type": "markdown",
   "metadata": {},
   "source": [
    "## DEEP STATE SAMPLE UNIVARIATE"
   ]
  },
  {
   "cell_type": "code",
   "execution_count": 4,
   "metadata": {},
   "outputs": [],
   "source": [
    "from gluonts.trainer import Trainer\n",
    "from gluonts.dataset.common import ListDataset\n",
    "from gluonts.dataset.util import to_pandas\n",
    "\n",
    "pred_len = 3\n",
    "\n",
    "\n",
    "#Read Data\n",
    "data = pickle.load(open( \"D:/PRISMO/historicalData/Data/asx200nobiasFINAL.pickle\", \"rb\" ) )\n",
    "data = pickle.load(open('D:/PRISMO/historicalData/data/asx200nobiasFINAL.pickle','rb'))\n",
    "data_ = data.xs('OPEN',axis=1,level=1).dropna()\n",
    "stocks = data_.columns\n",
    "#Concatenate open and close prices\n",
    "data_open = data.xs('OPEN',axis=1,level=1)\n",
    "data_open.index = data_open.index+pd.Timedelta(10,'H')\n",
    "data_close = data.xs('CLOSE',axis=1,level=1)\n",
    "data_close.index = data_open.index+pd.Timedelta(16,'H')\n",
    "openAndClose = pd.concat([data_open,data_close]).sort_index()\n",
    "stocks = openAndClose.columns\n",
    "\n",
    "# temp = data_close[['TLS.AX','SKC.AX','ABP.AX','SPK.AX']].dropna()\n",
    "temp = data_close[['TLS.AX','SKC.AX']].dropna()\n",
    "train_ratio = 0.9\n",
    "test_ratio = 0.11\n",
    "\n",
    "train_data = temp.iloc[:int(train_ratio*len(temp))]\n",
    "test_data = temp.iloc[:int(train_ratio*len(temp))+pred_len]\n",
    "\n",
    "\n",
    "\n",
    "#FUCK THIS API BUT ALSO NOT REALLY ITS REALLY GOOD BUT FFS DOCUMENT THIS THIS BETTER\n",
    "\n",
    "# target shape: (num_series, ts_length)\n",
    "# feat_dynamic_real shape: (num_series, num_features, ts_length)\n",
    "    \n",
    "    \n",
    "# The training data will have form (ts_length,), since its univariate\n",
    "\n",
    "target_asset = temp.columns[0]\n",
    "feature_assets = temp.columns[1:]\n",
    "'feat_dynamic_real'\n",
    "\n",
    "#Create univariate dataset\n",
    "training_data = ListDataset(\n",
    "    [{\"start\": train_data[target_asset].index[0],\n",
    "      \"target\": train_data[target_asset],\n",
    "      'feat_dynamic_real': train_data[feature_assets].values.T}],\n",
    "    freq = \"1d\"\n",
    ")\n",
    "\n",
    "# Create testing datatset\n",
    "testing_data = ListDataset(\n",
    "    [{\"start\": test_data[target_asset].index[0],\n",
    "      \"target\": train_data[target_asset],\n",
    "      'feat_dynamic_real': test_data[feature_assets].values.T}],\n",
    "    freq = \"1d\"\n",
    ")\n",
    "\n",
    "# Create testing datatset\n",
    "testing_data_plots = ListDataset(\n",
    "    [{\"start\": test_data[target_asset].index[0],\n",
    "      \"target\": test_data[target_asset],\n",
    "      'feat_dynamic_real': test_data[feature_assets].values.T}],\n",
    "    freq = \"1d\"\n",
    ")\n",
    "\n",
    "from gluonts.model.deepstate import DeepStateEstimator\n",
    "\n",
    "#Create the estimator and train\n",
    "estimator = DeepStateEstimator(freq=\"1d\", prediction_length=pred_len,\n",
    "                               use_feat_static_cat=False, \n",
    "                               use_feat_dynamic_real=True,\n",
    "                               cardinality=[1],\n",
    "                               trainer = Trainer(epochs=10))\n",
    "#                                add_trend = True,\n",
    "#                                num_periods_to_train = 30)\n",
    "\n",
    "predictor = estimator.train(training_data=training_data)"
   ]
  },
  {
   "cell_type": "code",
   "execution_count": null,
   "metadata": {},
   "outputs": [],
   "source": []
  }
 ],
 "metadata": {
  "kernelspec": {
   "display_name": "Python 3",
   "language": "python",
   "name": "python3"
  },
  "language_info": {
   "codemirror_mode": {
    "name": "ipython",
    "version": 3
   },
   "file_extension": ".py",
   "mimetype": "text/x-python",
   "name": "python",
   "nbconvert_exporter": "python",
   "pygments_lexer": "ipython3",
   "version": "3.6.7"
  }
 },
 "nbformat": 4,
 "nbformat_minor": 2
}
